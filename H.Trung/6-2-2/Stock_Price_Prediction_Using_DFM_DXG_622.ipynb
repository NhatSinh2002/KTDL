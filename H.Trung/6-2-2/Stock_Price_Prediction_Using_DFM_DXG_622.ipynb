{
  "cells": [
    {
      "cell_type": "code",
      "execution_count": 7,
      "metadata": {
        "id": "jUn9HyR-KLQl"
      },
      "outputs": [],
      "source": [
        "#Import các thư viện cần thiết\n",
        "import pandas as pd\n",
        "import numpy as np\n",
        "import matplotlib.pyplot as plt\n",
        "import statsmodels.api as sm\n",
        "import pandas as pd"
      ]
    },
    {
      "cell_type": "code",
      "execution_count": 8,
      "metadata": {
        "id": "TaKQyJStKPTU"
      },
      "outputs": [],
      "source": [
        "# Đọc dữ liệu từ file CSV\n",
        "data = pd.read_csv('DXG Historical Data.csv')\n",
        "\n",
        "# Đặt lại tên cột\n",
        "data.columns=[ 'Date', 'Close', 'Open', 'High', 'Low', 'Vol', 'Change']\n",
        "\n",
        "# Tiền xử lý dữ liệu\n",
        "data['Date'] = pd.to_datetime(data['Date'])\n",
        "data['Close'] = data['Close'].apply(lambda x: float(x.replace(\",\", \"\")))\n",
        "data['Open'] = data['Open'].apply(lambda x: float(x.replace(\",\", \"\")))\n",
        "data['High'] = data['High'].apply(lambda x: float(x.replace(\",\", \"\")))\n",
        "data['Low'] = data['Low'].apply(lambda x: float(x.replace(\",\", \"\")))\n",
        "data['Vol'] = data['Vol'].apply(lambda x: float(x.rstrip('M').rstrip('K')) * 1e6 if 'M' in x else float(x.rstrip('K')) * 1e3)\n",
        "\n",
        "# Sắp xếp dữ liệu tăng dần theo cột Date\n",
        "data = data.sort_values('Date')"
      ]
    },
    {
      "cell_type": "code",
      "execution_count": 9,
      "metadata": {
        "colab": {
          "base_uri": "https://localhost:8080/",
          "height": 424
        },
        "id": "5OLTIkz5hoaL",
        "outputId": "8f416a55-4aea-4a97-a491-c500a02bee1b"
      },
      "outputs": [
        {
          "data": {
            "text/html": [
              "<div>\n",
              "<style scoped>\n",
              "    .dataframe tbody tr th:only-of-type {\n",
              "        vertical-align: middle;\n",
              "    }\n",
              "\n",
              "    .dataframe tbody tr th {\n",
              "        vertical-align: top;\n",
              "    }\n",
              "\n",
              "    .dataframe thead th {\n",
              "        text-align: right;\n",
              "    }\n",
              "</style>\n",
              "<table border=\"1\" class=\"dataframe\">\n",
              "  <thead>\n",
              "    <tr style=\"text-align: right;\">\n",
              "      <th></th>\n",
              "      <th>Date</th>\n",
              "      <th>Close</th>\n",
              "      <th>Open</th>\n",
              "      <th>High</th>\n",
              "      <th>Low</th>\n",
              "      <th>Vol</th>\n",
              "      <th>Change</th>\n",
              "    </tr>\n",
              "  </thead>\n",
              "  <tbody>\n",
              "    <tr>\n",
              "      <th>1370</th>\n",
              "      <td>2017-12-01</td>\n",
              "      <td>12251.8</td>\n",
              "      <td>11949.3</td>\n",
              "      <td>12403.1</td>\n",
              "      <td>11919.0</td>\n",
              "      <td>8610000.0</td>\n",
              "      <td>2.79%</td>\n",
              "    </tr>\n",
              "    <tr>\n",
              "      <th>1369</th>\n",
              "      <td>2017-12-04</td>\n",
              "      <td>12705.6</td>\n",
              "      <td>12463.6</td>\n",
              "      <td>12705.6</td>\n",
              "      <td>12282.1</td>\n",
              "      <td>9420000.0</td>\n",
              "      <td>3.70%</td>\n",
              "    </tr>\n",
              "    <tr>\n",
              "      <th>1368</th>\n",
              "      <td>2017-12-05</td>\n",
              "      <td>12282.1</td>\n",
              "      <td>12705.6</td>\n",
              "      <td>12917.3</td>\n",
              "      <td>12282.1</td>\n",
              "      <td>11060000.0</td>\n",
              "      <td>-3.33%</td>\n",
              "    </tr>\n",
              "    <tr>\n",
              "      <th>1367</th>\n",
              "      <td>2017-12-06</td>\n",
              "      <td>12161.1</td>\n",
              "      <td>12161.1</td>\n",
              "      <td>12342.6</td>\n",
              "      <td>11919.0</td>\n",
              "      <td>7720000.0</td>\n",
              "      <td>-0.99%</td>\n",
              "    </tr>\n",
              "    <tr>\n",
              "      <th>1366</th>\n",
              "      <td>2017-12-07</td>\n",
              "      <td>12100.6</td>\n",
              "      <td>12161.1</td>\n",
              "      <td>12312.3</td>\n",
              "      <td>11858.5</td>\n",
              "      <td>5230000.0</td>\n",
              "      <td>-0.50%</td>\n",
              "    </tr>\n",
              "    <tr>\n",
              "      <th>...</th>\n",
              "      <td>...</td>\n",
              "      <td>...</td>\n",
              "      <td>...</td>\n",
              "      <td>...</td>\n",
              "      <td>...</td>\n",
              "      <td>...</td>\n",
              "      <td>...</td>\n",
              "    </tr>\n",
              "    <tr>\n",
              "      <th>4</th>\n",
              "      <td>2023-05-29</td>\n",
              "      <td>14600.0</td>\n",
              "      <td>14650.0</td>\n",
              "      <td>14750.0</td>\n",
              "      <td>14500.0</td>\n",
              "      <td>13240000.0</td>\n",
              "      <td>1.04%</td>\n",
              "    </tr>\n",
              "    <tr>\n",
              "      <th>3</th>\n",
              "      <td>2023-05-30</td>\n",
              "      <td>14950.0</td>\n",
              "      <td>14950.0</td>\n",
              "      <td>15200.0</td>\n",
              "      <td>14750.0</td>\n",
              "      <td>30200000.0</td>\n",
              "      <td>2.40%</td>\n",
              "    </tr>\n",
              "    <tr>\n",
              "      <th>2</th>\n",
              "      <td>2023-05-31</td>\n",
              "      <td>14900.0</td>\n",
              "      <td>14950.0</td>\n",
              "      <td>15200.0</td>\n",
              "      <td>14850.0</td>\n",
              "      <td>15100000.0</td>\n",
              "      <td>-0.33%</td>\n",
              "    </tr>\n",
              "    <tr>\n",
              "      <th>1</th>\n",
              "      <td>2023-06-01</td>\n",
              "      <td>15150.0</td>\n",
              "      <td>14900.0</td>\n",
              "      <td>15200.0</td>\n",
              "      <td>14850.0</td>\n",
              "      <td>18460000.0</td>\n",
              "      <td>1.68%</td>\n",
              "    </tr>\n",
              "    <tr>\n",
              "      <th>0</th>\n",
              "      <td>2023-06-02</td>\n",
              "      <td>15150.0</td>\n",
              "      <td>15400.0</td>\n",
              "      <td>15500.0</td>\n",
              "      <td>15000.0</td>\n",
              "      <td>20980000.0</td>\n",
              "      <td>0.00%</td>\n",
              "    </tr>\n",
              "  </tbody>\n",
              "</table>\n",
              "<p>1371 rows × 7 columns</p>\n",
              "</div>"
            ],
            "text/plain": [
              "           Date    Close     Open     High      Low         Vol  Change\n",
              "1370 2017-12-01  12251.8  11949.3  12403.1  11919.0   8610000.0   2.79%\n",
              "1369 2017-12-04  12705.6  12463.6  12705.6  12282.1   9420000.0   3.70%\n",
              "1368 2017-12-05  12282.1  12705.6  12917.3  12282.1  11060000.0  -3.33%\n",
              "1367 2017-12-06  12161.1  12161.1  12342.6  11919.0   7720000.0  -0.99%\n",
              "1366 2017-12-07  12100.6  12161.1  12312.3  11858.5   5230000.0  -0.50%\n",
              "...         ...      ...      ...      ...      ...         ...     ...\n",
              "4    2023-05-29  14600.0  14650.0  14750.0  14500.0  13240000.0   1.04%\n",
              "3    2023-05-30  14950.0  14950.0  15200.0  14750.0  30200000.0   2.40%\n",
              "2    2023-05-31  14900.0  14950.0  15200.0  14850.0  15100000.0  -0.33%\n",
              "1    2023-06-01  15150.0  14900.0  15200.0  14850.0  18460000.0   1.68%\n",
              "0    2023-06-02  15150.0  15400.0  15500.0  15000.0  20980000.0   0.00%\n",
              "\n",
              "[1371 rows x 7 columns]"
            ]
          },
          "execution_count": 9,
          "metadata": {},
          "output_type": "execute_result"
        }
      ],
      "source": [
        "#Xem lại dữ liệu sau khi xử lý hoàn tất\n",
        "data"
      ]
    },
    {
      "cell_type": "code",
      "execution_count": 10,
      "metadata": {
        "id": "dJk0VEwjKXzj"
      },
      "outputs": [],
      "source": [
        "# Chia dữ liệu thành tập huấn luyện, tập validation và tập kiểm tra\n",
        "train_size = int(0.6 * len(data))\n",
        "test_size = int(0.2 * len(data))\n",
        "val_size = len(data) - train_size - test_size\n",
        "\n",
        "train_data = data[:train_size]\n",
        "test_data = data[train_size:train_size+test_size]\n",
        "val_data = data[train_size+test_size:]"
      ]
    },
    {
      "cell_type": "code",
      "execution_count": 11,
      "metadata": {
        "id": "WFCNC7bgKoRz"
      },
      "outputs": [],
      "source": [
        "# Tạo ma trận dữ liệu\n",
        "X_train = train_data[['High', 'Low','Close', 'Open', 'Vol']].values\n",
        "X_val = val_data[['High', 'Low' , 'Close', 'Open', 'Vol']].values\n",
        "X_test = test_data[['High', 'Low', 'Close', 'Open', 'Vol']].values\n",
        "\n",
        "y_train = train_data['Close'].values\n",
        "y_val = val_data['Close'].values\n",
        "y_test = test_data['Close'].values\n"
      ]
    },
    {
      "cell_type": "code",
      "execution_count": 25,
      "metadata": {
        "colab": {
          "base_uri": "https://localhost:8080/"
        },
        "id": "nmJgKJbbmM7-",
        "outputId": "fc409a6b-aad4-44ec-d791-a525437461fb"
      },
      "outputs": [
        {
          "name": "stderr",
          "output_type": "stream",
          "text": [
            "c:\\Users\\admin\\AppData\\Local\\Programs\\Python\\Python311\\Lib\\site-packages\\statsmodels\\base\\model.py:607: ConvergenceWarning: Maximum Likelihood optimization failed to converge. Check mle_retvals\n",
            "  warnings.warn(\"Maximum Likelihood optimization failed to \"\n",
            "c:\\Users\\admin\\AppData\\Local\\Programs\\Python\\Python311\\Lib\\site-packages\\statsmodels\\base\\model.py:607: ConvergenceWarning: Maximum Likelihood optimization failed to converge. Check mle_retvals\n",
            "  warnings.warn(\"Maximum Likelihood optimization failed to \"\n",
            "c:\\Users\\admin\\AppData\\Local\\Programs\\Python\\Python311\\Lib\\site-packages\\statsmodels\\base\\model.py:607: ConvergenceWarning: Maximum Likelihood optimization failed to converge. Check mle_retvals\n",
            "  warnings.warn(\"Maximum Likelihood optimization failed to \"\n",
            "c:\\Users\\admin\\AppData\\Local\\Programs\\Python\\Python311\\Lib\\site-packages\\statsmodels\\base\\model.py:607: ConvergenceWarning: Maximum Likelihood optimization failed to converge. Check mle_retvals\n",
            "  warnings.warn(\"Maximum Likelihood optimization failed to \"\n",
            "c:\\Users\\admin\\AppData\\Local\\Programs\\Python\\Python311\\Lib\\site-packages\\statsmodels\\base\\model.py:607: ConvergenceWarning: Maximum Likelihood optimization failed to converge. Check mle_retvals\n",
            "  warnings.warn(\"Maximum Likelihood optimization failed to \"\n",
            "c:\\Users\\admin\\AppData\\Local\\Programs\\Python\\Python311\\Lib\\site-packages\\statsmodels\\base\\model.py:607: ConvergenceWarning: Maximum Likelihood optimization failed to converge. Check mle_retvals\n",
            "  warnings.warn(\"Maximum Likelihood optimization failed to \"\n",
            "c:\\Users\\admin\\AppData\\Local\\Programs\\Python\\Python311\\Lib\\site-packages\\statsmodels\\base\\model.py:607: ConvergenceWarning: Maximum Likelihood optimization failed to converge. Check mle_retvals\n",
            "  warnings.warn(\"Maximum Likelihood optimization failed to \"\n",
            "c:\\Users\\admin\\AppData\\Local\\Programs\\Python\\Python311\\Lib\\site-packages\\statsmodels\\base\\model.py:607: ConvergenceWarning: Maximum Likelihood optimization failed to converge. Check mle_retvals\n",
            "  warnings.warn(\"Maximum Likelihood optimization failed to \"\n",
            "c:\\Users\\admin\\AppData\\Local\\Programs\\Python\\Python311\\Lib\\site-packages\\statsmodels\\base\\model.py:607: ConvergenceWarning: Maximum Likelihood optimization failed to converge. Check mle_retvals\n",
            "  warnings.warn(\"Maximum Likelihood optimization failed to \"\n",
            "c:\\Users\\admin\\AppData\\Local\\Programs\\Python\\Python311\\Lib\\site-packages\\statsmodels\\base\\model.py:607: ConvergenceWarning: Maximum Likelihood optimization failed to converge. Check mle_retvals\n",
            "  warnings.warn(\"Maximum Likelihood optimization failed to \"\n",
            "c:\\Users\\admin\\AppData\\Local\\Programs\\Python\\Python311\\Lib\\site-packages\\statsmodels\\base\\model.py:607: ConvergenceWarning: Maximum Likelihood optimization failed to converge. Check mle_retvals\n",
            "  warnings.warn(\"Maximum Likelihood optimization failed to \"\n",
            "c:\\Users\\admin\\AppData\\Local\\Programs\\Python\\Python311\\Lib\\site-packages\\statsmodels\\base\\model.py:607: ConvergenceWarning: Maximum Likelihood optimization failed to converge. Check mle_retvals\n",
            "  warnings.warn(\"Maximum Likelihood optimization failed to \"\n"
          ]
        }
      ],
      "source": [
        "import numpy as np\n",
        "\n",
        "best_score = float('inf')\n",
        "best_k_factors = 0\n",
        "best_factor_order = 0\n",
        "\n",
        "for k_factors in range(1, 5):\n",
        "    for factor_order in range(1, 6):\n",
        "        try:\n",
        "            # Xây dựng The Dynamic Factor Model\n",
        "            model = sm.tsa.DynamicFactor(X_train, k_factors=k_factors, factor_order=factor_order )\n",
        "            result = model.fit()\n",
        "\n",
        "            # Dự đoán giá cổ phiếu trên tập validation\n",
        "            y_pred = result.predict(start=train_size, end=train_size+test_size-1)\n",
        "\n",
        "             # Lấy cột close từ y_pred để tính toán độ chính xác\n",
        "            y_pred_close = y_pred[:, 2]\n",
        "\n",
        "            # Đánh giá độ chính xác dự đoán trên tập test\n",
        "            score = np.mean((y_pred_close - y_test)**2)\n",
        "\n",
        "            # Lưu lại giá trị tốt nhất\n",
        "            if score < best_score:\n",
        "                best_score = score\n",
        "                best_k_factors = k_factors\n",
        "                best_factor_order = factor_order\n",
        "\n",
        "        except np.linalg.LinAlgError as e:\n",
        "            # Bỏ qua lỗi \"LU decomposition error\"\n",
        "            continue\n"
      ]
    },
    {
      "cell_type": "code",
      "execution_count": 26,
      "metadata": {
        "colab": {
          "base_uri": "https://localhost:8080/"
        },
        "id": "z93DvjI81cwD",
        "outputId": "6d082bba-35b9-4861-e603-65bee1909f04"
      },
      "outputs": [
        {
          "data": {
            "text/plain": [
              "251425023.79858842"
            ]
          },
          "execution_count": 26,
          "metadata": {},
          "output_type": "execute_result"
        }
      ],
      "source": [
        "best_score"
      ]
    },
    {
      "cell_type": "code",
      "execution_count": 27,
      "metadata": {
        "colab": {
          "base_uri": "https://localhost:8080/"
        },
        "id": "SKHJEwhlqGhG",
        "outputId": "fc74562e-1ef4-4b92-cd15-1060bb657a48"
      },
      "outputs": [
        {
          "data": {
            "text/plain": [
              "4"
            ]
          },
          "execution_count": 27,
          "metadata": {},
          "output_type": "execute_result"
        }
      ],
      "source": [
        "best_k_factors"
      ]
    },
    {
      "cell_type": "code",
      "execution_count": 28,
      "metadata": {
        "colab": {
          "base_uri": "https://localhost:8080/"
        },
        "id": "0DKRBkAEqKiO",
        "outputId": "d3f854be-feb4-4162-faa2-4c4d271428ee"
      },
      "outputs": [
        {
          "data": {
            "text/plain": [
              "2"
            ]
          },
          "execution_count": 28,
          "metadata": {},
          "output_type": "execute_result"
        }
      ],
      "source": [
        "best_factor_order"
      ]
    },
    {
      "cell_type": "code",
      "execution_count": 33,
      "metadata": {
        "colab": {
          "base_uri": "https://localhost:8080/"
        },
        "id": "U5DGI22iipsk",
        "outputId": "1667662d-4d3e-4bb6-b55e-5631aa299e28"
      },
      "outputs": [
        {
          "name": "stderr",
          "output_type": "stream",
          "text": [
            "c:\\Users\\admin\\AppData\\Local\\Programs\\Python\\Python311\\Lib\\site-packages\\statsmodels\\base\\model.py:607: ConvergenceWarning: Maximum Likelihood optimization failed to converge. Check mle_retvals\n",
            "  warnings.warn(\"Maximum Likelihood optimization failed to \"\n"
          ]
        }
      ],
      "source": [
        "\n",
        "# Xây dựng The Dynamic Factor Model với giá trị tối ưu\n",
        "model = sm.tsa.DynamicFactor(X_train, k_factors=best_k_factors, factor_order=best_factor_order)\n",
        "result = model.fit()\n",
        "# Dự đoán giá cổ phiếu trên tập kiểm tra\n",
        "y_pred_test = result.predict(start=train_size, end=train_size+test_size)\n",
        "\n",
        "# Dự đoán giá cổ phiếu trên tập kiểm tra\n",
        "y_pred_val = result.predict(start=train_size+test_size, end=len(data)-1)\n",
        "\n",
        "# Dự đoán giá cổ phiếu cho 30 ngày tiếp theo\n",
        "y_pred_future = result.predict(start=len(data), end=len(data)+29)"
      ]
    },
    {
      "cell_type": "code",
      "execution_count": 34,
      "metadata": {
        "colab": {
          "base_uri": "https://localhost:8080/",
          "height": 564
        },
        "id": "vbHm6oeiKJEw",
        "outputId": "b2fff10c-bfa6-49fd-cee4-70a67410355d"
      },
      "outputs": [
        {
          "data": {
            "image/png": "[encoded data removed]",
            "text/plain": [
              "<Figure size 1000x600 with 1 Axes>"
            ]
          },
          "metadata": {},
          "output_type": "display_data"
        }
      ],
      "source": [
        "\n",
        "# Vẽ biểu đồ\n",
        "next_30_days = pd.date_range(start=data['Date'].iloc[-1], periods=30, freq='D')\n",
        "\n",
        "plt.figure(figsize=(10, 6))\n",
        "plt.plot(data['Date'][:train_size], train_data['Close'], label='Train')\n",
        "plt.plot(data['Date'][train_size:train_size+test_size], test_data['Close'], label='Test')\n",
        "plt.plot(data['Date'][train_size+test_size:], val_data['Close'], label='Valid')\n",
        "plt.plot(data['Date'][train_size:train_size+test_size+1], y_pred_test[:,2], label='Predictions')\n",
        "plt.plot(data['Date'][train_size+test_size:], y_pred_val[:,2], label='Validate predict')\n",
        "plt.plot(next_30_days, y_pred_future[:, 2], label='Predict30days')\n",
        "\n",
        "plt.xlabel('Date')\n",
        "plt.ylabel('Stock Price')\n",
        "plt.title('Stock Price Prediction')\n",
        "plt.legend()\n",
        "plt.show()\n"
      ]
    },
    {
      "cell_type": "code",
      "execution_count": 35,
      "metadata": {
        "colab": {
          "base_uri": "https://localhost:8080/"
        },
        "id": "uUQlNFZkwpVm",
        "outputId": "4e789517-5393-42f7-935f-395fbaf48f80"
      },
      "outputs": [
        {
          "name": "stdout",
          "output_type": "stream",
          "text": [
            "Validation RMSE: 11307.683555149306\n",
            "Testing RMSE: 15880.778735530563\n",
            "Validation MAPE: 0.5334340317210656\n",
            "Testing MAPE: 0.33081910326047514\n"
          ]
        }
      ],
      "source": [
        "from sklearn.metrics import mean_absolute_percentage_error\n",
        "\n",
        "# Tính RMSE\n",
        "valid_rmse = np.sqrt(np.mean((y_pred_val[:,2] - y_val)**2))\n",
        "test_rmse = np.sqrt(np.mean((y_pred_test[1:,2] - y_test)**2))\n",
        "vail_mape = mean_absolute_percentage_error(y_val, y_pred_val[:,2])\n",
        "test_mape = mean_absolute_percentage_error(y_test, y_pred_test[1:,2])\n",
        "print('Validation RMSE:', valid_rmse)\n",
        "print('Testing RMSE:', test_rmse)\n",
        "print('Validation MAPE:', vail_mape)\n",
        "print('Testing MAPE:', test_mape)"
      ]
    }
  ],
  "metadata": {
    "colab": {
      "provenance": []
    },
    "kernelspec": {
      "display_name": "Python 3",
      "name": "python3"
    },
    "language_info": {
      "codemirror_mode": {
        "name": "ipython",
        "version": 3
      },
      "file_extension": ".py",
      "mimetype": "text/x-python",
      "name": "python",
      "nbconvert_exporter": "python",
      "pygments_lexer": "ipython3",
      "version": "3.11.2"
    }
  },
  "nbformat": 4,
  "nbformat_minor": 0
}
