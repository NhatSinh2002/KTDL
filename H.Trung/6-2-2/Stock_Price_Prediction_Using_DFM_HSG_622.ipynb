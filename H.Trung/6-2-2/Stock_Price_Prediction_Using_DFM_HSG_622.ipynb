{
  "cells": [
    {
      "cell_type": "code",
      "execution_count": 1,
      "metadata": {
        "id": "jUn9HyR-KLQl"
      },
      "outputs": [],
      "source": [
        "#Import các thư viện cần thiết\n",
        "import pandas as pd\n",
        "import numpy as np\n",
        "import matplotlib.pyplot as plt\n",
        "import statsmodels.api as sm\n",
        "import pandas as pd"
      ]
    },
    {
      "cell_type": "code",
      "execution_count": 2,
      "metadata": {
        "id": "TaKQyJStKPTU"
      },
      "outputs": [],
      "source": [
        "# Đọc dữ liệu từ file CSV\n",
        "data = pd.read_csv('HSG Historical Data.csv')\n",
        "\n",
        "# Đặt lại tên cột\n",
        "data.columns=[ 'Date', 'Close', 'Open', 'High', 'Low', 'Vol', 'Change']\n",
        "\n",
        "# data = pd.DataFrame(data)\n",
        "\n",
        "# Tiền xử lý dữ liệu\n",
        "data['Date'] = pd.to_datetime(data['Date'])\n",
        "data['Close'] = data['Close'].apply(lambda x: float(x.replace(\",\", \"\")))\n",
        "data['Open'] = data['Open'].apply(lambda x: float(x.replace(\",\", \"\")))\n",
        "data['High'] = data['High'].apply(lambda x: float(x.replace(\",\", \"\")))\n",
        "data['Low'] = data['Low'].apply(lambda x: float(x.replace(\",\", \"\")))\n",
        "data['Vol'] = data['Vol'].apply(lambda x: float(x.rstrip('M').rstrip('K')) * 1e6 if 'M' in x else float(x.rstrip('K')) * 1e3)\n",
        "data['Change'] = data['Change'].apply(lambda x: float(x.rstrip('%')))\n",
        "\n",
        "# Sắp xếp dữ liệu tăng dần theo cột Date\n",
        "data = data.sort_values('Date')"
      ]
    },
    {
      "cell_type": "code",
      "execution_count": 3,
      "metadata": {
        "colab": {
          "base_uri": "https://localhost:8080/",
          "height": 423
        },
        "id": "5OLTIkz5hoaL",
        "outputId": "e66d5cdd-48cc-4039-9ed2-5a5337717ea2"
      },
      "outputs": [
        {
          "data": {
            "text/html": [
              "<div>\n",
              "<style scoped>\n",
              "    .dataframe tbody tr th:only-of-type {\n",
              "        vertical-align: middle;\n",
              "    }\n",
              "\n",
              "    .dataframe tbody tr th {\n",
              "        vertical-align: top;\n",
              "    }\n",
              "\n",
              "    .dataframe thead th {\n",
              "        text-align: right;\n",
              "    }\n",
              "</style>\n",
              "<table border=\"1\" class=\"dataframe\">\n",
              "  <thead>\n",
              "    <tr style=\"text-align: right;\">\n",
              "      <th></th>\n",
              "      <th>Date</th>\n",
              "      <th>Close</th>\n",
              "      <th>Open</th>\n",
              "      <th>High</th>\n",
              "      <th>Low</th>\n",
              "      <th>Vol</th>\n",
              "      <th>Change</th>\n",
              "    </tr>\n",
              "  </thead>\n",
              "  <tbody>\n",
              "    <tr>\n",
              "      <th>1370</th>\n",
              "      <td>2017-12-01</td>\n",
              "      <td>13830.5</td>\n",
              "      <td>13772.9</td>\n",
              "      <td>13917.0</td>\n",
              "      <td>13657.6</td>\n",
              "      <td>4410000.0</td>\n",
              "      <td>0.84</td>\n",
              "    </tr>\n",
              "    <tr>\n",
              "      <th>1369</th>\n",
              "      <td>2017-12-04</td>\n",
              "      <td>14781.4</td>\n",
              "      <td>14061.0</td>\n",
              "      <td>14781.4</td>\n",
              "      <td>13830.5</td>\n",
              "      <td>13710000.0</td>\n",
              "      <td>6.88</td>\n",
              "    </tr>\n",
              "    <tr>\n",
              "      <th>1368</th>\n",
              "      <td>2017-12-05</td>\n",
              "      <td>14522.1</td>\n",
              "      <td>15040.7</td>\n",
              "      <td>15242.4</td>\n",
              "      <td>14522.1</td>\n",
              "      <td>12280000.0</td>\n",
              "      <td>-1.75</td>\n",
              "    </tr>\n",
              "    <tr>\n",
              "      <th>1367</th>\n",
              "      <td>2017-12-06</td>\n",
              "      <td>14896.6</td>\n",
              "      <td>14464.4</td>\n",
              "      <td>15069.5</td>\n",
              "      <td>14320.4</td>\n",
              "      <td>9470000.0</td>\n",
              "      <td>2.58</td>\n",
              "    </tr>\n",
              "    <tr>\n",
              "      <th>1366</th>\n",
              "      <td>2017-12-07</td>\n",
              "      <td>14666.1</td>\n",
              "      <td>15098.3</td>\n",
              "      <td>15184.8</td>\n",
              "      <td>14550.9</td>\n",
              "      <td>5520000.0</td>\n",
              "      <td>-1.55</td>\n",
              "    </tr>\n",
              "    <tr>\n",
              "      <th>...</th>\n",
              "      <td>...</td>\n",
              "      <td>...</td>\n",
              "      <td>...</td>\n",
              "      <td>...</td>\n",
              "      <td>...</td>\n",
              "      <td>...</td>\n",
              "      <td>...</td>\n",
              "    </tr>\n",
              "    <tr>\n",
              "      <th>4</th>\n",
              "      <td>2023-05-29</td>\n",
              "      <td>15700.0</td>\n",
              "      <td>15500.0</td>\n",
              "      <td>15700.0</td>\n",
              "      <td>15350.0</td>\n",
              "      <td>9600000.0</td>\n",
              "      <td>2.28</td>\n",
              "    </tr>\n",
              "    <tr>\n",
              "      <th>3</th>\n",
              "      <td>2023-05-30</td>\n",
              "      <td>15850.0</td>\n",
              "      <td>15800.0</td>\n",
              "      <td>16000.0</td>\n",
              "      <td>15600.0</td>\n",
              "      <td>13350000.0</td>\n",
              "      <td>0.96</td>\n",
              "    </tr>\n",
              "    <tr>\n",
              "      <th>2</th>\n",
              "      <td>2023-05-31</td>\n",
              "      <td>15400.0</td>\n",
              "      <td>15800.0</td>\n",
              "      <td>15850.0</td>\n",
              "      <td>15200.0</td>\n",
              "      <td>36230000.0</td>\n",
              "      <td>-2.84</td>\n",
              "    </tr>\n",
              "    <tr>\n",
              "      <th>1</th>\n",
              "      <td>2023-06-01</td>\n",
              "      <td>15200.0</td>\n",
              "      <td>15300.0</td>\n",
              "      <td>15350.0</td>\n",
              "      <td>14950.0</td>\n",
              "      <td>15030000.0</td>\n",
              "      <td>-1.30</td>\n",
              "    </tr>\n",
              "    <tr>\n",
              "      <th>0</th>\n",
              "      <td>2023-06-02</td>\n",
              "      <td>15500.0</td>\n",
              "      <td>15250.0</td>\n",
              "      <td>15700.0</td>\n",
              "      <td>15250.0</td>\n",
              "      <td>15490000.0</td>\n",
              "      <td>1.97</td>\n",
              "    </tr>\n",
              "  </tbody>\n",
              "</table>\n",
              "<p>1371 rows × 7 columns</p>\n",
              "</div>"
            ],
            "text/plain": [
              "           Date    Close     Open     High      Low         Vol  Change\n",
              "1370 2017-12-01  13830.5  13772.9  13917.0  13657.6   4410000.0    0.84\n",
              "1369 2017-12-04  14781.4  14061.0  14781.4  13830.5  13710000.0    6.88\n",
              "1368 2017-12-05  14522.1  15040.7  15242.4  14522.1  12280000.0   -1.75\n",
              "1367 2017-12-06  14896.6  14464.4  15069.5  14320.4   9470000.0    2.58\n",
              "1366 2017-12-07  14666.1  15098.3  15184.8  14550.9   5520000.0   -1.55\n",
              "...         ...      ...      ...      ...      ...         ...     ...\n",
              "4    2023-05-29  15700.0  15500.0  15700.0  15350.0   9600000.0    2.28\n",
              "3    2023-05-30  15850.0  15800.0  16000.0  15600.0  13350000.0    0.96\n",
              "2    2023-05-31  15400.0  15800.0  15850.0  15200.0  36230000.0   -2.84\n",
              "1    2023-06-01  15200.0  15300.0  15350.0  14950.0  15030000.0   -1.30\n",
              "0    2023-06-02  15500.0  15250.0  15700.0  15250.0  15490000.0    1.97\n",
              "\n",
              "[1371 rows x 7 columns]"
            ]
          },
          "execution_count": 3,
          "metadata": {},
          "output_type": "execute_result"
        }
      ],
      "source": [
        "#Xem lại dữ liệu sau khi xử lý hoàn tất\n",
        "data"
      ]
    },
    {
      "cell_type": "code",
      "execution_count": 4,
      "metadata": {
        "id": "dJk0VEwjKXzj"
      },
      "outputs": [],
      "source": [
        "# Chia dữ liệu thành tập huấn luyện, tập validation và tập kiểm tra\n",
        "train_size = int(0.6 * len(data))\n",
        "test_size = int(0.2 * len(data))\n",
        "val_size = len(data) - train_size - test_size\n",
        "\n",
        "train_data = data[:train_size]\n",
        "test_data = data[train_size:train_size+test_size]\n",
        "val_data = data[train_size+test_size:]"
      ]
    },
    {
      "cell_type": "code",
      "execution_count": 5,
      "metadata": {
        "id": "WFCNC7bgKoRz"
      },
      "outputs": [],
      "source": [
        "# Tạo ma trận dữ liệu\n",
        "X_train = train_data[['High', 'Low','Close', 'Open', 'Vol']].values\n",
        "X_val = val_data[['High', 'Low' , 'Close', 'Open', 'Vol']].values\n",
        "X_test = test_data[['High', 'Low', 'Close', 'Open', 'Vol']].values\n",
        "\n",
        "y_train = train_data['Close'].values\n",
        "y_val = val_data['Close'].values\n",
        "y_test = test_data['Close'].values\n"
      ]
    },
    {
      "cell_type": "code",
      "execution_count": 17,
      "metadata": {
        "colab": {
          "base_uri": "https://localhost:8080/",
          "height": 380
        },
        "id": "nmJgKJbbmM7-",
        "outputId": "c0808c6c-91f2-40a3-93ea-2e8756e445f0"
      },
      "outputs": [],
      "source": [
        "import numpy as np\n",
        "\n",
        "best_score = float('inf')\n",
        "best_k_factors = 0\n",
        "best_factor_order = 0\n",
        "\n",
        "for k_factors in range(1, 5):\n",
        "    for factor_order in range(1, 6):\n",
        "        # try:\n",
        "            # Xây dựng The Dynamic Factor Model\n",
        "            model = sm.tsa.DynamicFactor(X_train, k_factors=k_factors, factor_order=factor_order, enforce_stationarity=False)\n",
        "            result = model.fit(maxiter=100)\n",
        "\n",
        "            # Dự đoán giá cổ phiếu trên tập validation\n",
        "            y_pred = result.predict(start=train_size, end=train_size+test_size-1)\n",
        "\n",
        "             # Lấy cột close từ y_pred để tính toán độ chính xác\n",
        "            y_pred_close = y_pred[:, 2]\n",
        "\n",
        "            # Đánh giá độ chính xác dự đoán trên tập test\n",
        "            score = np.mean((y_pred_close - y_test)**2)\n",
        "\n",
        "            # Lưu lại giá trị tốt nhất\n",
        "            if score < best_score:\n",
        "                best_score = score\n",
        "                best_k_factors = k_factors\n",
        "                best_factor_order = factor_order\n",
        "\n",
        "        # except np.linalg.LinAlgError as e:\n",
        "        #     # Bỏ qua lỗi \"LU decomposition error\"\n",
        "        #     continue\n",
        "\n",
        "        # except ValueError as e:\n",
        "        #     if \"Non-stationary starting autoregressive parameters\" in str(e):\n",
        "        #       continue\n",
        "\n",
        "\n"
      ]
    },
    {
      "cell_type": "code",
      "execution_count": 18,
      "metadata": {
        "colab": {
          "base_uri": "https://localhost:8080/"
        },
        "id": "_nhOtwa23_4f",
        "outputId": "d941f769-1d6d-4ad6-8298-40526e7f1e54"
      },
      "outputs": [
        {
          "data": {
            "text/plain": [
              "1"
            ]
          },
          "execution_count": 18,
          "metadata": {},
          "output_type": "execute_result"
        }
      ],
      "source": [
        "best_k_factors"
      ]
    },
    {
      "cell_type": "code",
      "execution_count": 19,
      "metadata": {
        "colab": {
          "base_uri": "https://localhost:8080/"
        },
        "id": "Dy_PH62C4Bvz",
        "outputId": "74cdc40d-e7b1-4bab-ca53-18ec9bae3def"
      },
      "outputs": [
        {
          "data": {
            "text/plain": [
              "1"
            ]
          },
          "execution_count": 19,
          "metadata": {},
          "output_type": "execute_result"
        }
      ],
      "source": [
        "best_factor_order"
      ]
    },
    {
      "cell_type": "code",
      "execution_count": null,
      "metadata": {
        "id": "V2nwQn-_Okq8"
      },
      "outputs": [],
      "source": [
        "best_k_factors=4\n",
        "best_factor_order=9"
      ]
    },
    {
      "cell_type": "code",
      "execution_count": 20,
      "metadata": {
        "id": "U5DGI22iipsk"
      },
      "outputs": [],
      "source": [
        "\n",
        "# Xây dựng The Dynamic Factor Model với giá trị tối ưu\n",
        "best_factor_order = 0\n",
        "model = sm.tsa.DynamicFactor(X_train, k_factors=best_k_factors, factor_order=best_factor_order)\n",
        "result = model.fit()\n",
        "# Dự đoán giá cổ phiếu trên tập kiểm tra\n",
        "y_pred_test = result.predict(start=train_size, end=train_size+test_size)\n",
        "\n",
        "# Dự đoán giá cổ phiếu trên tập kiểm tra\n",
        "y_pred_val = result.predict(start=train_size+test_size, end=len(data)-1)\n",
        "\n"
      ]
    },
    {
      "cell_type": "code",
      "execution_count": 21,
      "metadata": {
        "colab": {
          "base_uri": "https://localhost:8080/",
          "height": 564
        },
        "id": "vbHm6oeiKJEw",
        "outputId": "8e56c3ca-aac0-4ab0-e91c-4fe1dde7aacf"
      },
      "outputs": [
        {
          "data": {
            "image/png": "[encoded data removed]",
            "text/plain": [
              "<Figure size 1000x600 with 1 Axes>"
            ]
          },
          "metadata": {},
          "output_type": "display_data"
        }
      ],
      "source": [
        "\n",
        "# Vẽ biểu đồ\n",
        "plt.figure(figsize=(10, 6))\n",
        "plt.plot(data['Date'][:train_size], train_data['Close'], label='Actual')\n",
        "plt.plot(data['Date'][train_size:train_size+test_size], test_data['Close'], label='Test')\n",
        "plt.plot(data['Date'][train_size+test_size:], val_data['Close'], label='Valid')\n",
        "plt.plot(data['Date'][train_size:train_size+test_size+1], y_pred_test[:,2], label='Predicted Test')\n",
        "plt.plot(data['Date'][train_size+test_size:], y_pred_val[:,2], label='Predicted Val')\n",
        "\n",
        "plt.xlabel('Date')\n",
        "plt.ylabel('Stock Price')\n",
        "plt.title('Stock Price Prediction')\n",
        "plt.legend()\n",
        "plt.show()\n"
      ]
    },
    {
      "cell_type": "code",
      "execution_count": 15,
      "metadata": {
        "colab": {
          "base_uri": "https://localhost:8080/"
        },
        "id": "uUQlNFZkwpVm",
        "outputId": "a21801ce-5cd5-4205-fdbb-55744f6ca20c"
      },
      "outputs": [
        {
          "name": "stdout",
          "output_type": "stream",
          "text": [
            "Validation RMSE: 15226.211223495788\n",
            "Testing RMSE: 31739.778799082258\n",
            "Validation MAPE: 1.0\n",
            "Testing MAPE: 1.0\n"
          ]
        }
      ],
      "source": [
        "from sklearn.metrics import mean_absolute_percentage_error\n",
        "\n",
        "# Tính RMSE\n",
        "valid_rmse = np.sqrt(np.mean((y_pred_val[:,2] - y_val)**2))\n",
        "test_rmse = np.sqrt(np.mean((y_pred_test[1:,2] - y_test)**2))\n",
        "vail_mape = mean_absolute_percentage_error(y_val, y_pred_val[:,2])\n",
        "test_mape = mean_absolute_percentage_error(y_test, y_pred_test[1:,2])\n",
        "print('Validation RMSE:', valid_rmse)\n",
        "print('Testing RMSE:', test_rmse)\n",
        "print('Validation MAPE:', vail_mape)\n",
        "print('Testing MAPE:', test_mape)"
      ]
    }
  ],
  "metadata": {
    "colab": {
      "provenance": []
    },
    "kernelspec": {
      "display_name": "Python 3",
      "name": "python3"
    },
    "language_info": {
      "codemirror_mode": {
        "name": "ipython",
        "version": 3
      },
      "file_extension": ".py",
      "mimetype": "text/x-python",
      "name": "python",
      "nbconvert_exporter": "python",
      "pygments_lexer": "ipython3",
      "version": "3.11.2"
    }
  },
  "nbformat": 4,
  "nbformat_minor": 0
}
