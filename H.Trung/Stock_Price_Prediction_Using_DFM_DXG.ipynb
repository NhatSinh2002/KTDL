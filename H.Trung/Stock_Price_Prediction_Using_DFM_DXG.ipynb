{
  "cells": [
    {
      "cell_type": "code",
      "execution_count": 190,
      "metadata": {
        "id": "jUn9HyR-KLQl"
      },
      "outputs": [],
      "source": [
        "#Import các thư viện cần thiết\n",
        "import pandas as pd\n",
        "import numpy as np\n",
        "import matplotlib.pyplot as plt\n",
        "import statsmodels.api as sm\n",
        "import pandas as pd"
      ]
    },
    {
      "cell_type": "code",
      "execution_count": 191,
      "metadata": {
        "id": "TaKQyJStKPTU"
      },
      "outputs": [],
      "source": [
        "# Đọc dữ liệu từ file CSV\n",
        "data = pd.read_csv('Dữ liệu Lịch sử DXG.csv')\n",
        "\n",
        "# Đặt lại tên cột\n",
        "data.columns=[ 'Date', 'Close', 'Open', 'High', 'Low', 'Vol', 'Change']\n",
        "\n",
        "\n",
        "# data = pd.DataFrame(data)\n",
        "\n",
        "# Tiền xử lý dữ liệu\n",
        "data['Date'] = pd.to_datetime(data['Date'], dayfirst=True)\n",
        "data['Close'] = data['Close'].apply(lambda x: float(x.replace(\",\", \"\")))\n",
        "data['Open'] = data['Open'].apply(lambda x: float(x.replace(\",\", \"\")))\n",
        "data['High'] = data['High'].apply(lambda x: float(x.replace(\",\", \"\")))\n",
        "data['Low'] = data['Low'].apply(lambda x: float(x.replace(\",\", \"\")))\n",
        "data['Vol'] = data['Vol'].apply(lambda x: float(x.rstrip('M').rstrip('K')) * 1e6 if 'M' in x else float(x.rstrip('K')) * 1e3)\n",
        "\n",
        "# Sắp xếp dữ liệu tăng dần theo cột Date\n",
        "data = data.sort_values('Date')"
      ]
    },
    {
      "cell_type": "code",
      "execution_count": 192,
      "metadata": {
        "colab": {
          "base_uri": "https://localhost:8080/",
          "height": 423
        },
        "id": "5OLTIkz5hoaL",
        "outputId": "341e720a-984e-472b-8cb3-2dbc8bc15aa9"
      },
      "outputs": [
        {
          "data": {
            "text/html": [
              "\n",
              "  <div id=\"df-53ec3a5f-af1d-4675-bff6-84a27bdc5099\">\n",
              "    <div class=\"colab-df-container\">\n",
              "      <div>\n",
              "<style scoped>\n",
              "    .dataframe tbody tr th:only-of-type {\n",
              "        vertical-align: middle;\n",
              "    }\n",
              "\n",
              "    .dataframe tbody tr th {\n",
              "        vertical-align: top;\n",
              "    }\n",
              "\n",
              "    .dataframe thead th {\n",
              "        text-align: right;\n",
              "    }\n",
              "</style>\n",
              "<table border=\"1\" class=\"dataframe\">\n",
              "  <thead>\n",
              "    <tr style=\"text-align: right;\">\n",
              "      <th></th>\n",
              "      <th>Date</th>\n",
              "      <th>Close</th>\n",
              "      <th>Open</th>\n",
              "      <th>High</th>\n",
              "      <th>Low</th>\n",
              "      <th>Vol</th>\n",
              "      <th>Change</th>\n",
              "    </tr>\n",
              "  </thead>\n",
              "  <tbody>\n",
              "    <tr>\n",
              "      <th>1348</th>\n",
              "      <td>2017-12-01</td>\n",
              "      <td>12251.8</td>\n",
              "      <td>11949.3</td>\n",
              "      <td>12403.1</td>\n",
              "      <td>11919.0</td>\n",
              "      <td>8610000.0</td>\n",
              "      <td>2.79%</td>\n",
              "    </tr>\n",
              "    <tr>\n",
              "      <th>1347</th>\n",
              "      <td>2017-12-04</td>\n",
              "      <td>12705.6</td>\n",
              "      <td>12463.6</td>\n",
              "      <td>12705.6</td>\n",
              "      <td>12282.1</td>\n",
              "      <td>9420000.0</td>\n",
              "      <td>3.70%</td>\n",
              "    </tr>\n",
              "    <tr>\n",
              "      <th>1346</th>\n",
              "      <td>2017-12-05</td>\n",
              "      <td>12282.1</td>\n",
              "      <td>12705.6</td>\n",
              "      <td>12917.3</td>\n",
              "      <td>12282.1</td>\n",
              "      <td>11060000.0</td>\n",
              "      <td>-3.33%</td>\n",
              "    </tr>\n",
              "    <tr>\n",
              "      <th>1345</th>\n",
              "      <td>2017-12-06</td>\n",
              "      <td>12161.1</td>\n",
              "      <td>12161.1</td>\n",
              "      <td>12342.6</td>\n",
              "      <td>11919.0</td>\n",
              "      <td>7720000.0</td>\n",
              "      <td>-0.99%</td>\n",
              "    </tr>\n",
              "    <tr>\n",
              "      <th>1344</th>\n",
              "      <td>2017-12-07</td>\n",
              "      <td>12100.6</td>\n",
              "      <td>12161.1</td>\n",
              "      <td>12312.3</td>\n",
              "      <td>11858.5</td>\n",
              "      <td>5230000.0</td>\n",
              "      <td>-0.50%</td>\n",
              "    </tr>\n",
              "    <tr>\n",
              "      <th>...</th>\n",
              "      <td>...</td>\n",
              "      <td>...</td>\n",
              "      <td>...</td>\n",
              "      <td>...</td>\n",
              "      <td>...</td>\n",
              "      <td>...</td>\n",
              "      <td>...</td>\n",
              "    </tr>\n",
              "    <tr>\n",
              "      <th>4</th>\n",
              "      <td>2023-04-24</td>\n",
              "      <td>12750.0</td>\n",
              "      <td>12500.0</td>\n",
              "      <td>12850.0</td>\n",
              "      <td>12500.0</td>\n",
              "      <td>7780000.0</td>\n",
              "      <td>0.79%</td>\n",
              "    </tr>\n",
              "    <tr>\n",
              "      <th>3</th>\n",
              "      <td>2023-04-25</td>\n",
              "      <td>12550.0</td>\n",
              "      <td>12950.0</td>\n",
              "      <td>12950.0</td>\n",
              "      <td>12550.0</td>\n",
              "      <td>10090000.0</td>\n",
              "      <td>-1.57%</td>\n",
              "    </tr>\n",
              "    <tr>\n",
              "      <th>2</th>\n",
              "      <td>2023-04-26</td>\n",
              "      <td>12600.0</td>\n",
              "      <td>12600.0</td>\n",
              "      <td>12700.0</td>\n",
              "      <td>12400.0</td>\n",
              "      <td>7820000.0</td>\n",
              "      <td>0.40%</td>\n",
              "    </tr>\n",
              "    <tr>\n",
              "      <th>1</th>\n",
              "      <td>2023-04-27</td>\n",
              "      <td>13200.0</td>\n",
              "      <td>12700.0</td>\n",
              "      <td>13450.0</td>\n",
              "      <td>12600.0</td>\n",
              "      <td>30210000.0</td>\n",
              "      <td>4.76%</td>\n",
              "    </tr>\n",
              "    <tr>\n",
              "      <th>0</th>\n",
              "      <td>2023-04-28</td>\n",
              "      <td>13500.0</td>\n",
              "      <td>13250.0</td>\n",
              "      <td>13750.0</td>\n",
              "      <td>13250.0</td>\n",
              "      <td>21300000.0</td>\n",
              "      <td>2.27%</td>\n",
              "    </tr>\n",
              "  </tbody>\n",
              "</table>\n",
              "<p>1349 rows × 7 columns</p>\n",
              "</div>\n",
              "      <button class=\"colab-df-convert\" onclick=\"convertToInteractive('df-53ec3a5f-af1d-4675-bff6-84a27bdc5099')\"\n",
              "              title=\"Convert this dataframe to an interactive table.\"\n",
              "              style=\"display:none;\">\n",
              "        \n",
              "  <svg xmlns=\"http://www.w3.org/2000/svg\" height=\"24px\"viewBox=\"0 0 24 24\"\n",
              "       width=\"24px\">\n",
              "    <path d=\"M0 0h24v24H0V0z\" fill=\"none\"/>\n",
              "    <path d=\"M18.56 5.44l.94 2.06.94-2.06 2.06-.94-2.06-.94-.94-2.06-.94 2.06-2.06.94zm-11 1L8.5 8.5l.94-2.06 2.06-.94-2.06-.94L8.5 2.5l-.94 2.06-2.06.94zm10 10l.94 2.06.94-2.06 2.06-.94-2.06-.94-.94-2.06-.94 2.06-2.06.94z\"/><path d=\"M17.41 7.96l-1.37-1.37c-.4-.4-.92-.59-1.43-.59-.52 0-1.04.2-1.43.59L10.3 9.45l-7.72 7.72c-.78.78-.78 2.05 0 2.83L4 21.41c.39.39.9.59 1.41.59.51 0 1.02-.2 1.41-.59l7.78-7.78 2.81-2.81c.8-.78.8-2.07 0-2.86zM5.41 20L4 18.59l7.72-7.72 1.47 1.35L5.41 20z\"/>\n",
              "  </svg>\n",
              "      </button>\n",
              "      \n",
              "  <style>\n",
              "    .colab-df-container {\n",
              "      display:flex;\n",
              "      flex-wrap:wrap;\n",
              "      gap: 12px;\n",
              "    }\n",
              "\n",
              "    .colab-df-convert {\n",
              "      background-color: #E8F0FE;\n",
              "      border: none;\n",
              "      border-radius: 50%;\n",
              "      cursor: pointer;\n",
              "      display: none;\n",
              "      fill: #1967D2;\n",
              "      height: 32px;\n",
              "      padding: 0 0 0 0;\n",
              "      width: 32px;\n",
              "    }\n",
              "\n",
              "    .colab-df-convert:hover {\n",
              "      background-color: #E2EBFA;\n",
              "      box-shadow: 0px 1px 2px rgba(60, 64, 67, 0.3), 0px 1px 3px 1px rgba(60, 64, 67, 0.15);\n",
              "      fill: #174EA6;\n",
              "    }\n",
              "\n",
              "    [theme=dark] .colab-df-convert {\n",
              "      background-color: #3B4455;\n",
              "      fill: #D2E3FC;\n",
              "    }\n",
              "\n",
              "    [theme=dark] .colab-df-convert:hover {\n",
              "      background-color: #434B5C;\n",
              "      box-shadow: 0px 1px 3px 1px rgba(0, 0, 0, 0.15);\n",
              "      filter: drop-shadow(0px 1px 2px rgba(0, 0, 0, 0.3));\n",
              "      fill: #FFFFFF;\n",
              "    }\n",
              "  </style>\n",
              "\n",
              "      <script>\n",
              "        const buttonEl =\n",
              "          document.querySelector('#df-53ec3a5f-af1d-4675-bff6-84a27bdc5099 button.colab-df-convert');\n",
              "        buttonEl.style.display =\n",
              "          google.colab.kernel.accessAllowed ? 'block' : 'none';\n",
              "\n",
              "        async function convertToInteractive(key) {\n",
              "          const element = document.querySelector('#df-53ec3a5f-af1d-4675-bff6-84a27bdc5099');\n",
              "          const dataTable =\n",
              "            await google.colab.kernel.invokeFunction('convertToInteractive',\n",
              "                                                     [key], {});\n",
              "          if (!dataTable) return;\n",
              "\n",
              "          const docLinkHtml = 'Like what you see? Visit the ' +\n",
              "            '<a target=\"_blank\" href=https://colab.research.google.com/notebooks/data_table.ipynb>data table notebook</a>'\n",
              "            + ' to learn more about interactive tables.';\n",
              "          element.innerHTML = '';\n",
              "          dataTable['output_type'] = 'display_data';\n",
              "          await google.colab.output.renderOutput(dataTable, element);\n",
              "          const docLink = document.createElement('div');\n",
              "          docLink.innerHTML = docLinkHtml;\n",
              "          element.appendChild(docLink);\n",
              "        }\n",
              "      </script>\n",
              "    </div>\n",
              "  </div>\n",
              "  "
            ],
            "text/plain": [
              "           Date    Close     Open     High      Low         Vol  Change\n",
              "1348 2017-12-01  12251.8  11949.3  12403.1  11919.0   8610000.0   2.79%\n",
              "1347 2017-12-04  12705.6  12463.6  12705.6  12282.1   9420000.0   3.70%\n",
              "1346 2017-12-05  12282.1  12705.6  12917.3  12282.1  11060000.0  -3.33%\n",
              "1345 2017-12-06  12161.1  12161.1  12342.6  11919.0   7720000.0  -0.99%\n",
              "1344 2017-12-07  12100.6  12161.1  12312.3  11858.5   5230000.0  -0.50%\n",
              "...         ...      ...      ...      ...      ...         ...     ...\n",
              "4    2023-04-24  12750.0  12500.0  12850.0  12500.0   7780000.0   0.79%\n",
              "3    2023-04-25  12550.0  12950.0  12950.0  12550.0  10090000.0  -1.57%\n",
              "2    2023-04-26  12600.0  12600.0  12700.0  12400.0   7820000.0   0.40%\n",
              "1    2023-04-27  13200.0  12700.0  13450.0  12600.0  30210000.0   4.76%\n",
              "0    2023-04-28  13500.0  13250.0  13750.0  13250.0  21300000.0   2.27%\n",
              "\n",
              "[1349 rows x 7 columns]"
            ]
          },
          "execution_count": 192,
          "metadata": {},
          "output_type": "execute_result"
        }
      ],
      "source": [
        "#Xem lại dữ liệu sau khi xử lý hoàn tất\n",
        "data"
      ]
    },
    {
      "cell_type": "code",
      "execution_count": 193,
      "metadata": {
        "id": "dJk0VEwjKXzj"
      },
      "outputs": [],
      "source": [
        "# Chia dữ liệu thành tập huấn luyện, tập validation và tập kiểm tra\n",
        "train_size = int(0.7 * len(data))\n",
        "test_size = int(0.2 * len(data))\n",
        "val_size = len(data) - train_size - test_size\n",
        "\n",
        "train_data = data[:train_size]\n",
        "test_data = data[train_size:train_size+test_size]\n",
        "val_data = data[train_size+test_size:]"
      ]
    },
    {
      "cell_type": "code",
      "execution_count": 226,
      "metadata": {
        "id": "WFCNC7bgKoRz"
      },
      "outputs": [],
      "source": [
        "# Tạo ma trận dữ liệu\n",
        "X_train = train_data[['High', 'Low','Close', 'Open', 'Vol']].values\n",
        "X_val = val_data[['High', 'Low' , 'Close', 'Open', 'Vol']].values\n",
        "X_test = test_data[['High', 'Low', 'Close', 'Open', 'Vol']].values\n",
        "\n",
        "y_train = train_data['Close'].values\n",
        "y_val = val_data['Close'].values\n",
        "y_test = test_data['Close'].values\n"
      ]
    },
    {
      "cell_type": "code",
      "execution_count": 227,
      "metadata": {
        "colab": {
          "base_uri": "https://localhost:8080/"
        },
        "id": "MMwviAvQKtPL",
        "outputId": "ddf9960c-23c7-42b1-c9f7-307b065ee654"
      },
      "outputs": [
        {
          "name": "stderr",
          "output_type": "stream",
          "text": [
            "/usr/local/lib/python3.10/dist-packages/statsmodels/base/model.py:604: ConvergenceWarning: Maximum Likelihood optimization failed to converge. Check mle_retvals\n",
            "  warnings.warn(\"Maximum Likelihood optimization failed to \"\n",
            "/usr/local/lib/python3.10/dist-packages/statsmodels/base/model.py:604: ConvergenceWarning: Maximum Likelihood optimization failed to converge. Check mle_retvals\n",
            "  warnings.warn(\"Maximum Likelihood optimization failed to \"\n",
            "/usr/local/lib/python3.10/dist-packages/statsmodels/base/model.py:604: ConvergenceWarning: Maximum Likelihood optimization failed to converge. Check mle_retvals\n",
            "  warnings.warn(\"Maximum Likelihood optimization failed to \"\n",
            "<ipython-input-227-172bbc74e707>:19: RuntimeWarning: overflow encountered in square\n",
            "  score = np.mean((y_pred_close - y_test)**2)\n",
            "/usr/local/lib/python3.10/dist-packages/numpy/core/_methods.py:179: RuntimeWarning: overflow encountered in reduce\n",
            "  ret = umr_sum(arr, axis, dtype, out, keepdims, where=where)\n",
            "/usr/local/lib/python3.10/dist-packages/statsmodels/base/model.py:604: ConvergenceWarning: Maximum Likelihood optimization failed to converge. Check mle_retvals\n",
            "  warnings.warn(\"Maximum Likelihood optimization failed to \"\n",
            "/usr/local/lib/python3.10/dist-packages/statsmodels/base/model.py:604: ConvergenceWarning: Maximum Likelihood optimization failed to converge. Check mle_retvals\n",
            "  warnings.warn(\"Maximum Likelihood optimization failed to \"\n",
            "/usr/local/lib/python3.10/dist-packages/statsmodels/base/model.py:604: ConvergenceWarning: Maximum Likelihood optimization failed to converge. Check mle_retvals\n",
            "  warnings.warn(\"Maximum Likelihood optimization failed to \"\n"
          ]
        }
      ],
      "source": [
        "# Duyệt qua các giá trị k_factors và factor_order để tìm giá trị tối ưu\n",
        "best_score = float('inf')\n",
        "best_k_factors = 0\n",
        "best_factor_order = 0\n",
        "\n",
        "for k_factors in range(1, 4):\n",
        "    for factor_order in range(1, 5):\n",
        "        # Xây dựng The Dynamic Factor Model\n",
        "        model = sm.tsa.DynamicFactor(X_train, k_factors=k_factors, factor_order=factor_order)\n",
        "        result = model.fit()\n",
        "\n",
        "        # Dự đoán giá cổ phiếu trên tập validation\n",
        "        y_pred = result.predict(start=train_size, end=train_size+test_size-1)\n",
        "\n",
        "         # Lấy cột close từ y_pred để tính toán độ chính xác\n",
        "        y_pred_close = y_pred[:, 2]\n",
        "\n",
        "        # Đánh giá độ chính xác dự đoán trên tập test\n",
        "        score = np.mean((y_pred_close - y_test)**2)\n",
        "\n",
        "        # Lưu lại giá trị tốt nhất\n",
        "        if score < best_score:\n",
        "            best_score = score\n",
        "            best_k_factors = k_factors\n",
        "            best_factor_order = factor_order"
      ]
    },
    {
      "cell_type": "code",
      "execution_count": 228,
      "metadata": {
        "colab": {
          "base_uri": "https://localhost:8080/"
        },
        "id": "z93DvjI81cwD",
        "outputId": "5baf3819-48d2-484c-934c-943ece0e923b"
      },
      "outputs": [
        {
          "data": {
            "text/plain": [
              "239813379.46097788"
            ]
          },
          "execution_count": 228,
          "metadata": {},
          "output_type": "execute_result"
        }
      ],
      "source": [
        "best_score"
      ]
    },
    {
      "cell_type": "code",
      "execution_count": 229,
      "metadata": {
        "colab": {
          "base_uri": "https://localhost:8080/"
        },
        "id": "SKHJEwhlqGhG",
        "outputId": "30498d91-d2bf-45e8-9e0a-9c769925212e"
      },
      "outputs": [
        {
          "data": {
            "text/plain": [
              "3"
            ]
          },
          "execution_count": 229,
          "metadata": {},
          "output_type": "execute_result"
        }
      ],
      "source": [
        "best_k_factors"
      ]
    },
    {
      "cell_type": "code",
      "execution_count": 230,
      "metadata": {
        "colab": {
          "base_uri": "https://localhost:8080/"
        },
        "id": "0DKRBkAEqKiO",
        "outputId": "695e8d10-f7aa-45fb-b30d-fbfa34267b20"
      },
      "outputs": [
        {
          "data": {
            "text/plain": [
              "4"
            ]
          },
          "execution_count": 230,
          "metadata": {},
          "output_type": "execute_result"
        }
      ],
      "source": [
        "best_factor_order"
      ]
    },
    {
      "cell_type": "code",
      "execution_count": 231,
      "metadata": {
        "colab": {
          "base_uri": "https://localhost:8080/"
        },
        "id": "U5DGI22iipsk",
        "outputId": "fb993193-220d-4996-e840-0686da312472"
      },
      "outputs": [
        {
          "name": "stderr",
          "output_type": "stream",
          "text": [
            "/usr/local/lib/python3.10/dist-packages/statsmodels/base/model.py:604: ConvergenceWarning: Maximum Likelihood optimization failed to converge. Check mle_retvals\n",
            "  warnings.warn(\"Maximum Likelihood optimization failed to \"\n"
          ]
        }
      ],
      "source": [
        "\n",
        "# Xây dựng The Dynamic Factor Model với giá trị tối ưu\n",
        "model = sm.tsa.DynamicFactor(X_train, k_factors=best_k_factors, factor_order=best_factor_order)\n",
        "result = model.fit()\n",
        "# Dự đoán giá cổ phiếu trên tập kiểm tra\n",
        "y_pred_test = result.predict(start=train_size, end=train_size+test_size)\n",
        "\n",
        "# Dự đoán giá cổ phiếu trên tập kiểm tra\n",
        "y_pred_val = result.predict(start=train_size+test_size, end=len(data)-1)\n",
        "\n"
      ]
    },
    {
      "cell_type": "code",
      "execution_count": 232,
      "metadata": {
        "colab": {
          "base_uri": "https://localhost:8080/",
          "height": 564
        },
        "id": "vbHm6oeiKJEw",
        "outputId": "1e6e19a5-c56a-42cf-f836-ba39bc822a78"
      },
      "outputs": [
        {
          "data": {
            "image/png": "[encoded data removed]",
            "text/plain": [
              "<Figure size 1000x600 with 1 Axes>"
            ]
          },
          "metadata": {},
          "output_type": "display_data"
        }
      ],
      "source": [
        "\n",
        "# Vẽ biểu đồ\n",
        "plt.figure(figsize=(10, 6))\n",
        "plt.plot(data['Date'][:train_size], train_data['Close'], label='Actual')\n",
        "plt.plot(data['Date'][train_size:train_size+test_size], test_data['Close'], label='Test')\n",
        "plt.plot(data['Date'][train_size+test_size:], val_data['Close'], label='Train')\n",
        "\n",
        "plt.plot(data['Date'][train_size:train_size+test_size+1], y_pred_test[:,2], label='Predicted Test')\n",
        "plt.plot(data['Date'][train_size+test_size:], y_pred_val[:,2], label='Predicted Val')\n",
        "\n",
        "plt.xlabel('Date')\n",
        "plt.ylabel('Stock Price')\n",
        "plt.title('Stock Price Prediction')\n",
        "plt.legend()\n",
        "plt.show()\n"
      ]
    },
    {
      "cell_type": "code",
      "execution_count": 233,
      "metadata": {
        "colab": {
          "base_uri": "https://localhost:8080/"
        },
        "id": "uUQlNFZkwpVm",
        "outputId": "f1bc87c1-7672-4c84-962f-098649804c86"
      },
      "outputs": [
        {
          "name": "stdout",
          "output_type": "stream",
          "text": [
            "Validation RMSE: 2534.15582694001\n",
            "Testing RMSE: 15510.832025988233\n"
          ]
        }
      ],
      "source": [
        "# Tính RMSE\n",
        "valid_rmse = np.sqrt(np.mean((y_pred_val[:,2] - y_val)**2))\n",
        "test_rmse = np.sqrt(np.mean((y_pred_test[1:,2] - y_test)**2))\n",
        "print('Validation RMSE:', valid_rmse)\n",
        "print('Testing RMSE:', test_rmse)"
      ]
    }
  ],
  "metadata": {
    "colab": {
      "provenance": []
    },
    "kernelspec": {
      "display_name": "Python 3",
      "name": "python3"
    },
    "language_info": {
      "name": "python"
    }
  },
  "nbformat": 4,
  "nbformat_minor": 0
}
