{
  "cells": [
    {
      "cell_type": "code",
      "execution_count": 1,
      "metadata": {
        "id": "jUn9HyR-KLQl"
      },
      "outputs": [],
      "source": [
        "#Import các thư viện cần thiết\n",
        "import pandas as pd\n",
        "import numpy as np\n",
        "import matplotlib.pyplot as plt\n",
        "import statsmodels.api as sm\n",
        "import pandas as pd"
      ]
    },
    {
      "cell_type": "code",
      "execution_count": 2,
      "metadata": {
        "id": "TaKQyJStKPTU"
      },
      "outputs": [],
      "source": [
        "# Đọc dữ liệu từ file CSV\n",
        "data = pd.read_csv('GVR Historical Data.csv')\n",
        "\n",
        "# Đặt lại tên cột\n",
        "data.columns=[ 'Date', 'Close', 'Open', 'High', 'Low', 'Vol', 'Change']\n",
        "\n",
        "# data = pd.DataFrame(data)\n",
        "\n",
        "# Tiền xử lý dữ liệu\n",
        "data['Date'] = pd.to_datetime(data['Date'])\n",
        "data['Close'] = data['Close'].apply(lambda x: float(x.replace(\",\", \"\")))\n",
        "data['Open'] = data['Open'].apply(lambda x: float(x.replace(\",\", \"\")))\n",
        "data['High'] = data['High'].apply(lambda x: float(x.replace(\",\", \"\")))\n",
        "data['Low'] = data['Low'].apply(lambda x: float(x.replace(\",\", \"\")))\n",
        "data['Vol'] = data['Vol'].apply(lambda x: float(x.rstrip('M').rstrip('K')) * 1e6 if 'M' in x else float(x.rstrip('K')) * 1e3)\n",
        "\n",
        "# Sắp xếp dữ liệu tăng dần theo cột Date\n",
        "data = data.sort_values('Date')"
      ]
    },
    {
      "cell_type": "code",
      "execution_count": 3,
      "metadata": {
        "colab": {
          "base_uri": "https://localhost:8080/",
          "height": 424
        },
        "id": "5OLTIkz5hoaL",
        "outputId": "e2cdb1fc-c711-46a1-ead2-9e1e6518037d"
      },
      "outputs": [
        {
          "data": {
            "text/html": [
              "<div>\n",
              "<style scoped>\n",
              "    .dataframe tbody tr th:only-of-type {\n",
              "        vertical-align: middle;\n",
              "    }\n",
              "\n",
              "    .dataframe tbody tr th {\n",
              "        vertical-align: top;\n",
              "    }\n",
              "\n",
              "    .dataframe thead th {\n",
              "        text-align: right;\n",
              "    }\n",
              "</style>\n",
              "<table border=\"1\" class=\"dataframe\">\n",
              "  <thead>\n",
              "    <tr style=\"text-align: right;\">\n",
              "      <th></th>\n",
              "      <th>Date</th>\n",
              "      <th>Close</th>\n",
              "      <th>Open</th>\n",
              "      <th>High</th>\n",
              "      <th>Low</th>\n",
              "      <th>Vol</th>\n",
              "      <th>Change</th>\n",
              "    </tr>\n",
              "  </thead>\n",
              "  <tbody>\n",
              "    <tr>\n",
              "      <th>1291</th>\n",
              "      <td>2018-03-22</td>\n",
              "      <td>10736.0</td>\n",
              "      <td>10834.0</td>\n",
              "      <td>11130.0</td>\n",
              "      <td>10046.0</td>\n",
              "      <td>260800.0</td>\n",
              "      <td>0.00%</td>\n",
              "    </tr>\n",
              "    <tr>\n",
              "      <th>1290</th>\n",
              "      <td>2018-03-23</td>\n",
              "      <td>10342.0</td>\n",
              "      <td>10440.0</td>\n",
              "      <td>10440.0</td>\n",
              "      <td>9849.0</td>\n",
              "      <td>111800.0</td>\n",
              "      <td>-3.67%</td>\n",
              "    </tr>\n",
              "    <tr>\n",
              "      <th>1289</th>\n",
              "      <td>2018-03-26</td>\n",
              "      <td>10145.0</td>\n",
              "      <td>10046.0</td>\n",
              "      <td>10342.0</td>\n",
              "      <td>10046.0</td>\n",
              "      <td>267800.0</td>\n",
              "      <td>-1.90%</td>\n",
              "    </tr>\n",
              "    <tr>\n",
              "      <th>1288</th>\n",
              "      <td>2018-03-27</td>\n",
              "      <td>10736.0</td>\n",
              "      <td>10637.0</td>\n",
              "      <td>10834.0</td>\n",
              "      <td>10342.0</td>\n",
              "      <td>52200.0</td>\n",
              "      <td>5.83%</td>\n",
              "    </tr>\n",
              "    <tr>\n",
              "      <th>1287</th>\n",
              "      <td>2018-03-28</td>\n",
              "      <td>11327.0</td>\n",
              "      <td>10736.0</td>\n",
              "      <td>11622.0</td>\n",
              "      <td>10637.0</td>\n",
              "      <td>139800.0</td>\n",
              "      <td>5.50%</td>\n",
              "    </tr>\n",
              "    <tr>\n",
              "      <th>...</th>\n",
              "      <td>...</td>\n",
              "      <td>...</td>\n",
              "      <td>...</td>\n",
              "      <td>...</td>\n",
              "      <td>...</td>\n",
              "      <td>...</td>\n",
              "      <td>...</td>\n",
              "    </tr>\n",
              "    <tr>\n",
              "      <th>4</th>\n",
              "      <td>2023-05-29</td>\n",
              "      <td>18200.0</td>\n",
              "      <td>17200.0</td>\n",
              "      <td>18200.0</td>\n",
              "      <td>17050.0</td>\n",
              "      <td>6080000.0</td>\n",
              "      <td>5.81%</td>\n",
              "    </tr>\n",
              "    <tr>\n",
              "      <th>3</th>\n",
              "      <td>2023-05-30</td>\n",
              "      <td>18400.0</td>\n",
              "      <td>18300.0</td>\n",
              "      <td>18500.0</td>\n",
              "      <td>17850.0</td>\n",
              "      <td>4580000.0</td>\n",
              "      <td>1.10%</td>\n",
              "    </tr>\n",
              "    <tr>\n",
              "      <th>2</th>\n",
              "      <td>2023-05-31</td>\n",
              "      <td>18200.0</td>\n",
              "      <td>18450.0</td>\n",
              "      <td>18450.0</td>\n",
              "      <td>18000.0</td>\n",
              "      <td>3140000.0</td>\n",
              "      <td>-1.09%</td>\n",
              "    </tr>\n",
              "    <tr>\n",
              "      <th>1</th>\n",
              "      <td>2023-06-01</td>\n",
              "      <td>18800.0</td>\n",
              "      <td>18350.0</td>\n",
              "      <td>18900.0</td>\n",
              "      <td>18100.0</td>\n",
              "      <td>4250000.0</td>\n",
              "      <td>3.30%</td>\n",
              "    </tr>\n",
              "    <tr>\n",
              "      <th>0</th>\n",
              "      <td>2023-06-02</td>\n",
              "      <td>18900.0</td>\n",
              "      <td>18950.0</td>\n",
              "      <td>19000.0</td>\n",
              "      <td>18600.0</td>\n",
              "      <td>2720000.0</td>\n",
              "      <td>0.53%</td>\n",
              "    </tr>\n",
              "  </tbody>\n",
              "</table>\n",
              "<p>1292 rows × 7 columns</p>\n",
              "</div>"
            ],
            "text/plain": [
              "           Date    Close     Open     High      Low        Vol  Change\n",
              "1291 2018-03-22  10736.0  10834.0  11130.0  10046.0   260800.0   0.00%\n",
              "1290 2018-03-23  10342.0  10440.0  10440.0   9849.0   111800.0  -3.67%\n",
              "1289 2018-03-26  10145.0  10046.0  10342.0  10046.0   267800.0  -1.90%\n",
              "1288 2018-03-27  10736.0  10637.0  10834.0  10342.0    52200.0   5.83%\n",
              "1287 2018-03-28  11327.0  10736.0  11622.0  10637.0   139800.0   5.50%\n",
              "...         ...      ...      ...      ...      ...        ...     ...\n",
              "4    2023-05-29  18200.0  17200.0  18200.0  17050.0  6080000.0   5.81%\n",
              "3    2023-05-30  18400.0  18300.0  18500.0  17850.0  4580000.0   1.10%\n",
              "2    2023-05-31  18200.0  18450.0  18450.0  18000.0  3140000.0  -1.09%\n",
              "1    2023-06-01  18800.0  18350.0  18900.0  18100.0  4250000.0   3.30%\n",
              "0    2023-06-02  18900.0  18950.0  19000.0  18600.0  2720000.0   0.53%\n",
              "\n",
              "[1292 rows x 7 columns]"
            ]
          },
          "execution_count": 3,
          "metadata": {},
          "output_type": "execute_result"
        }
      ],
      "source": [
        "#Xem lại dữ liệu sau khi xử lý hoàn tất\n",
        "data"
      ]
    },
    {
      "cell_type": "code",
      "execution_count": 4,
      "metadata": {
        "id": "dJk0VEwjKXzj"
      },
      "outputs": [],
      "source": [
        "# Chia dữ liệu thành tập huấn luyện, tập validation và tập kiểm tra\n",
        "train_size = int(0.7 * len(data))\n",
        "test_size = int(0.2 * len(data))\n",
        "val_size = len(data) - train_size - test_size\n",
        "\n",
        "train_data = data[:train_size]\n",
        "test_data = data[train_size:train_size+test_size]\n",
        "val_data = data[train_size+test_size:]"
      ]
    },
    {
      "cell_type": "code",
      "execution_count": 5,
      "metadata": {
        "id": "WFCNC7bgKoRz"
      },
      "outputs": [],
      "source": [
        "# Tạo ma trận dữ liệu\n",
        "X_train = train_data[['High', 'Low','Close', 'Open', 'Vol']].values\n",
        "X_val = val_data[['High', 'Low' , 'Close', 'Open', 'Vol']].values\n",
        "X_test = test_data[['High', 'Low', 'Close', 'Open', 'Vol']].values\n",
        "\n",
        "y_train = train_data['Close'].values\n",
        "y_val = val_data['Close'].values\n",
        "y_test = test_data['Close'].values\n"
      ]
    },
    {
      "cell_type": "code",
      "execution_count": 14,
      "metadata": {
        "colab": {
          "base_uri": "https://localhost:8080/"
        },
        "id": "nmJgKJbbmM7-",
        "outputId": "73f6054d-0509-4ba2-f7ca-d7219c4d39b1"
      },
      "outputs": [
        {
          "name": "stderr",
          "output_type": "stream",
          "text": [
            "c:\\Users\\admin\\AppData\\Local\\Programs\\Python\\Python311\\Lib\\site-packages\\statsmodels\\base\\model.py:607: ConvergenceWarning: Maximum Likelihood optimization failed to converge. Check mle_retvals\n",
            "  warnings.warn(\"Maximum Likelihood optimization failed to \"\n",
            "c:\\Users\\admin\\AppData\\Local\\Programs\\Python\\Python311\\Lib\\site-packages\\statsmodels\\base\\model.py:607: ConvergenceWarning: Maximum Likelihood optimization failed to converge. Check mle_retvals\n",
            "  warnings.warn(\"Maximum Likelihood optimization failed to \"\n",
            "c:\\Users\\admin\\AppData\\Local\\Programs\\Python\\Python311\\Lib\\site-packages\\statsmodels\\base\\model.py:607: ConvergenceWarning: Maximum Likelihood optimization failed to converge. Check mle_retvals\n",
            "  warnings.warn(\"Maximum Likelihood optimization failed to \"\n",
            "c:\\Users\\admin\\AppData\\Local\\Programs\\Python\\Python311\\Lib\\site-packages\\statsmodels\\base\\model.py:607: ConvergenceWarning: Maximum Likelihood optimization failed to converge. Check mle_retvals\n",
            "  warnings.warn(\"Maximum Likelihood optimization failed to \"\n",
            "c:\\Users\\admin\\AppData\\Local\\Programs\\Python\\Python311\\Lib\\site-packages\\statsmodels\\base\\model.py:607: ConvergenceWarning: Maximum Likelihood optimization failed to converge. Check mle_retvals\n",
            "  warnings.warn(\"Maximum Likelihood optimization failed to \"\n",
            "c:\\Users\\admin\\AppData\\Local\\Programs\\Python\\Python311\\Lib\\site-packages\\statsmodels\\base\\model.py:607: ConvergenceWarning: Maximum Likelihood optimization failed to converge. Check mle_retvals\n",
            "  warnings.warn(\"Maximum Likelihood optimization failed to \"\n",
            "c:\\Users\\admin\\AppData\\Local\\Programs\\Python\\Python311\\Lib\\site-packages\\statsmodels\\base\\model.py:607: ConvergenceWarning: Maximum Likelihood optimization failed to converge. Check mle_retvals\n",
            "  warnings.warn(\"Maximum Likelihood optimization failed to \"\n",
            "c:\\Users\\admin\\AppData\\Local\\Programs\\Python\\Python311\\Lib\\site-packages\\statsmodels\\base\\model.py:607: ConvergenceWarning: Maximum Likelihood optimization failed to converge. Check mle_retvals\n",
            "  warnings.warn(\"Maximum Likelihood optimization failed to \"\n",
            "c:\\Users\\admin\\AppData\\Local\\Programs\\Python\\Python311\\Lib\\site-packages\\statsmodels\\base\\model.py:607: ConvergenceWarning: Maximum Likelihood optimization failed to converge. Check mle_retvals\n",
            "  warnings.warn(\"Maximum Likelihood optimization failed to \"\n",
            "c:\\Users\\admin\\AppData\\Local\\Programs\\Python\\Python311\\Lib\\site-packages\\statsmodels\\base\\model.py:607: ConvergenceWarning: Maximum Likelihood optimization failed to converge. Check mle_retvals\n",
            "  warnings.warn(\"Maximum Likelihood optimization failed to \"\n",
            "c:\\Users\\admin\\AppData\\Local\\Programs\\Python\\Python311\\Lib\\site-packages\\statsmodels\\base\\model.py:607: ConvergenceWarning: Maximum Likelihood optimization failed to converge. Check mle_retvals\n",
            "  warnings.warn(\"Maximum Likelihood optimization failed to \"\n",
            "c:\\Users\\admin\\AppData\\Local\\Programs\\Python\\Python311\\Lib\\site-packages\\statsmodels\\base\\model.py:607: ConvergenceWarning: Maximum Likelihood optimization failed to converge. Check mle_retvals\n",
            "  warnings.warn(\"Maximum Likelihood optimization failed to \"\n",
            "c:\\Users\\admin\\AppData\\Local\\Programs\\Python\\Python311\\Lib\\site-packages\\statsmodels\\base\\model.py:607: ConvergenceWarning: Maximum Likelihood optimization failed to converge. Check mle_retvals\n",
            "  warnings.warn(\"Maximum Likelihood optimization failed to \"\n",
            "c:\\Users\\admin\\AppData\\Local\\Programs\\Python\\Python311\\Lib\\site-packages\\statsmodels\\base\\model.py:607: ConvergenceWarning: Maximum Likelihood optimization failed to converge. Check mle_retvals\n",
            "  warnings.warn(\"Maximum Likelihood optimization failed to \"\n",
            "c:\\Users\\admin\\AppData\\Local\\Programs\\Python\\Python311\\Lib\\site-packages\\statsmodels\\base\\model.py:607: ConvergenceWarning: Maximum Likelihood optimization failed to converge. Check mle_retvals\n",
            "  warnings.warn(\"Maximum Likelihood optimization failed to \"\n",
            "c:\\Users\\admin\\AppData\\Local\\Programs\\Python\\Python311\\Lib\\site-packages\\statsmodels\\base\\model.py:607: ConvergenceWarning: Maximum Likelihood optimization failed to converge. Check mle_retvals\n",
            "  warnings.warn(\"Maximum Likelihood optimization failed to \"\n"
          ]
        }
      ],
      "source": [
        "import numpy as np\n",
        "\n",
        "best_score = float('inf')\n",
        "best_k_factors = 0\n",
        "best_factor_order = 0\n",
        "\n",
        "for k_factors in range(1, 5):\n",
        "    for factor_order in range(1, 20):\n",
        "        try:\n",
        "            # Xây dựng The Dynamic Factor Model\n",
        "            model = sm.tsa.DynamicFactor(X_train, k_factors=k_factors, factor_order=factor_order)\n",
        "            result = model.fit()\n",
        "\n",
        "            # Dự đoán giá cổ phiếu trên tập validation\n",
        "            y_pred = result.predict(start=train_size, end=train_size+test_size-1)\n",
        "\n",
        "             # Lấy cột close từ y_pred để tính toán độ chính xác\n",
        "            y_pred_close = y_pred[:, 2]\n",
        "\n",
        "            # Đánh giá độ chính xác dự đoán trên tập test\n",
        "            score = np.mean((y_pred_close - y_test)**2)\n",
        "\n",
        "            # Lưu lại giá trị tốt nhất\n",
        "            if score < best_score:\n",
        "                best_score = score\n",
        "                best_k_factors = k_factors\n",
        "                best_factor_order = factor_order\n",
        "\n",
        "        except np.linalg.LinAlgError as e:\n",
        "            # Bỏ qua lỗi \"LU decomposition error\"\n",
        "            continue\n",
        "\n",
        "        except ValueError as e:\n",
        "            if \"Non-stationary starting autoregressive parameters\" in str(e):\n",
        "              continue\n",
        "\n"
      ]
    },
    {
      "cell_type": "code",
      "execution_count": 20,
      "metadata": {
        "id": "U5DGI22iipsk"
      },
      "outputs": [
        {
          "name": "stderr",
          "output_type": "stream",
          "text": [
            "c:\\Users\\admin\\AppData\\Local\\Programs\\Python\\Python311\\Lib\\site-packages\\statsmodels\\base\\model.py:607: ConvergenceWarning: Maximum Likelihood optimization failed to converge. Check mle_retvals\n",
            "  warnings.warn(\"Maximum Likelihood optimization failed to \"\n"
          ]
        }
      ],
      "source": [
        "\n",
        "# Xây dựng The Dynamic Factor Model với giá trị tối ưu\n",
        "model = sm.tsa.DynamicFactor(X_train, k_factors=best_k_factors, factor_order=best_factor_order)\n",
        "result = model.fit()\n",
        "# Dự đoán giá cổ phiếu trên tập kiểm tra\n",
        "y_pred_test = result.predict(start=train_size, end=train_size+test_size)\n",
        "\n",
        "# Dự đoán giá cổ phiếu trên tập kiểm tra\n",
        "y_pred_val = result.predict(start=train_size+test_size, end=len(data)-1)\n",
        "\n",
        "# Dự đoán giá cổ phiếu cho 30 ngày tiếp theo\n",
        "y_pred_future = result.predict(start=len(data), end=len(data)+29)\n"
      ]
    },
    {
      "cell_type": "code",
      "execution_count": 15,
      "metadata": {},
      "outputs": [
        {
          "data": {
            "text/plain": [
              "4"
            ]
          },
          "execution_count": 15,
          "metadata": {},
          "output_type": "execute_result"
        }
      ],
      "source": [
        "best_k_factors"
      ]
    },
    {
      "cell_type": "code",
      "execution_count": 16,
      "metadata": {},
      "outputs": [
        {
          "data": {
            "text/plain": [
              "9"
            ]
          },
          "execution_count": 16,
          "metadata": {},
          "output_type": "execute_result"
        }
      ],
      "source": [
        "best_factor_order"
      ]
    },
    {
      "cell_type": "code",
      "execution_count": 22,
      "metadata": {},
      "outputs": [
        {
          "data": {
            "text/plain": [
              "array([[  13189.95329051,   12633.0260022 ,   12964.46614395,\n",
              "          12838.74583632, 1728216.55135253],\n",
              "       [  13169.65057617,   12613.58744977,   12944.498669  ,\n",
              "          12818.99797331, 1725774.86098374],\n",
              "       [  13149.41215617,   12594.21041015,   12924.59450374,\n",
              "          12799.31255487, 1723339.48246291],\n",
              "       [  13129.23761206,   12574.89448314,   12904.75323592,\n",
              "          12779.68917489, 1720910.37920007],\n",
              "       [  13109.1265288 ,   12555.63927179,   12884.9744566 ,\n",
              "          12760.12743056, 1718487.51489588],\n",
              "       [  13089.07849474,   12536.44438238,   12865.25776017,\n",
              "          12740.62692235, 1716070.85353911],\n",
              "       [  13069.09310153,   12517.30942441,   12845.60274435,\n",
              "          12721.18725396, 1713660.35940432],\n",
              "       [  13049.16994419,   12498.23401052,   12826.00901009,\n",
              "          12701.80803234, 1711255.99704937],\n",
              "       [  13029.308621  ,   12479.21775651,   12806.47616159,\n",
              "          12682.48886759, 1708857.73131306],\n",
              "       [  13009.5087335 ,   12460.2602813 ,   12787.00380628,\n",
              "          12663.229373  , 1706465.52731282],\n",
              "       [  12989.76988647,   12441.3612069 ,   12767.59155476,\n",
              "          12644.02916501, 1704079.35044228],\n",
              "       [  12970.0916879 ,   12422.52015839,   12748.23902079,\n",
              "          12624.88786314, 1701699.16636902],\n",
              "       [  12950.47374896,   12403.73676388,   12728.94582127,\n",
              "          12605.80509001, 1699324.94103224],\n",
              "       [  12930.91568395,   12385.01065451,   12709.71157621,\n",
              "          12586.7804713 , 1696956.64064049],\n",
              "       [  12911.41711033,   12366.34146439,   12690.53590869,\n",
              "          12567.81363573, 1694594.23166936],\n",
              "       [  12891.97764864,   12347.72883062,   12671.41844484,\n",
              "          12548.90421501, 1692237.68085933],\n",
              "       [  12872.59692249,   12329.17239321,   12652.35881383,\n",
              "          12530.05184386, 1689886.95521344],\n",
              "       [  12853.27455854,   12310.67179511,   12633.35664783,\n",
              "          12511.25615992, 1687542.02199514],\n",
              "       [  12834.0101865 ,   12292.22668214,   12614.411582  ,\n",
              "          12492.51680379, 1685202.84872612],\n",
              "       [  12814.80343902,   12273.83670301,   12595.52325441,\n",
              "          12473.83341897, 1682869.4031841 ],\n",
              "       [  12795.65395178,   12255.50150923,   12576.69130612,\n",
              "          12455.20565185, 1680541.65340068],\n",
              "       [  12776.56136336,   12237.22075518,   12557.91538103,\n",
              "          12436.63315167, 1678219.56765924],\n",
              "       [  12757.52531528,   12218.99409799,   12539.19512597,\n",
              "          12418.1155705 , 1675903.11449281],\n",
              "       [  12738.54545198,   12200.82119758,   12520.53019059,\n",
              "          12399.65256322, 1673592.26268196],\n",
              "       [  12719.62142072,   12182.70171662,   12501.92022738,\n",
              "          12381.24378753, 1671286.98125275],\n",
              "       [  12700.75287165,   12164.63532048,   12483.36489165,\n",
              "          12362.88890384, 1668987.23947464],\n",
              "       [  12681.93945773,   12146.62167726,   12464.86384147,\n",
              "          12344.58757535, 1666693.00685846],\n",
              "       [  12663.18083472,   12128.66045773,   12446.41673769,\n",
              "          12326.33946795, 1664404.25315439],\n",
              "       [  12644.47666116,   12110.7513353 ,   12428.02324388,\n",
              "          12308.14425022, 1662120.94834993],\n",
              "       [  12625.82659833,   12092.89398603,   12409.68302633,\n",
              "          12290.00159343, 1659843.06266795]])"
            ]
          },
          "execution_count": 22,
          "metadata": {},
          "output_type": "execute_result"
        }
      ],
      "source": [
        "y_pred_future"
      ]
    },
    {
      "cell_type": "code",
      "execution_count": 24,
      "metadata": {
        "id": "vbHm6oeiKJEw"
      },
      "outputs": [
        {
          "data": {
            "image/png": "[encoded data removed]",
            "text/plain": [
              "<Figure size 1000x600 with 1 Axes>"
            ]
          },
          "metadata": {},
          "output_type": "display_data"
        }
      ],
      "source": [
        "\n",
        "# Vẽ biểu đồ\n",
        "next_30_days = pd.date_range(start=data['Date'].iloc[-1], periods=30, freq='D')\n",
        "\n",
        "\n",
        "plt.figure(figsize=(10, 6))\n",
        "plt.plot(data['Date'][:train_size], train_data['Close'], label='Actual')\n",
        "plt.plot(data['Date'][train_size:train_size+test_size], test_data['Close'], label='Test')\n",
        "plt.plot(data['Date'][train_size+test_size:], val_data['Close'], label='Valid')\n",
        "plt.plot(data['Date'][train_size:train_size+test_size+1], y_pred_test[:,2], label='Predicted Test')\n",
        "plt.plot(data['Date'][train_size+test_size:], y_pred_val[:,2], label='Predicted Val')\n",
        "plt.plot(next_30_days, y_pred_future[:, 2], label='Predict30days')\n",
        "\n",
        "plt.xlabel('Date')\n",
        "plt.ylabel('Stock Price')\n",
        "plt.title('Stock Price Prediction')\n",
        "plt.legend()\n",
        "plt.show()\n"
      ]
    },
    {
      "cell_type": "code",
      "execution_count": 19,
      "metadata": {
        "id": "uUQlNFZkwpVm"
      },
      "outputs": [
        {
          "name": "stdout",
          "output_type": "stream",
          "text": [
            "Validation RMSE: 1983.4206335235087\n",
            "Testing RMSE: 4802.630358155992\n",
            "Validation MAPE: 0.09642428505940209\n",
            "Testing MAPE: 0.1526195799068505\n"
          ]
        }
      ],
      "source": [
        "from sklearn.metrics import mean_absolute_percentage_error\n",
        "\n",
        "# Tính RMSE\n",
        "valid_rmse = np.sqrt(np.mean((y_pred_val[:,2] - y_val)**2))\n",
        "test_rmse = np.sqrt(np.mean((y_pred_test[1:,2] - y_test)**2))\n",
        "vail_mape = mean_absolute_percentage_error(y_val, y_pred_val[:,2])\n",
        "test_mape = mean_absolute_percentage_error(y_test, y_pred_test[1:,2])\n",
        "print('Validation RMSE:', valid_rmse)\n",
        "print('Testing RMSE:', test_rmse)\n",
        "print('Validation MAPE:', vail_mape)\n",
        "print('Testing MAPE:', test_mape)"
      ]
    }
  ],
  "metadata": {
    "colab": {
      "provenance": []
    },
    "kernelspec": {
      "display_name": "Python 3",
      "name": "python3"
    },
    "language_info": {
      "codemirror_mode": {
        "name": "ipython",
        "version": 3
      },
      "file_extension": ".py",
      "mimetype": "text/x-python",
      "name": "python",
      "nbconvert_exporter": "python",
      "pygments_lexer": "ipython3",
      "version": "3.11.2"
    }
  },
  "nbformat": 4,
  "nbformat_minor": 0
}
