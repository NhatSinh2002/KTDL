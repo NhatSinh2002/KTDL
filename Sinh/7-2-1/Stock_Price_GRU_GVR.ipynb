{
  "cells": [
    {
      "cell_type": "code",
      "execution_count": 1,
      "metadata": {
        "colab": {
          "base_uri": "https://localhost:8080/"
        },
        "id": "FMDKda-XIUAK",
        "outputId": "83f83310-8d4b-4925-a7d3-764d810f45e1"
      },
      "outputs": [],
      "source": [
        "# 1. Import thư viện cần thiết\n",
        "import numpy as np\n",
        "import pandas as pd\n",
        "import matplotlib.pyplot as plt\n",
        "from sklearn.preprocessing import MinMaxScaler\n",
        "from keras.models import Sequential\n",
        "from keras.layers import Dense, GRU"
      ]
    },
    {
      "cell_type": "code",
      "execution_count": 2,
      "metadata": {
        "id": "aRm9GQ8KJJ5N"
      },
      "outputs": [],
      "source": [
        "# 2. Đọc file csv và gắng index với giá Close\n",
        "df=pd.read_csv('../../Dataset/GVR Historical Data.csv')\n",
        "df['Date']=pd.to_datetime(df.Date, format =\"%m/%d/%Y\")\n",
        "  # Sort the dataframe by date in ascending order\n",
        "df = df.sort_values('Date')\n",
        "# new_column_names = {'Ngày': 'Date', 'Lần cuối': 'Close', 'Mở': 'Open', 'Cao': 'High', 'Thấp': 'Low', '% Thay đổi': 'Volume'}\n",
        "# df.rename(columns=new_column_names, inplace=True)\n",
        "\n",
        "from datetime import datetime, date \n",
        "\n",
        "\n",
        "df['Price'] = df['Price'].astype(str).apply(lambda x: float(x.replace(',', '')))\n",
        "df['Open'] = df['Open'].astype(str).apply(lambda x: float(x.replace(',', '')))\n",
        "df['High'] = df['High'].astype(str).apply(lambda x: float(x.replace(',', '')))\n",
        "df['Low'] = df['Low'].astype(str).apply(lambda x: float(x.replace(',', '')))\n",
        "def convert_to_number(x):\n",
        "      if 'M' in x:\n",
        "          return float(x.replace('M', '')) * 1000000\n",
        "      elif 'K' in x:\n",
        "          return float(x.replace('K', '')) * 1000\n",
        "      else:\n",
        "          return float(x)\n",
        "\n",
        "df.head().style.set_properties(subset=['Date'], **{'background-color': 'dodgerblue'})\n",
        "\n",
        "df1=df.reset_index()['Price']"
      ]
    },
    {
      "cell_type": "code",
      "execution_count": 3,
      "metadata": {},
      "outputs": [
        {
          "data": {
            "text/plain": [
              "0       10736.0\n",
              "1       10342.0\n",
              "2       10145.0\n",
              "3       10736.0\n",
              "4       11327.0\n",
              "         ...   \n",
              "1287    18200.0\n",
              "1288    18400.0\n",
              "1289    18200.0\n",
              "1290    18800.0\n",
              "1291    18900.0\n",
              "Name: Price, Length: 1292, dtype: float64"
            ]
          },
          "execution_count": 3,
          "metadata": {},
          "output_type": "execute_result"
        }
      ],
      "source": [
        "df1"
      ]
    },
    {
      "cell_type": "code",
      "execution_count": 4,
      "metadata": {
        "id": "RdVpDho2JgL5"
      },
      "outputs": [],
      "source": [
        "# 3. Scaler data\n",
        "scaler=MinMaxScaler(feature_range=(0,1))\n",
        "df1=scaler.fit_transform(np.array(df1).reshape(-1,1))"
      ]
    },
    {
      "cell_type": "code",
      "execution_count": 5,
      "metadata": {
        "id": "B5JXpenzJoR3"
      },
      "outputs": [],
      "source": [
        "# 4. Chia train test\n",
        "train_size = int(0.7 * len(df1))\n",
        "test_size = int(0.2 * len(df1))\n",
        "val_size = len(df1) - train_size - test_size\n",
        "\n",
        "train_data = df1[:train_size]\n",
        "test_data = df1[train_size:train_size+test_size]\n",
        "val_data = df1[train_size+test_size:]"
      ]
    },
    {
      "cell_type": "code",
      "execution_count": 6,
      "metadata": {
        "id": "yJfmuBORLSfC"
      },
      "outputs": [],
      "source": [
        "# 5. Hàm Create Dataset\n",
        "import numpy\n",
        "# convert an array of values into a dataset matrix\n",
        "def create_dataset(dataset, time_step=1):\n",
        "\tdataX, dataY = [], []\n",
        "\tfor i in range(len(dataset)-time_step-1):\n",
        "\t\ta = dataset[i:(i+time_step), 0]   ###i=0, X=0,1,2,3-----99   Y=100 \n",
        "\t\tdataX.append(a)\n",
        "\t\tdataY.append(dataset[i + time_step, 0])\n",
        "\treturn numpy.array(dataX), numpy.array(dataY)"
      ]
    },
    {
      "cell_type": "code",
      "execution_count": 7,
      "metadata": {
        "id": "e81cKq03LXFB"
      },
      "outputs": [],
      "source": [
        "#6. Reshape into X=t,t+1,t+2..t+99 and Y=t+100\n",
        "\n",
        "time_step = 100\n",
        "X_train, y_train = create_dataset(train_data, time_step)\n",
        "X_val, yval = create_dataset(val_data, time_step)\n",
        "X_test, ytest = create_dataset(test_data, time_step)"
      ]
    },
    {
      "cell_type": "code",
      "execution_count": 8,
      "metadata": {
        "id": "RdBVfku7O2qb"
      },
      "outputs": [],
      "source": [
        "# 7. Reshape input to be [samples, time steps, features] which is required for LSTM\n",
        "X_train =X_train.reshape(X_train.shape[0],X_train.shape[1] , 1)\n",
        "X_test = X_test.reshape(X_test.shape[0],X_test.shape[1] , 1)\n",
        "X_val = X_val.reshape(X_val.shape[0],X_val.shape[1] , 1)"
      ]
    },
    {
      "cell_type": "code",
      "execution_count": 9,
      "metadata": {
        "id": "sSfxrE7BO9vX"
      },
      "outputs": [],
      "source": [
        "# 8. Define GRU Model\n",
        "\n",
        "model = Sequential()\n",
        "model.add(GRU(64, input_shape=(time_step, 1)))\n",
        "model.add(Dense(1))\n",
        "model.compile(optimizer='adam', loss='mean_squared_error')"
      ]
    },
    {
      "cell_type": "code",
      "execution_count": 10,
      "metadata": {
        "colab": {
          "base_uri": "https://localhost:8080/"
        },
        "id": "zgfeujZSPEKr",
        "outputId": "5479b5c5-22d1-4e02-8803-d6637b0f9e03"
      },
      "outputs": [
        {
          "name": "stdout",
          "output_type": "stream",
          "text": [
            "Epoch 1/100\n",
            "13/13 [==============================] - 4s 128ms/step - loss: 0.0667 - val_loss: 0.0054\n",
            "Epoch 2/100\n",
            "13/13 [==============================] - 1s 85ms/step - loss: 0.0158 - val_loss: 0.0026\n",
            "Epoch 3/100\n",
            "13/13 [==============================] - 1s 96ms/step - loss: 0.0054 - val_loss: 0.0019\n",
            "Epoch 4/100\n",
            "13/13 [==============================] - 1s 77ms/step - loss: 0.0014 - val_loss: 0.0027\n",
            "Epoch 5/100\n",
            "13/13 [==============================] - 1s 81ms/step - loss: 9.1839e-04 - val_loss: 0.0015\n",
            "Epoch 6/100\n",
            "13/13 [==============================] - 1s 69ms/step - loss: 7.9900e-04 - val_loss: 0.0016\n",
            "Epoch 7/100\n",
            "13/13 [==============================] - 1s 62ms/step - loss: 7.1011e-04 - val_loss: 0.0016\n",
            "Epoch 8/100\n",
            "13/13 [==============================] - 1s 70ms/step - loss: 6.9570e-04 - val_loss: 0.0015\n",
            "Epoch 9/100\n",
            "13/13 [==============================] - 1s 67ms/step - loss: 6.7335e-04 - val_loss: 0.0015\n",
            "Epoch 10/100\n",
            "13/13 [==============================] - 1s 73ms/step - loss: 6.4956e-04 - val_loss: 0.0015\n",
            "Epoch 11/100\n",
            "13/13 [==============================] - 1s 73ms/step - loss: 6.3375e-04 - val_loss: 0.0014\n",
            "Epoch 12/100\n",
            "13/13 [==============================] - 1s 77ms/step - loss: 6.2254e-04 - val_loss: 0.0015\n",
            "Epoch 13/100\n",
            "13/13 [==============================] - 1s 63ms/step - loss: 6.1277e-04 - val_loss: 0.0013\n",
            "Epoch 14/100\n",
            "13/13 [==============================] - 1s 67ms/step - loss: 6.5786e-04 - val_loss: 0.0017\n",
            "Epoch 15/100\n",
            "13/13 [==============================] - 1s 66ms/step - loss: 6.0290e-04 - val_loss: 0.0013\n",
            "Epoch 16/100\n",
            "13/13 [==============================] - 1s 72ms/step - loss: 5.8385e-04 - val_loss: 0.0012\n",
            "Epoch 17/100\n",
            "13/13 [==============================] - 1s 64ms/step - loss: 5.7713e-04 - val_loss: 0.0013\n",
            "Epoch 18/100\n",
            "13/13 [==============================] - 1s 59ms/step - loss: 5.6510e-04 - val_loss: 0.0014\n",
            "Epoch 19/100\n",
            "13/13 [==============================] - 1s 58ms/step - loss: 5.5069e-04 - val_loss: 0.0012\n",
            "Epoch 20/100\n",
            "13/13 [==============================] - 1s 61ms/step - loss: 5.4682e-04 - val_loss: 0.0013\n",
            "Epoch 21/100\n",
            "13/13 [==============================] - 1s 60ms/step - loss: 5.4377e-04 - val_loss: 0.0013\n",
            "Epoch 22/100\n",
            "13/13 [==============================] - 1s 69ms/step - loss: 5.3815e-04 - val_loss: 0.0012\n",
            "Epoch 23/100\n",
            "13/13 [==============================] - 1s 70ms/step - loss: 5.1978e-04 - val_loss: 0.0011\n",
            "Epoch 24/100\n",
            "13/13 [==============================] - 1s 66ms/step - loss: 5.0953e-04 - val_loss: 0.0013\n",
            "Epoch 25/100\n",
            "13/13 [==============================] - 1s 78ms/step - loss: 5.0663e-04 - val_loss: 0.0011\n",
            "Epoch 26/100\n",
            "13/13 [==============================] - 1s 74ms/step - loss: 4.9822e-04 - val_loss: 0.0011\n",
            "Epoch 27/100\n",
            "13/13 [==============================] - 1s 89ms/step - loss: 4.9683e-04 - val_loss: 0.0013\n",
            "Epoch 28/100\n",
            "13/13 [==============================] - 1s 78ms/step - loss: 4.9455e-04 - val_loss: 0.0011\n",
            "Epoch 29/100\n",
            "13/13 [==============================] - 1s 61ms/step - loss: 4.8118e-04 - val_loss: 0.0011\n",
            "Epoch 30/100\n",
            "13/13 [==============================] - 1s 55ms/step - loss: 4.7505e-04 - val_loss: 0.0011\n",
            "Epoch 31/100\n",
            "13/13 [==============================] - 1s 61ms/step - loss: 4.7120e-04 - val_loss: 0.0012\n",
            "Epoch 32/100\n",
            "13/13 [==============================] - 1s 61ms/step - loss: 4.7479e-04 - val_loss: 0.0010\n",
            "Epoch 33/100\n",
            "13/13 [==============================] - 1s 62ms/step - loss: 4.6140e-04 - val_loss: 9.2520e-04\n",
            "Epoch 34/100\n",
            "13/13 [==============================] - 1s 79ms/step - loss: 4.8520e-04 - val_loss: 9.6799e-04\n",
            "Epoch 35/100\n",
            "13/13 [==============================] - 1s 72ms/step - loss: 4.6154e-04 - val_loss: 0.0012\n",
            "Epoch 36/100\n",
            "13/13 [==============================] - 1s 54ms/step - loss: 4.6675e-04 - val_loss: 0.0011\n",
            "Epoch 37/100\n",
            "13/13 [==============================] - 1s 61ms/step - loss: 4.4332e-04 - val_loss: 9.4280e-04\n",
            "Epoch 38/100\n",
            "13/13 [==============================] - 1s 61ms/step - loss: 4.5017e-04 - val_loss: 9.8819e-04\n",
            "Epoch 39/100\n",
            "13/13 [==============================] - 1s 65ms/step - loss: 4.4041e-04 - val_loss: 8.9309e-04\n",
            "Epoch 40/100\n",
            "13/13 [==============================] - 1s 68ms/step - loss: 4.5083e-04 - val_loss: 9.0096e-04\n",
            "Epoch 41/100\n",
            "13/13 [==============================] - 1s 62ms/step - loss: 4.4297e-04 - val_loss: 8.4338e-04\n",
            "Epoch 42/100\n",
            "13/13 [==============================] - 1s 57ms/step - loss: 4.6166e-04 - val_loss: 8.7193e-04\n",
            "Epoch 43/100\n",
            "13/13 [==============================] - 1s 60ms/step - loss: 4.3518e-04 - val_loss: 8.3172e-04\n",
            "Epoch 44/100\n",
            "13/13 [==============================] - 1s 62ms/step - loss: 4.2705e-04 - val_loss: 8.9861e-04\n",
            "Epoch 45/100\n",
            "13/13 [==============================] - 1s 61ms/step - loss: 4.2266e-04 - val_loss: 9.7445e-04\n",
            "Epoch 46/100\n",
            "13/13 [==============================] - 1s 73ms/step - loss: 4.1574e-04 - val_loss: 8.0047e-04\n",
            "Epoch 47/100\n",
            "13/13 [==============================] - 1s 73ms/step - loss: 4.3771e-04 - val_loss: 7.9137e-04\n",
            "Epoch 48/100\n",
            "13/13 [==============================] - 1s 57ms/step - loss: 4.6335e-04 - val_loss: 8.7924e-04\n",
            "Epoch 49/100\n",
            "13/13 [==============================] - 1s 59ms/step - loss: 4.3227e-04 - val_loss: 9.5205e-04\n",
            "Epoch 50/100\n",
            "13/13 [==============================] - 1s 62ms/step - loss: 4.1492e-04 - val_loss: 8.5699e-04\n",
            "Epoch 51/100\n",
            "13/13 [==============================] - 1s 62ms/step - loss: 4.1074e-04 - val_loss: 9.1941e-04\n",
            "Epoch 52/100\n",
            "13/13 [==============================] - 1s 72ms/step - loss: 4.0843e-04 - val_loss: 8.6028e-04\n",
            "Epoch 53/100\n",
            "13/13 [==============================] - 1s 63ms/step - loss: 3.9891e-04 - val_loss: 9.1670e-04\n",
            "Epoch 54/100\n",
            "13/13 [==============================] - 1s 58ms/step - loss: 4.0342e-04 - val_loss: 9.9348e-04\n",
            "Epoch 55/100\n",
            "13/13 [==============================] - 1s 58ms/step - loss: 3.9510e-04 - val_loss: 8.8786e-04\n",
            "Epoch 56/100\n",
            "13/13 [==============================] - 1s 61ms/step - loss: 3.9961e-04 - val_loss: 9.3914e-04\n",
            "Epoch 57/100\n",
            "13/13 [==============================] - 1s 60ms/step - loss: 4.0406e-04 - val_loss: 8.3982e-04\n",
            "Epoch 58/100\n",
            "13/13 [==============================] - 1s 79ms/step - loss: 3.9659e-04 - val_loss: 8.7045e-04\n",
            "Epoch 59/100\n",
            "13/13 [==============================] - 1s 63ms/step - loss: 3.9166e-04 - val_loss: 9.1592e-04\n",
            "Epoch 60/100\n",
            "13/13 [==============================] - 1s 59ms/step - loss: 3.9096e-04 - val_loss: 9.2772e-04\n",
            "Epoch 61/100\n",
            "13/13 [==============================] - 1s 56ms/step - loss: 3.9624e-04 - val_loss: 9.6529e-04\n",
            "Epoch 62/100\n",
            "13/13 [==============================] - 1s 62ms/step - loss: 3.9973e-04 - val_loss: 8.5175e-04\n",
            "Epoch 63/100\n",
            "13/13 [==============================] - 1s 62ms/step - loss: 4.0190e-04 - val_loss: 8.2111e-04\n",
            "Epoch 64/100\n",
            "13/13 [==============================] - 1s 68ms/step - loss: 3.9356e-04 - val_loss: 8.0696e-04\n",
            "Epoch 65/100\n",
            "13/13 [==============================] - 1s 65ms/step - loss: 3.7875e-04 - val_loss: 8.5968e-04\n",
            "Epoch 66/100\n",
            "13/13 [==============================] - 1s 61ms/step - loss: 3.7576e-04 - val_loss: 7.7273e-04\n",
            "Epoch 67/100\n",
            "13/13 [==============================] - 1s 54ms/step - loss: 3.8530e-04 - val_loss: 7.0565e-04\n",
            "Epoch 68/100\n",
            "13/13 [==============================] - 1s 61ms/step - loss: 4.0033e-04 - val_loss: 7.2983e-04\n",
            "Epoch 69/100\n",
            "13/13 [==============================] - 1s 69ms/step - loss: 3.8535e-04 - val_loss: 7.7718e-04\n",
            "Epoch 70/100\n",
            "13/13 [==============================] - 1s 67ms/step - loss: 3.7801e-04 - val_loss: 7.8260e-04\n",
            "Epoch 71/100\n",
            "13/13 [==============================] - 1s 67ms/step - loss: 3.8774e-04 - val_loss: 8.5796e-04\n",
            "Epoch 72/100\n",
            "13/13 [==============================] - 1s 61ms/step - loss: 3.9844e-04 - val_loss: 8.0373e-04\n",
            "Epoch 73/100\n",
            "13/13 [==============================] - 1s 55ms/step - loss: 3.9118e-04 - val_loss: 8.8069e-04\n",
            "Epoch 74/100\n",
            "13/13 [==============================] - 1s 59ms/step - loss: 3.7980e-04 - val_loss: 7.4018e-04\n",
            "Epoch 75/100\n",
            "13/13 [==============================] - 1s 60ms/step - loss: 3.8366e-04 - val_loss: 7.5278e-04\n",
            "Epoch 76/100\n",
            "13/13 [==============================] - 1s 62ms/step - loss: 3.6510e-04 - val_loss: 9.6094e-04\n",
            "Epoch 77/100\n",
            "13/13 [==============================] - 1s 75ms/step - loss: 3.8654e-04 - val_loss: 8.7937e-04\n",
            "Epoch 78/100\n",
            "13/13 [==============================] - 1s 62ms/step - loss: 3.9158e-04 - val_loss: 7.6650e-04\n",
            "Epoch 79/100\n",
            "13/13 [==============================] - 1s 66ms/step - loss: 3.6633e-04 - val_loss: 6.9413e-04\n",
            "Epoch 80/100\n",
            "13/13 [==============================] - 1s 60ms/step - loss: 3.6505e-04 - val_loss: 7.7992e-04\n",
            "Epoch 81/100\n",
            "13/13 [==============================] - 1s 63ms/step - loss: 3.6507e-04 - val_loss: 8.4291e-04\n",
            "Epoch 82/100\n",
            "13/13 [==============================] - 1s 61ms/step - loss: 3.8713e-04 - val_loss: 8.5490e-04\n",
            "Epoch 83/100\n",
            "13/13 [==============================] - 1s 72ms/step - loss: 3.7315e-04 - val_loss: 8.9864e-04\n",
            "Epoch 84/100\n",
            "13/13 [==============================] - 1s 63ms/step - loss: 3.9075e-04 - val_loss: 8.6489e-04\n",
            "Epoch 85/100\n",
            "13/13 [==============================] - 1s 58ms/step - loss: 3.7054e-04 - val_loss: 8.7007e-04\n",
            "Epoch 86/100\n",
            "13/13 [==============================] - 1s 57ms/step - loss: 3.8270e-04 - val_loss: 8.7717e-04\n",
            "Epoch 87/100\n",
            "13/13 [==============================] - 1s 63ms/step - loss: 3.5947e-04 - val_loss: 7.5202e-04\n",
            "Epoch 88/100\n",
            "13/13 [==============================] - 1s 62ms/step - loss: 3.5891e-04 - val_loss: 8.2856e-04\n",
            "Epoch 89/100\n",
            "13/13 [==============================] - 1s 80ms/step - loss: 3.5636e-04 - val_loss: 6.9786e-04\n",
            "Epoch 90/100\n",
            "13/13 [==============================] - 1s 64ms/step - loss: 3.5345e-04 - val_loss: 7.6104e-04\n",
            "Epoch 91/100\n",
            "13/13 [==============================] - 1s 60ms/step - loss: 3.5622e-04 - val_loss: 8.6329e-04\n",
            "Epoch 92/100\n",
            "13/13 [==============================] - 1s 55ms/step - loss: 3.5496e-04 - val_loss: 8.6213e-04\n",
            "Epoch 93/100\n",
            "13/13 [==============================] - 1s 60ms/step - loss: 3.6508e-04 - val_loss: 8.9749e-04\n",
            "Epoch 94/100\n",
            "13/13 [==============================] - 1s 61ms/step - loss: 3.6315e-04 - val_loss: 8.7568e-04\n",
            "Epoch 95/100\n",
            "13/13 [==============================] - 1s 79ms/step - loss: 3.6668e-04 - val_loss: 7.6624e-04\n",
            "Epoch 96/100\n",
            "13/13 [==============================] - 1s 88ms/step - loss: 3.5958e-04 - val_loss: 7.1186e-04\n",
            "Epoch 97/100\n",
            "13/13 [==============================] - 1s 69ms/step - loss: 3.7213e-04 - val_loss: 6.1708e-04\n",
            "Epoch 98/100\n",
            "13/13 [==============================] - 1s 70ms/step - loss: 3.9068e-04 - val_loss: 6.2079e-04\n",
            "Epoch 99/100\n",
            "13/13 [==============================] - 1s 72ms/step - loss: 3.6311e-04 - val_loss: 6.5584e-04\n",
            "Epoch 100/100\n",
            "13/13 [==============================] - 1s 84ms/step - loss: 3.4489e-04 - val_loss: 7.0552e-04\n"
          ]
        },
        {
          "data": {
            "text/plain": [
              "<keras.callbacks.History at 0x228a8522ed0>"
            ]
          },
          "execution_count": 10,
          "metadata": {},
          "output_type": "execute_result"
        }
      ],
      "source": [
        "# 9. Fit mô hình với dữ liệu train\n",
        "model.fit(X_train,y_train,validation_data=(X_test,ytest),epochs=100,batch_size=64,verbose=1)"
      ]
    },
    {
      "cell_type": "code",
      "execution_count": 11,
      "metadata": {
        "colab": {
          "base_uri": "https://localhost:8080/"
        },
        "id": "Rxx_KQSkQpBG",
        "outputId": "cf0fb697-d4e6-4c79-9af8-47462ffe5053"
      },
      "outputs": [
        {
          "name": "stdout",
          "output_type": "stream",
          "text": [
            "26/26 [==============================] - 1s 16ms/step\n",
            "5/5 [==============================] - 0s 16ms/step\n",
            "1/1 [==============================] - 0s 37ms/step\n"
          ]
        }
      ],
      "source": [
        "# 10. Dự báo dữ liệu test, val\n",
        "train_predict=model.predict(X_train)\n",
        "y_pred=model.predict(X_test)\n",
        "y_pred_val=model.predict(X_val)"
      ]
    },
    {
      "cell_type": "code",
      "execution_count": 12,
      "metadata": {
        "id": "5rwTN10LQ7rj"
      },
      "outputs": [],
      "source": [
        "# 11. Chuẩn hóa dữ liệu y_pred, y_pred_val\n",
        "train_predict=scaler.inverse_transform(train_predict)\n",
        "y_pred=scaler.inverse_transform(y_pred)\n",
        "y_pred_val=scaler.inverse_transform(y_pred_val)"
      ]
    },
    {
      "cell_type": "code",
      "execution_count": 13,
      "metadata": {
        "colab": {
          "base_uri": "https://localhost:8080/"
        },
        "id": "wu_9j94kRonD",
        "outputId": "e9f66eac-ad48-4734-d3f4-76ceb4ad436e"
      },
      "outputs": [
        {
          "name": "stdout",
          "output_type": "stream",
          "text": [
            "Validation RMSE: 16266.319320458211\n",
            "Testing RMSE: 23137.90382193116\n"
          ]
        }
      ],
      "source": [
        "# 12. Đánh giá độ chính xác thuật toán bằng RMSE\n",
        "valid_rmse = np.sqrt(np.mean((y_pred_val - yval)**2))\n",
        "test_rmse = np.sqrt(np.mean((y_pred - ytest)**2))\n",
        "print('Validation RMSE:', valid_rmse)\n",
        "print('Testing RMSE:', test_rmse)"
      ]
    },
    {
      "cell_type": "code",
      "execution_count": 15,
      "metadata": {
        "colab": {
          "base_uri": "https://localhost:8080/"
        },
        "id": "izQZ1iQyYl6N",
        "outputId": "d8643a60-72e4-4ce0-a746-5337af266a98"
      },
      "outputs": [
        {
          "name": "stdout",
          "output_type": "stream",
          "text": [
            "[0.35582498]\n",
            "71\n",
            "[0.35582498]\n",
            "72\n",
            "[0.35582498]\n",
            "73\n",
            "[0.35582498]\n",
            "74\n",
            "[0.35582498]\n",
            "75\n",
            "[0.35582498]\n",
            "76\n",
            "[0.35582498]\n",
            "77\n",
            "[0.35582498]\n",
            "78\n",
            "[0.35582498]\n",
            "79\n",
            "[0.35582498]\n",
            "80\n",
            "[0.35582498]\n",
            "81\n",
            "[0.35582498]\n",
            "82\n",
            "[0.35582498]\n",
            "83\n",
            "[0.35582498]\n",
            "84\n",
            "[0.35582498]\n",
            "85\n",
            "[0.35582498]\n",
            "86\n",
            "[0.35582498]\n",
            "87\n",
            "[0.35582498]\n",
            "88\n",
            "[0.35582498]\n",
            "89\n",
            "[0.35582498]\n",
            "90\n",
            "[0.35582498]\n",
            "91\n",
            "[0.35582498]\n",
            "92\n",
            "[0.35582498]\n",
            "93\n",
            "[0.35582498]\n",
            "94\n",
            "[0.35582498]\n",
            "95\n",
            "[0.35582498]\n",
            "96\n",
            "[0.35582498]\n",
            "97\n",
            "[0.35582498]\n",
            "98\n",
            "[0.35582498]\n",
            "99\n",
            "[0.35582498]\n",
            "100\n"
          ]
        }
      ],
      "source": [
        "# 13. Dự báo 30 ngày tiếp theo\n",
        "x_input=val_data[60:].reshape(1,-1)\n",
        "x_input.shape\n",
        "\n",
        "temp_input=list(x_input)\n",
        "temp_input=temp_input[0].tolist()\n",
        "\n",
        "from numpy import array\n",
        "\n",
        "lst_output=[]\n",
        "n_steps=70\n",
        "i=0\n",
        "while(i<30):\n",
        "    \n",
        "    if(len(temp_input)>100):\n",
        "        #print(temp_input)\n",
        "        x_input=np.array(temp_input[1:])\n",
        "        print(\"{} day input {}\".format(i,x_input))\n",
        "        x_input=x_input.reshape(1,-1)\n",
        "        x_input = x_input.reshape((1, n_steps, 1))\n",
        "        #print(x_input)\n",
        "        yhat = model.predict(x_input, verbose=0)\n",
        "        print(\"{} day output {}\".format(i,yhat))\n",
        "        temp_input.extend(yhat[0].tolist())\n",
        "        temp_input=temp_input[1:]\n",
        "        #print(temp_input)\n",
        "        lst_output.extend(yhat.tolist())\n",
        "        i=i+1\n",
        "    else:\n",
        "        x_input = x_input.reshape((1, n_steps,1))\n",
        "        yhat = model.predict(x_input, verbose=0)\n",
        "        print(yhat[0])\n",
        "        temp_input.extend(yhat[0].tolist())\n",
        "        print(len(temp_input))\n",
        "        lst_output.extend(yhat.tolist())\n",
        "        i=i+1\n"
      ]
    },
    {
      "cell_type": "code",
      "execution_count": 16,
      "metadata": {
        "colab": {
          "base_uri": "https://localhost:8080/",
          "height": 430
        },
        "id": "KSa_mX51a654",
        "outputId": "a17abc33-966c-4a6a-c645-f142e7e9ffb3"
      },
      "outputs": [
        {
          "data": {
            "image/png": "[encoded data removed]",
            "text/plain": [
              "<Figure size 640x480 with 1 Axes>"
            ]
          },
          "metadata": {},
          "output_type": "display_data"
        }
      ],
      "source": [
        "# 14.Vẽ hình\n",
        "\n",
        "train_data_index = pd.RangeIndex(start=0, stop=train_size, step=1)\n",
        "plt.plot(scaler.inverse_transform(train_data))\n",
        "test_data_index = pd.RangeIndex(start=train_size, stop=train_size+test_size, step=1)\n",
        "plt.plot(test_data_index,scaler.inverse_transform(test_data))\n",
        "test_data_index = pd.RangeIndex(start=train_size+101, stop=train_size+test_size, step=1)\n",
        "plt.plot(test_data_index,(y_pred))\n",
        "val_data_index = pd.RangeIndex(start=train_size+test_size, stop=train_size+test_size+val_size, step=1)\n",
        "plt.plot(val_data_index,scaler.inverse_transform(val_data))\n",
        "val_data_index = pd.RangeIndex(start=train_size+test_size+101, stop=train_size+test_size+val_size, step=1)\n",
        "plt.plot(val_data_index,y_pred_val)\n",
        "prediect_data_index = pd.RangeIndex(start=len(df1)-1, stop=len(df1)+29, step=1)\n",
        "plt.plot(prediect_data_index,scaler.inverse_transform(lst_output))\n",
        "plt.legend(['Train','Test','Predict','Validate','ValidatePred','Predict30days'])\n",
        "plt.show()"
      ]
    },
    {
      "cell_type": "code",
      "execution_count": 17,
      "metadata": {},
      "outputs": [],
      "source": [
        "yval=scaler.inverse_transform(yval.reshape(-1, 1))\n",
        "ytest=scaler.inverse_transform(ytest.reshape(-1, 1))"
      ]
    },
    {
      "cell_type": "code",
      "execution_count": 18,
      "metadata": {},
      "outputs": [
        {
          "name": "stdout",
          "output_type": "stream",
          "text": [
            "Validation RMSE: 398.23731348969255\n",
            "Testing RMSE: 908.6169428229153\n",
            "Validation MAPE: 0.018669704492021565\n",
            "Testing MAPE: 0.032091061666456235\n"
          ]
        }
      ],
      "source": [
        "# 12. Đánh giá độ chính xác thuật toán bằng RMSE\n",
        "valid_rmse = np.sqrt(np.mean((y_pred_val - yval)**2))\n",
        "test_rmse = np.sqrt(np.mean((y_pred - ytest)**2))\n",
        "print('Validation RMSE:', valid_rmse)\n",
        "print('Testing RMSE:', test_rmse)\n",
        "from sklearn.metrics import mean_absolute_percentage_error\n",
        "\n",
        "\n",
        "vail_mape = mean_absolute_percentage_error(yval, y_pred_val)\n",
        "test_mape = mean_absolute_percentage_error(ytest, y_pred)\n",
        "print('Validation MAPE:', vail_mape)\n",
        "print('Testing MAPE:', test_mape)"
      ]
    }
  ],
  "metadata": {
    "colab": {
      "provenance": []
    },
    "kernelspec": {
      "display_name": "Python 3",
      "name": "python3"
    },
    "language_info": {
      "codemirror_mode": {
        "name": "ipython",
        "version": 3
      },
      "file_extension": ".py",
      "mimetype": "text/x-python",
      "name": "python",
      "nbconvert_exporter": "python",
      "pygments_lexer": "ipython3",
      "version": "3.11.2"
    }
  },
  "nbformat": 4,
  "nbformat_minor": 0
}
