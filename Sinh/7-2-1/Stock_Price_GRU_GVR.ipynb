{
  "cells": [
    {
      "cell_type": "code",
      "execution_count": 1,
      "metadata": {
        "colab": {
          "base_uri": "https://localhost:8080/"
        },
        "id": "FMDKda-XIUAK",
        "outputId": "83f83310-8d4b-4925-a7d3-764d810f45e1"
      },
      "outputs": [],
      "source": [
        "# 1. Import thư viện cần thiết\n",
        "import numpy as np\n",
        "import pandas as pd\n",
        "import matplotlib.pyplot as plt\n",
        "from sklearn.preprocessing import MinMaxScaler\n",
        "from keras.models import Sequential\n",
        "from keras.layers import Dense, GRU"
      ]
    },
    {
      "cell_type": "code",
      "execution_count": 2,
      "metadata": {},
      "outputs": [],
      "source": [
        "# 2. Đọc file csv và gắng index với giá Close\n",
        "df = pd.read_csv('../GVR Historical Data.csv')"
      ]
    },
    {
      "cell_type": "code",
      "execution_count": 3,
      "metadata": {},
      "outputs": [],
      "source": [
        "# convert date field from string to Date format and make it index\n",
        "def tranformData(df: pd.DataFrame):\n",
        "  df['Date'] = pd.to_datetime(df.Date, format='%m/%d/%Y')\n",
        "  df['Price'] = df['Price'].astype(str).apply(lambda x: float(x.replace(',', '')))\n",
        "  df['Open'] = df['Open'].astype(str).apply(lambda x: float(x.replace(',', '')))\n",
        "  df['High'] = df['High'].astype(str).apply(lambda x: float(x.replace(',', '')))\n",
        "  df['Low'] = df['Low'].astype(str).apply(lambda x: float(x.replace(',', '')))\n",
        "  def convert_to_number(x):\n",
        "      if 'M' in x:\n",
        "          return float(x.replace('M', '')) * 1000000\n",
        "      elif 'K' in x:\n",
        "          return float(x.replace('K', '')) * 1000\n",
        "      else:\n",
        "          return float(x)\n",
        "  df['Vol.'] = df['Vol.'].apply(convert_to_number)\n",
        "  df['Change %'] = df['Change %'].apply(lambda x: float(x.strip('%'))/100)"
      ]
    },
    {
      "cell_type": "code",
      "execution_count": 4,
      "metadata": {},
      "outputs": [
        {
          "data": {
            "text/html": [
              "<div>\n",
              "<style scoped>\n",
              "    .dataframe tbody tr th:only-of-type {\n",
              "        vertical-align: middle;\n",
              "    }\n",
              "\n",
              "    .dataframe tbody tr th {\n",
              "        vertical-align: top;\n",
              "    }\n",
              "\n",
              "    .dataframe thead th {\n",
              "        text-align: right;\n",
              "    }\n",
              "</style>\n",
              "<table border=\"1\" class=\"dataframe\">\n",
              "  <thead>\n",
              "    <tr style=\"text-align: right;\">\n",
              "      <th></th>\n",
              "      <th>Date</th>\n",
              "      <th>Price</th>\n",
              "      <th>Open</th>\n",
              "      <th>High</th>\n",
              "      <th>Low</th>\n",
              "      <th>Vol.</th>\n",
              "      <th>Change %</th>\n",
              "    </tr>\n",
              "  </thead>\n",
              "  <tbody>\n",
              "    <tr>\n",
              "      <th>0</th>\n",
              "      <td>2023-06-02</td>\n",
              "      <td>18900.0</td>\n",
              "      <td>18950.0</td>\n",
              "      <td>19000.0</td>\n",
              "      <td>18600.0</td>\n",
              "      <td>2720000.0</td>\n",
              "      <td>0.0053</td>\n",
              "    </tr>\n",
              "    <tr>\n",
              "      <th>1</th>\n",
              "      <td>2023-06-01</td>\n",
              "      <td>18800.0</td>\n",
              "      <td>18350.0</td>\n",
              "      <td>18900.0</td>\n",
              "      <td>18100.0</td>\n",
              "      <td>4250000.0</td>\n",
              "      <td>0.0330</td>\n",
              "    </tr>\n",
              "    <tr>\n",
              "      <th>2</th>\n",
              "      <td>2023-05-31</td>\n",
              "      <td>18200.0</td>\n",
              "      <td>18450.0</td>\n",
              "      <td>18450.0</td>\n",
              "      <td>18000.0</td>\n",
              "      <td>3140000.0</td>\n",
              "      <td>-0.0109</td>\n",
              "    </tr>\n",
              "    <tr>\n",
              "      <th>3</th>\n",
              "      <td>2023-05-30</td>\n",
              "      <td>18400.0</td>\n",
              "      <td>18300.0</td>\n",
              "      <td>18500.0</td>\n",
              "      <td>17850.0</td>\n",
              "      <td>4580000.0</td>\n",
              "      <td>0.0110</td>\n",
              "    </tr>\n",
              "    <tr>\n",
              "      <th>4</th>\n",
              "      <td>2023-05-29</td>\n",
              "      <td>18200.0</td>\n",
              "      <td>17200.0</td>\n",
              "      <td>18200.0</td>\n",
              "      <td>17050.0</td>\n",
              "      <td>6080000.0</td>\n",
              "      <td>0.0581</td>\n",
              "    </tr>\n",
              "    <tr>\n",
              "      <th>...</th>\n",
              "      <td>...</td>\n",
              "      <td>...</td>\n",
              "      <td>...</td>\n",
              "      <td>...</td>\n",
              "      <td>...</td>\n",
              "      <td>...</td>\n",
              "      <td>...</td>\n",
              "    </tr>\n",
              "    <tr>\n",
              "      <th>1287</th>\n",
              "      <td>2018-03-28</td>\n",
              "      <td>11327.0</td>\n",
              "      <td>10736.0</td>\n",
              "      <td>11622.0</td>\n",
              "      <td>10637.0</td>\n",
              "      <td>139800.0</td>\n",
              "      <td>0.0550</td>\n",
              "    </tr>\n",
              "    <tr>\n",
              "      <th>1288</th>\n",
              "      <td>2018-03-27</td>\n",
              "      <td>10736.0</td>\n",
              "      <td>10637.0</td>\n",
              "      <td>10834.0</td>\n",
              "      <td>10342.0</td>\n",
              "      <td>52200.0</td>\n",
              "      <td>0.0583</td>\n",
              "    </tr>\n",
              "    <tr>\n",
              "      <th>1289</th>\n",
              "      <td>2018-03-26</td>\n",
              "      <td>10145.0</td>\n",
              "      <td>10046.0</td>\n",
              "      <td>10342.0</td>\n",
              "      <td>10046.0</td>\n",
              "      <td>267800.0</td>\n",
              "      <td>-0.0190</td>\n",
              "    </tr>\n",
              "    <tr>\n",
              "      <th>1290</th>\n",
              "      <td>2018-03-23</td>\n",
              "      <td>10342.0</td>\n",
              "      <td>10440.0</td>\n",
              "      <td>10440.0</td>\n",
              "      <td>9849.0</td>\n",
              "      <td>111800.0</td>\n",
              "      <td>-0.0367</td>\n",
              "    </tr>\n",
              "    <tr>\n",
              "      <th>1291</th>\n",
              "      <td>2018-03-22</td>\n",
              "      <td>10736.0</td>\n",
              "      <td>10834.0</td>\n",
              "      <td>11130.0</td>\n",
              "      <td>10046.0</td>\n",
              "      <td>260800.0</td>\n",
              "      <td>0.0000</td>\n",
              "    </tr>\n",
              "  </tbody>\n",
              "</table>\n",
              "<p>1292 rows × 7 columns</p>\n",
              "</div>"
            ],
            "text/plain": [
              "           Date    Price     Open     High      Low       Vol.  Change %\n",
              "0    2023-06-02  18900.0  18950.0  19000.0  18600.0  2720000.0    0.0053\n",
              "1    2023-06-01  18800.0  18350.0  18900.0  18100.0  4250000.0    0.0330\n",
              "2    2023-05-31  18200.0  18450.0  18450.0  18000.0  3140000.0   -0.0109\n",
              "3    2023-05-30  18400.0  18300.0  18500.0  17850.0  4580000.0    0.0110\n",
              "4    2023-05-29  18200.0  17200.0  18200.0  17050.0  6080000.0    0.0581\n",
              "...         ...      ...      ...      ...      ...        ...       ...\n",
              "1287 2018-03-28  11327.0  10736.0  11622.0  10637.0   139800.0    0.0550\n",
              "1288 2018-03-27  10736.0  10637.0  10834.0  10342.0    52200.0    0.0583\n",
              "1289 2018-03-26  10145.0  10046.0  10342.0  10046.0   267800.0   -0.0190\n",
              "1290 2018-03-23  10342.0  10440.0  10440.0   9849.0   111800.0   -0.0367\n",
              "1291 2018-03-22  10736.0  10834.0  11130.0  10046.0   260800.0    0.0000\n",
              "\n",
              "[1292 rows x 7 columns]"
            ]
          },
          "execution_count": 4,
          "metadata": {},
          "output_type": "execute_result"
        }
      ],
      "source": [
        "tranformData(df)\n",
        "df"
      ]
    },
    {
      "cell_type": "code",
      "execution_count": 5,
      "metadata": {},
      "outputs": [],
      "source": [
        "df=df.sort_values(['Date'], ascending=[True])\n",
        "df = df.reset_index(drop=True)\n",
        "df1=df.reset_index()['Price']"
      ]
    },
    {
      "cell_type": "code",
      "execution_count": 6,
      "metadata": {
        "id": "RdVpDho2JgL5"
      },
      "outputs": [],
      "source": [
        "# 3. Scaler data\n",
        "scaler=MinMaxScaler(feature_range=(0,1))\n",
        "df1=scaler.fit_transform(np.array(df1).reshape(-1,1))"
      ]
    },
    {
      "cell_type": "code",
      "execution_count": 7,
      "metadata": {
        "id": "B5JXpenzJoR3"
      },
      "outputs": [],
      "source": [
        "# 4. Chia train test\n",
        "train_size = int(0.7 * len(df1))\n",
        "test_size = int(0.2 * len(df1))\n",
        "val_size = len(df1) - train_size - test_size\n",
        "\n",
        "train_data = df1[:train_size]\n",
        "test_data = df1[train_size:train_size+test_size]\n",
        "val_data = df1[train_size+test_size:]"
      ]
    },
    {
      "cell_type": "code",
      "execution_count": 8,
      "metadata": {
        "id": "yJfmuBORLSfC"
      },
      "outputs": [],
      "source": [
        "# 5. Hàm Create Dataset\n",
        "import numpy\n",
        "# convert an array of values into a dataset matrix\n",
        "def create_dataset(dataset, time_step=1):\n",
        "\tdataX, dataY = [], []\n",
        "\tfor i in range(len(dataset)-time_step-1):\n",
        "\t\ta = dataset[i:(i+time_step), 0]   ###i=0, X=0,1,2,3-----99   Y=100 \n",
        "\t\tdataX.append(a)\n",
        "\t\tdataY.append(dataset[i + time_step, 0])\n",
        "\treturn numpy.array(dataX), numpy.array(dataY)"
      ]
    },
    {
      "cell_type": "code",
      "execution_count": 9,
      "metadata": {
        "id": "e81cKq03LXFB"
      },
      "outputs": [],
      "source": [
        "#6. Reshape into X=t,t+1,t+2..t+99 and Y=t+100\n",
        "\n",
        "time_step = 100\n",
        "X_train, y_train = create_dataset(train_data, time_step)\n",
        "X_val, yval = create_dataset(val_data, time_step)\n",
        "X_test, ytest = create_dataset(test_data, time_step)"
      ]
    },
    {
      "cell_type": "code",
      "execution_count": 10,
      "metadata": {
        "id": "RdBVfku7O2qb"
      },
      "outputs": [],
      "source": [
        "# 7. Reshape input to be [samples, time steps, features] which is required for LSTM\n",
        "X_train =X_train.reshape(X_train.shape[0],X_train.shape[1] , 1)\n",
        "X_test = X_test.reshape(X_test.shape[0],X_test.shape[1] , 1)\n",
        "X_val = X_val.reshape(X_val.shape[0],X_val.shape[1] , 1)"
      ]
    },
    {
      "cell_type": "code",
      "execution_count": 11,
      "metadata": {
        "id": "sSfxrE7BO9vX"
      },
      "outputs": [],
      "source": [
        "# 8. Define GRU Model\n",
        "\n",
        "model = Sequential()\n",
        "model.add(GRU(64, input_shape=(time_step, 1)))\n",
        "model.add(Dense(1))\n",
        "model.compile(optimizer='adam', loss='mean_squared_error')"
      ]
    },
    {
      "cell_type": "code",
      "execution_count": 12,
      "metadata": {
        "colab": {
          "base_uri": "https://localhost:8080/"
        },
        "id": "zgfeujZSPEKr",
        "outputId": "5479b5c5-22d1-4e02-8803-d6637b0f9e03"
      },
      "outputs": [
        {
          "name": "stdout",
          "output_type": "stream",
          "text": [
            "Epoch 1/100\n",
            "13/13 [==============================] - 2s 60ms/step - loss: 0.0467 - val_loss: 0.0135\n",
            "Epoch 2/100\n",
            "13/13 [==============================] - 0s 30ms/step - loss: 0.0116 - val_loss: 0.0033\n",
            "Epoch 3/100\n",
            "13/13 [==============================] - 0s 30ms/step - loss: 0.0023 - val_loss: 0.0028\n",
            "Epoch 4/100\n",
            "13/13 [==============================] - 0s 31ms/step - loss: 9.9947e-04 - val_loss: 0.0015\n",
            "Epoch 5/100\n",
            "13/13 [==============================] - 0s 30ms/step - loss: 8.6169e-04 - val_loss: 0.0019\n",
            "Epoch 6/100\n",
            "13/13 [==============================] - 0s 31ms/step - loss: 7.0046e-04 - val_loss: 0.0016\n",
            "Epoch 7/100\n",
            "13/13 [==============================] - 0s 36ms/step - loss: 6.8106e-04 - val_loss: 0.0015\n",
            "Epoch 8/100\n",
            "13/13 [==============================] - 0s 30ms/step - loss: 6.4900e-04 - val_loss: 0.0016\n",
            "Epoch 9/100\n",
            "13/13 [==============================] - 0s 31ms/step - loss: 6.4334e-04 - val_loss: 0.0013\n",
            "Epoch 10/100\n",
            "13/13 [==============================] - 0s 29ms/step - loss: 6.2858e-04 - val_loss: 0.0017\n",
            "Epoch 11/100\n",
            "13/13 [==============================] - 0s 30ms/step - loss: 6.2104e-04 - val_loss: 0.0014\n",
            "Epoch 12/100\n",
            "13/13 [==============================] - 0s 30ms/step - loss: 5.9733e-04 - val_loss: 0.0014\n",
            "Epoch 13/100\n",
            "13/13 [==============================] - 0s 30ms/step - loss: 5.8436e-04 - val_loss: 0.0014\n",
            "Epoch 14/100\n",
            "13/13 [==============================] - 0s 29ms/step - loss: 5.7854e-04 - val_loss: 0.0012\n",
            "Epoch 15/100\n",
            "13/13 [==============================] - 0s 34ms/step - loss: 5.8580e-04 - val_loss: 0.0013\n",
            "Epoch 16/100\n",
            "13/13 [==============================] - 0s 30ms/step - loss: 5.7936e-04 - val_loss: 0.0014\n",
            "Epoch 17/100\n",
            "13/13 [==============================] - 0s 30ms/step - loss: 5.6004e-04 - val_loss: 0.0014\n",
            "Epoch 18/100\n",
            "13/13 [==============================] - 0s 30ms/step - loss: 5.4682e-04 - val_loss: 0.0011\n",
            "Epoch 19/100\n",
            "13/13 [==============================] - 0s 31ms/step - loss: 5.3917e-04 - val_loss: 0.0012\n",
            "Epoch 20/100\n",
            "13/13 [==============================] - 0s 31ms/step - loss: 5.2990e-04 - val_loss: 0.0013\n",
            "Epoch 21/100\n",
            "13/13 [==============================] - 0s 31ms/step - loss: 5.2899e-04 - val_loss: 0.0013\n",
            "Epoch 22/100\n",
            "13/13 [==============================] - 0s 37ms/step - loss: 5.2602e-04 - val_loss: 0.0015\n",
            "Epoch 23/100\n",
            "13/13 [==============================] - 1s 39ms/step - loss: 5.7390e-04 - val_loss: 0.0011\n",
            "Epoch 24/100\n",
            "13/13 [==============================] - 0s 35ms/step - loss: 5.0936e-04 - val_loss: 0.0010\n",
            "Epoch 25/100\n",
            "13/13 [==============================] - 0s 35ms/step - loss: 4.9197e-04 - val_loss: 0.0010\n",
            "Epoch 26/100\n",
            "13/13 [==============================] - 0s 35ms/step - loss: 4.8607e-04 - val_loss: 0.0012\n",
            "Epoch 27/100\n",
            "13/13 [==============================] - 0s 35ms/step - loss: 4.8311e-04 - val_loss: 0.0011\n",
            "Epoch 28/100\n",
            "13/13 [==============================] - 0s 36ms/step - loss: 4.6807e-04 - val_loss: 0.0011\n",
            "Epoch 29/100\n",
            "13/13 [==============================] - 1s 38ms/step - loss: 4.9263e-04 - val_loss: 8.9406e-04\n",
            "Epoch 30/100\n",
            "13/13 [==============================] - 1s 43ms/step - loss: 4.9095e-04 - val_loss: 8.9699e-04\n",
            "Epoch 31/100\n",
            "13/13 [==============================] - 0s 35ms/step - loss: 4.8124e-04 - val_loss: 8.9559e-04\n",
            "Epoch 32/100\n",
            "13/13 [==============================] - 0s 37ms/step - loss: 4.7484e-04 - val_loss: 0.0010\n",
            "Epoch 33/100\n",
            "13/13 [==============================] - 1s 39ms/step - loss: 4.7305e-04 - val_loss: 9.4036e-04\n",
            "Epoch 34/100\n",
            "13/13 [==============================] - 0s 36ms/step - loss: 4.4795e-04 - val_loss: 0.0011\n",
            "Epoch 35/100\n",
            "13/13 [==============================] - 0s 35ms/step - loss: 4.4057e-04 - val_loss: 0.0011\n",
            "Epoch 36/100\n",
            "13/13 [==============================] - 0s 36ms/step - loss: 4.5063e-04 - val_loss: 8.5991e-04\n",
            "Epoch 37/100\n",
            "13/13 [==============================] - 0s 39ms/step - loss: 4.5204e-04 - val_loss: 8.3856e-04\n",
            "Epoch 38/100\n",
            "13/13 [==============================] - 0s 37ms/step - loss: 4.3295e-04 - val_loss: 8.9597e-04\n",
            "Epoch 39/100\n",
            "13/13 [==============================] - 0s 37ms/step - loss: 4.2864e-04 - val_loss: 9.5752e-04\n",
            "Epoch 40/100\n",
            "13/13 [==============================] - 0s 38ms/step - loss: 4.5490e-04 - val_loss: 0.0012\n",
            "Epoch 41/100\n",
            "13/13 [==============================] - 0s 35ms/step - loss: 4.3498e-04 - val_loss: 8.5178e-04\n",
            "Epoch 42/100\n",
            "13/13 [==============================] - 0s 36ms/step - loss: 4.2309e-04 - val_loss: 8.2314e-04\n",
            "Epoch 43/100\n",
            "13/13 [==============================] - 0s 36ms/step - loss: 4.2873e-04 - val_loss: 8.1670e-04\n",
            "Epoch 44/100\n",
            "13/13 [==============================] - 0s 39ms/step - loss: 4.2284e-04 - val_loss: 8.5129e-04\n",
            "Epoch 45/100\n",
            "13/13 [==============================] - 0s 34ms/step - loss: 4.1577e-04 - val_loss: 9.8063e-04\n",
            "Epoch 46/100\n",
            "13/13 [==============================] - 0s 36ms/step - loss: 4.1921e-04 - val_loss: 9.7997e-04\n",
            "Epoch 47/100\n",
            "13/13 [==============================] - 0s 36ms/step - loss: 4.1811e-04 - val_loss: 0.0010\n",
            "Epoch 48/100\n",
            "13/13 [==============================] - 1s 40ms/step - loss: 4.0766e-04 - val_loss: 9.9917e-04\n",
            "Epoch 49/100\n",
            "13/13 [==============================] - 1s 39ms/step - loss: 4.2610e-04 - val_loss: 9.4422e-04\n",
            "Epoch 50/100\n",
            "13/13 [==============================] - 1s 40ms/step - loss: 4.1074e-04 - val_loss: 9.4578e-04\n",
            "Epoch 51/100\n",
            "13/13 [==============================] - 0s 38ms/step - loss: 3.9251e-04 - val_loss: 7.9087e-04\n",
            "Epoch 52/100\n",
            "13/13 [==============================] - 0s 37ms/step - loss: 3.9780e-04 - val_loss: 7.4555e-04\n",
            "Epoch 53/100\n",
            "13/13 [==============================] - 1s 43ms/step - loss: 4.1045e-04 - val_loss: 7.3170e-04\n",
            "Epoch 54/100\n",
            "13/13 [==============================] - 1s 43ms/step - loss: 4.0361e-04 - val_loss: 7.3520e-04\n",
            "Epoch 55/100\n",
            "13/13 [==============================] - 0s 35ms/step - loss: 3.9973e-04 - val_loss: 7.4246e-04\n",
            "Epoch 56/100\n",
            "13/13 [==============================] - 1s 41ms/step - loss: 3.9045e-04 - val_loss: 8.1519e-04\n",
            "Epoch 57/100\n",
            "13/13 [==============================] - 0s 38ms/step - loss: 4.1819e-04 - val_loss: 0.0010\n",
            "Epoch 58/100\n",
            "13/13 [==============================] - 1s 39ms/step - loss: 4.0303e-04 - val_loss: 7.9731e-04\n",
            "Epoch 59/100\n",
            "13/13 [==============================] - 1s 41ms/step - loss: 4.3108e-04 - val_loss: 9.0637e-04\n",
            "Epoch 60/100\n",
            "13/13 [==============================] - 1s 41ms/step - loss: 4.5119e-04 - val_loss: 8.2816e-04\n",
            "Epoch 61/100\n",
            "13/13 [==============================] - 1s 39ms/step - loss: 3.8903e-04 - val_loss: 8.0566e-04\n",
            "Epoch 62/100\n",
            "13/13 [==============================] - 1s 42ms/step - loss: 3.7824e-04 - val_loss: 8.8881e-04\n",
            "Epoch 63/100\n",
            "13/13 [==============================] - 0s 35ms/step - loss: 3.8835e-04 - val_loss: 9.8556e-04\n",
            "Epoch 64/100\n",
            "13/13 [==============================] - 0s 35ms/step - loss: 3.8852e-04 - val_loss: 9.3053e-04\n",
            "Epoch 65/100\n",
            "13/13 [==============================] - 0s 35ms/step - loss: 3.9026e-04 - val_loss: 8.1557e-04\n",
            "Epoch 66/100\n",
            "13/13 [==============================] - 0s 35ms/step - loss: 3.8170e-04 - val_loss: 7.4070e-04\n",
            "Epoch 67/100\n",
            "13/13 [==============================] - 1s 43ms/step - loss: 3.7840e-04 - val_loss: 7.4577e-04\n",
            "Epoch 68/100\n",
            "13/13 [==============================] - 0s 37ms/step - loss: 3.7384e-04 - val_loss: 7.2230e-04\n",
            "Epoch 69/100\n",
            "13/13 [==============================] - 0s 37ms/step - loss: 3.7298e-04 - val_loss: 6.6875e-04\n",
            "Epoch 70/100\n",
            "13/13 [==============================] - 0s 37ms/step - loss: 3.9164e-04 - val_loss: 6.6383e-04\n",
            "Epoch 71/100\n",
            "13/13 [==============================] - 0s 37ms/step - loss: 4.0350e-04 - val_loss: 6.9703e-04\n",
            "Epoch 72/100\n",
            "13/13 [==============================] - 0s 35ms/step - loss: 3.8127e-04 - val_loss: 6.6577e-04\n",
            "Epoch 73/100\n",
            "13/13 [==============================] - 1s 39ms/step - loss: 3.7031e-04 - val_loss: 7.0095e-04\n",
            "Epoch 74/100\n",
            "13/13 [==============================] - 1s 39ms/step - loss: 3.7571e-04 - val_loss: 6.5791e-04\n",
            "Epoch 75/100\n",
            "13/13 [==============================] - 0s 35ms/step - loss: 3.8573e-04 - val_loss: 6.8869e-04\n",
            "Epoch 76/100\n",
            "13/13 [==============================] - 0s 38ms/step - loss: 3.7576e-04 - val_loss: 6.8250e-04\n",
            "Epoch 77/100\n",
            "13/13 [==============================] - 0s 36ms/step - loss: 3.6787e-04 - val_loss: 7.1353e-04\n",
            "Epoch 78/100\n",
            "13/13 [==============================] - 0s 36ms/step - loss: 3.5940e-04 - val_loss: 7.7489e-04\n",
            "Epoch 79/100\n",
            "13/13 [==============================] - 1s 39ms/step - loss: 3.5971e-04 - val_loss: 6.8288e-04\n",
            "Epoch 80/100\n",
            "13/13 [==============================] - 0s 36ms/step - loss: 3.6256e-04 - val_loss: 0.0011\n",
            "Epoch 81/100\n",
            "13/13 [==============================] - 0s 36ms/step - loss: 3.9777e-04 - val_loss: 7.5938e-04\n",
            "Epoch 82/100\n",
            "13/13 [==============================] - 0s 35ms/step - loss: 3.7107e-04 - val_loss: 6.9232e-04\n",
            "Epoch 83/100\n",
            "13/13 [==============================] - 0s 38ms/step - loss: 3.6092e-04 - val_loss: 7.7367e-04\n",
            "Epoch 84/100\n",
            "13/13 [==============================] - 0s 35ms/step - loss: 3.7503e-04 - val_loss: 6.3836e-04\n",
            "Epoch 85/100\n",
            "13/13 [==============================] - 1s 42ms/step - loss: 3.9185e-04 - val_loss: 6.6613e-04\n",
            "Epoch 86/100\n",
            "13/13 [==============================] - 0s 35ms/step - loss: 3.5208e-04 - val_loss: 6.6561e-04\n",
            "Epoch 87/100\n",
            "13/13 [==============================] - 0s 34ms/step - loss: 3.5612e-04 - val_loss: 6.6808e-04\n",
            "Epoch 88/100\n",
            "13/13 [==============================] - 0s 33ms/step - loss: 3.6236e-04 - val_loss: 6.3358e-04\n",
            "Epoch 89/100\n",
            "13/13 [==============================] - 0s 34ms/step - loss: 3.7264e-04 - val_loss: 6.5437e-04\n",
            "Epoch 90/100\n",
            "13/13 [==============================] - 1s 41ms/step - loss: 3.5991e-04 - val_loss: 6.2486e-04\n",
            "Epoch 91/100\n",
            "13/13 [==============================] - 0s 32ms/step - loss: 3.6586e-04 - val_loss: 7.9030e-04\n",
            "Epoch 92/100\n",
            "13/13 [==============================] - 0s 31ms/step - loss: 3.5731e-04 - val_loss: 6.5163e-04\n",
            "Epoch 93/100\n",
            "13/13 [==============================] - 0s 32ms/step - loss: 3.5591e-04 - val_loss: 7.9850e-04\n",
            "Epoch 94/100\n",
            "13/13 [==============================] - 0s 33ms/step - loss: 3.5455e-04 - val_loss: 7.6708e-04\n",
            "Epoch 95/100\n",
            "13/13 [==============================] - 0s 32ms/step - loss: 3.4764e-04 - val_loss: 6.6743e-04\n",
            "Epoch 96/100\n",
            "13/13 [==============================] - 0s 34ms/step - loss: 3.4414e-04 - val_loss: 7.0309e-04\n",
            "Epoch 97/100\n",
            "13/13 [==============================] - 0s 32ms/step - loss: 3.4332e-04 - val_loss: 6.8082e-04\n",
            "Epoch 98/100\n",
            "13/13 [==============================] - 0s 31ms/step - loss: 3.3791e-04 - val_loss: 6.0508e-04\n",
            "Epoch 99/100\n",
            "13/13 [==============================] - 0s 31ms/step - loss: 4.0732e-04 - val_loss: 6.0634e-04\n",
            "Epoch 100/100\n",
            "13/13 [==============================] - 0s 31ms/step - loss: 3.9617e-04 - val_loss: 9.5576e-04\n"
          ]
        },
        {
          "data": {
            "text/plain": [
              "<keras.callbacks.History at 0x1da02a6fb90>"
            ]
          },
          "execution_count": 12,
          "metadata": {},
          "output_type": "execute_result"
        }
      ],
      "source": [
        "# 9. Fit mô hình với dữ liệu train\n",
        "model.fit(X_train,y_train,validation_data=(X_test,ytest),epochs=100,batch_size=64,verbose=1)"
      ]
    },
    {
      "cell_type": "code",
      "execution_count": 13,
      "metadata": {
        "colab": {
          "base_uri": "https://localhost:8080/"
        },
        "id": "Rxx_KQSkQpBG",
        "outputId": "cf0fb697-d4e6-4c79-9af8-47462ffe5053"
      },
      "outputs": [
        {
          "name": "stdout",
          "output_type": "stream",
          "text": [
            "26/26 [==============================] - 1s 7ms/step\n",
            "5/5 [==============================] - 0s 7ms/step\n",
            "1/1 [==============================] - 0s 28ms/step\n"
          ]
        }
      ],
      "source": [
        "# 10. Dự báo dữ liệu test, val\n",
        "train_predict=model.predict(X_train)\n",
        "y_pred=model.predict(X_test)\n",
        "y_pred_val=model.predict(X_val)"
      ]
    },
    {
      "cell_type": "code",
      "execution_count": 14,
      "metadata": {
        "id": "5rwTN10LQ7rj"
      },
      "outputs": [],
      "source": [
        "# 11. Chuẩn hóa dữ liệu y_pred, y_pred_val\n",
        "train_predict=scaler.inverse_transform(train_predict)\n",
        "y_pred=scaler.inverse_transform(y_pred)\n",
        "y_pred_val=scaler.inverse_transform(y_pred_val)"
      ]
    },
    {
      "cell_type": "code",
      "execution_count": 15,
      "metadata": {
        "colab": {
          "base_uri": "https://localhost:8080/"
        },
        "id": "wu_9j94kRonD",
        "outputId": "e9f66eac-ad48-4734-d3f4-76ceb4ad436e"
      },
      "outputs": [
        {
          "name": "stdout",
          "output_type": "stream",
          "text": [
            "Validation RMSE: 16534.86757541264\n",
            "Testing RMSE: 23452.455215090802\n"
          ]
        }
      ],
      "source": [
        "# 12. Đánh giá độ chính xác thuật toán bằng RMSE\n",
        "valid_rmse = np.sqrt(np.mean((y_pred_val - yval)**2))\n",
        "test_rmse = np.sqrt(np.mean((y_pred - ytest)**2))\n",
        "print('Validation RMSE:', valid_rmse)\n",
        "print('Testing RMSE:', test_rmse)"
      ]
    },
    {
      "cell_type": "code",
      "execution_count": 17,
      "metadata": {
        "colab": {
          "base_uri": "https://localhost:8080/"
        },
        "id": "izQZ1iQyYl6N",
        "outputId": "d8643a60-72e4-4ce0-a746-5337af266a98"
      },
      "outputs": [
        {
          "name": "stdout",
          "output_type": "stream",
          "text": [
            "[0.3646743]\n",
            "71\n",
            "[0.3646743]\n",
            "72\n",
            "[0.3646743]\n",
            "73\n",
            "[0.3646743]\n",
            "74\n",
            "[0.3646743]\n",
            "75\n",
            "[0.3646743]\n",
            "76\n",
            "[0.3646743]\n",
            "77\n",
            "[0.3646743]\n",
            "78\n",
            "[0.3646743]\n",
            "79\n",
            "[0.3646743]\n",
            "80\n",
            "[0.3646743]\n",
            "81\n",
            "[0.3646743]\n",
            "82\n",
            "[0.3646743]\n",
            "83\n",
            "[0.3646743]\n",
            "84\n",
            "[0.3646743]\n",
            "85\n",
            "[0.3646743]\n",
            "86\n",
            "[0.3646743]\n",
            "87\n",
            "[0.3646743]\n",
            "88\n",
            "[0.3646743]\n",
            "89\n",
            "[0.3646743]\n",
            "90\n",
            "[0.3646743]\n",
            "91\n",
            "[0.3646743]\n",
            "92\n",
            "[0.3646743]\n",
            "93\n",
            "[0.3646743]\n",
            "94\n",
            "[0.3646743]\n",
            "95\n",
            "[0.3646743]\n",
            "96\n",
            "[0.3646743]\n",
            "97\n",
            "[0.3646743]\n",
            "98\n",
            "[0.3646743]\n",
            "99\n",
            "[0.3646743]\n",
            "100\n"
          ]
        }
      ],
      "source": [
        "# 13. Dự báo 30 ngày tiếp theo\n",
        "x_input=val_data[60:].reshape(1,-1)\n",
        "x_input.shape\n",
        "\n",
        "temp_input=list(x_input)\n",
        "temp_input=temp_input[0].tolist()\n",
        "\n",
        "from numpy import array\n",
        "\n",
        "lst_output=[]\n",
        "n_steps=70\n",
        "i=0\n",
        "while(i<30):\n",
        "    \n",
        "    if(len(temp_input)>100):\n",
        "        #print(temp_input)\n",
        "        x_input=np.array(temp_input[1:])\n",
        "        print(\"{} day input {}\".format(i,x_input))\n",
        "        x_input=x_input.reshape(1,-1)\n",
        "        x_input = x_input.reshape((1, n_steps, 1))\n",
        "        #print(x_input)\n",
        "        yhat = model.predict(x_input, verbose=0)\n",
        "        print(\"{} day output {}\".format(i,yhat))\n",
        "        temp_input.extend(yhat[0].tolist())\n",
        "        temp_input=temp_input[1:]\n",
        "        #print(temp_input)\n",
        "        lst_output.extend(yhat.tolist())\n",
        "        i=i+1\n",
        "    else:\n",
        "        x_input = x_input.reshape((1, n_steps,1))\n",
        "        yhat = model.predict(x_input, verbose=0)\n",
        "        print(yhat[0])\n",
        "        temp_input.extend(yhat[0].tolist())\n",
        "        print(len(temp_input))\n",
        "        lst_output.extend(yhat.tolist())\n",
        "        i=i+1\n"
      ]
    },
    {
      "cell_type": "code",
      "execution_count": 18,
      "metadata": {
        "colab": {
          "base_uri": "https://localhost:8080/",
          "height": 430
        },
        "id": "KSa_mX51a654",
        "outputId": "a17abc33-966c-4a6a-c645-f142e7e9ffb3"
      },
      "outputs": [
        {
          "data": {
            "image/png": "[encoded data removed]",
            "text/plain": [
              "<Figure size 640x480 with 1 Axes>"
            ]
          },
          "metadata": {},
          "output_type": "display_data"
        }
      ],
      "source": [
        "# 14.Vẽ hình\n",
        "\n",
        "train_data_index = pd.RangeIndex(start=0, stop=train_size, step=1)\n",
        "plt.plot(scaler.inverse_transform(train_data))\n",
        "test_data_index = pd.RangeIndex(start=train_size, stop=train_size+test_size, step=1)\n",
        "plt.plot(test_data_index,scaler.inverse_transform(test_data))\n",
        "test_data_index = pd.RangeIndex(start=train_size+101, stop=train_size+test_size, step=1)\n",
        "plt.plot(test_data_index,(y_pred))\n",
        "val_data_index = pd.RangeIndex(start=train_size+test_size, stop=train_size+test_size+val_size, step=1)\n",
        "plt.plot(val_data_index,scaler.inverse_transform(val_data))\n",
        "val_data_index = pd.RangeIndex(start=train_size+test_size+101, stop=train_size+test_size+val_size, step=1)\n",
        "plt.plot(val_data_index,y_pred_val)\n",
        "prediect_data_index = pd.RangeIndex(start=len(df1)-1, stop=len(df1)+29, step=1)\n",
        "plt.plot(prediect_data_index,scaler.inverse_transform(lst_output))\n",
        "plt.legend(['Train','Test','Predict','Validate','ValidatePred','Predict30days'])\n",
        "plt.show()"
      ]
    }
  ],
  "metadata": {
    "colab": {
      "provenance": []
    },
    "kernelspec": {
      "display_name": "Python 3",
      "name": "python3"
    },
    "language_info": {
      "codemirror_mode": {
        "name": "ipython",
        "version": 3
      },
      "file_extension": ".py",
      "mimetype": "text/x-python",
      "name": "python",
      "nbconvert_exporter": "python",
      "pygments_lexer": "ipython3",
      "version": "3.11.3"
    }
  },
  "nbformat": 4,
  "nbformat_minor": 0
}
