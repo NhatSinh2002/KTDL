{
  "cells": [
    {
      "cell_type": "code",
      "execution_count": 14,
      "metadata": {
        "colab": {
          "base_uri": "https://localhost:8080/"
        },
        "id": "FMDKda-XIUAK",
        "outputId": "83f83310-8d4b-4925-a7d3-764d810f45e1"
      },
      "outputs": [],
      "source": [
        "# 1. Import thư viện cần thiết\n",
        "import numpy as np\n",
        "import pandas as pd\n",
        "import matplotlib.pyplot as plt\n",
        "from sklearn.preprocessing import MinMaxScaler\n",
        "from keras.models import Sequential\n",
        "from keras.layers import Dense, GRU"
      ]
    },
    {
      "cell_type": "code",
      "execution_count": 15,
      "metadata": {
        "id": "aRm9GQ8KJJ5N"
      },
      "outputs": [],
      "source": [
        "# 2. Đọc file csv và gắng index với giá Close\n",
        "df = pd.read_csv('Dữ liệu Lịch sử GVR.csv')\n",
        "new_column_names = {'Ngày': 'Date', 'Lần cuối': 'Close', 'Mở': 'Open', 'Cao': 'High', 'Thấp': 'Low', '% Thay đổi': 'Volume'}\n",
        "df.rename(columns=new_column_names, inplace=True)\n",
        "\n",
        "from datetime import datetime, date \n",
        "\n",
        "df['Date'] = pd.to_datetime(df.Date, format = '%d/%m/%Y')\n",
        "df['Close'] = df['Close'].astype(str).apply(lambda x: float(x.replace(',', '')))\n",
        "df['Open'] = df['Open'].astype(str).apply(lambda x: float(x.replace(',', '')))\n",
        "df['High'] = df['High'].astype(str).apply(lambda x: float(x.replace(',', '')))\n",
        "df['Low'] = df['Low'].astype(str).apply(lambda x: float(x.replace(',', '')))\n",
        "def convert_to_number(x):\n",
        "      if 'M' in x:\n",
        "          return float(x.replace('M', '')) * 1000000\n",
        "      elif 'K' in x:\n",
        "          return float(x.replace('K', '')) * 1000\n",
        "      else:\n",
        "          return float(x)\n",
        "\n",
        "df.head().style.set_properties(subset=['Date'], **{'background-color': 'dodgerblue'})\n",
        "\n",
        "df1=df.reset_index()['Close']"
      ]
    },
    {
      "cell_type": "code",
      "execution_count": 16,
      "metadata": {
        "id": "RdVpDho2JgL5"
      },
      "outputs": [],
      "source": [
        "# 3. Scaler data\n",
        "scaler=MinMaxScaler(feature_range=(0,1))\n",
        "df1=scaler.fit_transform(np.array(df1).reshape(-1,1))"
      ]
    },
    {
      "cell_type": "code",
      "execution_count": 17,
      "metadata": {
        "id": "B5JXpenzJoR3"
      },
      "outputs": [],
      "source": [
        "# 4. Chia train test\n",
        "train_size = int(0.7 * len(df1))\n",
        "test_size = int(0.2 * len(df1))\n",
        "val_size = len(df1) - train_size - test_size\n",
        "\n",
        "train_data = df1[:train_size]\n",
        "test_data = df1[train_size:train_size+test_size]\n",
        "val_data = df1[train_size+test_size:]"
      ]
    },
    {
      "cell_type": "code",
      "execution_count": 18,
      "metadata": {
        "id": "yJfmuBORLSfC"
      },
      "outputs": [],
      "source": [
        "# 5. Hàm Create Dataset\n",
        "import numpy\n",
        "# convert an array of values into a dataset matrix\n",
        "def create_dataset(dataset, time_step=1):\n",
        "\tdataX, dataY = [], []\n",
        "\tfor i in range(len(dataset)-time_step-1):\n",
        "\t\ta = dataset[i:(i+time_step), 0]   ###i=0, X=0,1,2,3-----99   Y=100 \n",
        "\t\tdataX.append(a)\n",
        "\t\tdataY.append(dataset[i + time_step, 0])\n",
        "\treturn numpy.array(dataX), numpy.array(dataY)"
      ]
    },
    {
      "cell_type": "code",
      "execution_count": 19,
      "metadata": {
        "id": "e81cKq03LXFB"
      },
      "outputs": [],
      "source": [
        "#6. Reshape into X=t,t+1,t+2..t+99 and Y=t+100\n",
        "\n",
        "time_step = 100\n",
        "X_train, y_train = create_dataset(train_data, time_step)\n",
        "X_val, yval = create_dataset(val_data, time_step)\n",
        "X_test, ytest = create_dataset(test_data, time_step)"
      ]
    },
    {
      "cell_type": "code",
      "execution_count": 20,
      "metadata": {
        "id": "RdBVfku7O2qb"
      },
      "outputs": [],
      "source": [
        "# 7. Reshape input to be [samples, time steps, features] which is required for LSTM\n",
        "X_train =X_train.reshape(X_train.shape[0],X_train.shape[1] , 1)\n",
        "X_test = X_test.reshape(X_test.shape[0],X_test.shape[1] , 1)\n",
        "X_val = X_val.reshape(X_val.shape[0],X_val.shape[1] , 1)"
      ]
    },
    {
      "cell_type": "code",
      "execution_count": 21,
      "metadata": {
        "id": "sSfxrE7BO9vX"
      },
      "outputs": [],
      "source": [
        "# 8. Define GRU Model\n",
        "\n",
        "model = Sequential()\n",
        "model.add(GRU(64, input_shape=(time_step, 1)))\n",
        "model.add(Dense(1))\n",
        "model.compile(optimizer='adam', loss='mean_squared_error')"
      ]
    },
    {
      "cell_type": "code",
      "execution_count": 22,
      "metadata": {
        "colab": {
          "base_uri": "https://localhost:8080/"
        },
        "id": "zgfeujZSPEKr",
        "outputId": "5479b5c5-22d1-4e02-8803-d6637b0f9e03"
      },
      "outputs": [
        {
          "name": "stdout",
          "output_type": "stream",
          "text": [
            "Epoch 1/100\n",
            "13/13 [==============================] - 2s 56ms/step - loss: 0.2009 - val_loss: 0.0230\n",
            "Epoch 2/100\n",
            "13/13 [==============================] - 0s 30ms/step - loss: 0.0275 - val_loss: 0.0556\n",
            "Epoch 3/100\n",
            "13/13 [==============================] - 0s 33ms/step - loss: 0.0154 - val_loss: 0.0174\n",
            "Epoch 4/100\n",
            "13/13 [==============================] - 0s 31ms/step - loss: 0.0098 - val_loss: 0.0162\n",
            "Epoch 5/100\n",
            "13/13 [==============================] - 0s 31ms/step - loss: 0.0053 - val_loss: 0.0060\n",
            "Epoch 6/100\n",
            "13/13 [==============================] - 0s 30ms/step - loss: 0.0025 - val_loss: 0.0016\n",
            "Epoch 7/100\n",
            "13/13 [==============================] - 0s 30ms/step - loss: 0.0016 - val_loss: 2.5711e-04\n",
            "Epoch 8/100\n",
            "13/13 [==============================] - 0s 30ms/step - loss: 0.0015 - val_loss: 2.5449e-04\n",
            "Epoch 9/100\n",
            "13/13 [==============================] - 0s 30ms/step - loss: 0.0015 - val_loss: 2.8547e-04\n",
            "Epoch 10/100\n",
            "13/13 [==============================] - 0s 31ms/step - loss: 0.0014 - val_loss: 4.1405e-04\n",
            "Epoch 11/100\n",
            "13/13 [==============================] - 0s 30ms/step - loss: 0.0014 - val_loss: 4.3624e-04\n",
            "Epoch 12/100\n",
            "13/13 [==============================] - 0s 34ms/step - loss: 0.0013 - val_loss: 3.3398e-04\n",
            "Epoch 13/100\n",
            "13/13 [==============================] - 0s 32ms/step - loss: 0.0013 - val_loss: 3.2443e-04\n",
            "Epoch 14/100\n",
            "13/13 [==============================] - 0s 32ms/step - loss: 0.0013 - val_loss: 3.2140e-04\n",
            "Epoch 15/100\n",
            "13/13 [==============================] - 0s 32ms/step - loss: 0.0012 - val_loss: 3.3328e-04\n",
            "Epoch 16/100\n",
            "13/13 [==============================] - 0s 33ms/step - loss: 0.0012 - val_loss: 2.5493e-04\n",
            "Epoch 17/100\n",
            "13/13 [==============================] - 0s 31ms/step - loss: 0.0012 - val_loss: 2.7477e-04\n",
            "Epoch 18/100\n",
            "13/13 [==============================] - 0s 34ms/step - loss: 0.0012 - val_loss: 2.6633e-04\n",
            "Epoch 19/100\n",
            "13/13 [==============================] - 0s 32ms/step - loss: 0.0011 - val_loss: 2.5000e-04\n",
            "Epoch 20/100\n",
            "13/13 [==============================] - 1s 43ms/step - loss: 0.0011 - val_loss: 2.7065e-04\n",
            "Epoch 21/100\n",
            "13/13 [==============================] - 0s 31ms/step - loss: 0.0011 - val_loss: 2.6774e-04\n",
            "Epoch 22/100\n",
            "13/13 [==============================] - 0s 37ms/step - loss: 0.0011 - val_loss: 2.0344e-04\n",
            "Epoch 23/100\n",
            "13/13 [==============================] - 0s 34ms/step - loss: 0.0011 - val_loss: 2.3772e-04\n",
            "Epoch 24/100\n",
            "13/13 [==============================] - 1s 40ms/step - loss: 0.0011 - val_loss: 2.9783e-04\n",
            "Epoch 25/100\n",
            "13/13 [==============================] - 0s 37ms/step - loss: 0.0010 - val_loss: 2.4038e-04\n",
            "Epoch 26/100\n",
            "13/13 [==============================] - 0s 37ms/step - loss: 0.0010 - val_loss: 1.9923e-04\n",
            "Epoch 27/100\n",
            "13/13 [==============================] - 0s 35ms/step - loss: 0.0010 - val_loss: 2.0143e-04\n",
            "Epoch 28/100\n",
            "13/13 [==============================] - 0s 32ms/step - loss: 0.0010 - val_loss: 2.4253e-04\n",
            "Epoch 29/100\n",
            "13/13 [==============================] - 0s 32ms/step - loss: 0.0010 - val_loss: 2.0579e-04\n",
            "Epoch 30/100\n",
            "13/13 [==============================] - 0s 33ms/step - loss: 9.8229e-04 - val_loss: 1.6474e-04\n",
            "Epoch 31/100\n",
            "13/13 [==============================] - 0s 32ms/step - loss: 9.6606e-04 - val_loss: 1.9962e-04\n",
            "Epoch 32/100\n",
            "13/13 [==============================] - 0s 38ms/step - loss: 9.7732e-04 - val_loss: 2.6326e-04\n",
            "Epoch 33/100\n",
            "13/13 [==============================] - 0s 38ms/step - loss: 9.3936e-04 - val_loss: 2.0459e-04\n",
            "Epoch 34/100\n",
            "13/13 [==============================] - 0s 32ms/step - loss: 9.2171e-04 - val_loss: 1.5123e-04\n",
            "Epoch 35/100\n",
            "13/13 [==============================] - 0s 35ms/step - loss: 9.4332e-04 - val_loss: 1.5444e-04\n",
            "Epoch 36/100\n",
            "13/13 [==============================] - 0s 33ms/step - loss: 9.2037e-04 - val_loss: 1.5536e-04\n",
            "Epoch 37/100\n",
            "13/13 [==============================] - 0s 32ms/step - loss: 9.0030e-04 - val_loss: 1.5477e-04\n",
            "Epoch 38/100\n",
            "13/13 [==============================] - 0s 35ms/step - loss: 8.8319e-04 - val_loss: 1.5818e-04\n",
            "Epoch 39/100\n",
            "13/13 [==============================] - 0s 36ms/step - loss: 8.7009e-04 - val_loss: 1.7506e-04\n",
            "Epoch 40/100\n",
            "13/13 [==============================] - 0s 35ms/step - loss: 8.6337e-04 - val_loss: 1.7571e-04\n",
            "Epoch 41/100\n",
            "13/13 [==============================] - 0s 35ms/step - loss: 8.7214e-04 - val_loss: 1.5892e-04\n",
            "Epoch 42/100\n",
            "13/13 [==============================] - 0s 36ms/step - loss: 8.5104e-04 - val_loss: 1.4273e-04\n",
            "Epoch 43/100\n",
            "13/13 [==============================] - 0s 32ms/step - loss: 8.4980e-04 - val_loss: 1.2521e-04\n",
            "Epoch 44/100\n",
            "13/13 [==============================] - 0s 34ms/step - loss: 8.4650e-04 - val_loss: 1.8155e-04\n",
            "Epoch 45/100\n",
            "13/13 [==============================] - 1s 40ms/step - loss: 8.6394e-04 - val_loss: 1.8704e-04\n",
            "Epoch 46/100\n",
            "13/13 [==============================] - 0s 36ms/step - loss: 8.2525e-04 - val_loss: 1.5260e-04\n",
            "Epoch 47/100\n",
            "13/13 [==============================] - 0s 35ms/step - loss: 8.1497e-04 - val_loss: 1.5618e-04\n",
            "Epoch 48/100\n",
            "13/13 [==============================] - 0s 35ms/step - loss: 8.0053e-04 - val_loss: 1.4676e-04\n",
            "Epoch 49/100\n",
            "13/13 [==============================] - 0s 38ms/step - loss: 7.9739e-04 - val_loss: 1.4205e-04\n",
            "Epoch 50/100\n",
            "13/13 [==============================] - 0s 31ms/step - loss: 7.8880e-04 - val_loss: 1.3817e-04\n",
            "Epoch 51/100\n",
            "13/13 [==============================] - 0s 38ms/step - loss: 7.8594e-04 - val_loss: 1.4140e-04\n",
            "Epoch 52/100\n",
            "13/13 [==============================] - 0s 35ms/step - loss: 7.9635e-04 - val_loss: 1.3506e-04\n",
            "Epoch 53/100\n",
            "13/13 [==============================] - 0s 34ms/step - loss: 7.7486e-04 - val_loss: 1.4190e-04\n",
            "Epoch 54/100\n",
            "13/13 [==============================] - 0s 34ms/step - loss: 7.6433e-04 - val_loss: 1.2082e-04\n",
            "Epoch 55/100\n",
            "13/13 [==============================] - 0s 35ms/step - loss: 7.6328e-04 - val_loss: 1.1641e-04\n",
            "Epoch 56/100\n",
            "13/13 [==============================] - 0s 32ms/step - loss: 7.6887e-04 - val_loss: 1.1906e-04\n",
            "Epoch 57/100\n",
            "13/13 [==============================] - 0s 30ms/step - loss: 7.6328e-04 - val_loss: 1.3358e-04\n",
            "Epoch 58/100\n",
            "13/13 [==============================] - 0s 32ms/step - loss: 7.4266e-04 - val_loss: 1.3814e-04\n",
            "Epoch 59/100\n",
            "13/13 [==============================] - 0s 33ms/step - loss: 7.4451e-04 - val_loss: 1.2486e-04\n",
            "Epoch 60/100\n",
            "13/13 [==============================] - 0s 31ms/step - loss: 7.3618e-04 - val_loss: 1.4871e-04\n",
            "Epoch 61/100\n",
            "13/13 [==============================] - 0s 33ms/step - loss: 7.3170e-04 - val_loss: 1.2219e-04\n",
            "Epoch 62/100\n",
            "13/13 [==============================] - 0s 33ms/step - loss: 7.3017e-04 - val_loss: 1.2141e-04\n",
            "Epoch 63/100\n",
            "13/13 [==============================] - 0s 33ms/step - loss: 7.2239e-04 - val_loss: 1.1065e-04\n",
            "Epoch 64/100\n",
            "13/13 [==============================] - 0s 32ms/step - loss: 7.4191e-04 - val_loss: 1.2759e-04\n",
            "Epoch 65/100\n",
            "13/13 [==============================] - 0s 36ms/step - loss: 7.2219e-04 - val_loss: 1.1198e-04\n",
            "Epoch 66/100\n",
            "13/13 [==============================] - 0s 37ms/step - loss: 7.5309e-04 - val_loss: 1.2003e-04\n",
            "Epoch 67/100\n",
            "13/13 [==============================] - 0s 31ms/step - loss: 7.0679e-04 - val_loss: 1.4103e-04\n",
            "Epoch 68/100\n",
            "13/13 [==============================] - 0s 30ms/step - loss: 7.5544e-04 - val_loss: 1.2100e-04\n",
            "Epoch 69/100\n",
            "13/13 [==============================] - 0s 32ms/step - loss: 7.0289e-04 - val_loss: 1.4102e-04\n",
            "Epoch 70/100\n",
            "13/13 [==============================] - 0s 30ms/step - loss: 7.2867e-04 - val_loss: 1.2071e-04\n",
            "Epoch 71/100\n",
            "13/13 [==============================] - 0s 32ms/step - loss: 6.9636e-04 - val_loss: 1.3196e-04\n",
            "Epoch 72/100\n",
            "13/13 [==============================] - 0s 32ms/step - loss: 6.9601e-04 - val_loss: 1.0850e-04\n",
            "Epoch 73/100\n",
            "13/13 [==============================] - 0s 34ms/step - loss: 6.8326e-04 - val_loss: 1.2137e-04\n",
            "Epoch 74/100\n",
            "13/13 [==============================] - 0s 36ms/step - loss: 6.7791e-04 - val_loss: 1.0789e-04\n",
            "Epoch 75/100\n",
            "13/13 [==============================] - 0s 33ms/step - loss: 6.8305e-04 - val_loss: 1.1246e-04\n",
            "Epoch 76/100\n",
            "13/13 [==============================] - 0s 32ms/step - loss: 6.6880e-04 - val_loss: 1.6367e-04\n",
            "Epoch 77/100\n",
            "13/13 [==============================] - 0s 31ms/step - loss: 6.9751e-04 - val_loss: 1.1816e-04\n",
            "Epoch 78/100\n",
            "13/13 [==============================] - 0s 32ms/step - loss: 6.7518e-04 - val_loss: 1.1804e-04\n",
            "Epoch 79/100\n",
            "13/13 [==============================] - 0s 33ms/step - loss: 6.7942e-04 - val_loss: 1.5646e-04\n",
            "Epoch 80/100\n",
            "13/13 [==============================] - 0s 33ms/step - loss: 6.7347e-04 - val_loss: 1.1228e-04\n",
            "Epoch 81/100\n",
            "13/13 [==============================] - 0s 31ms/step - loss: 6.6601e-04 - val_loss: 1.0460e-04\n",
            "Epoch 82/100\n",
            "13/13 [==============================] - 0s 33ms/step - loss: 6.6506e-04 - val_loss: 1.3739e-04\n",
            "Epoch 83/100\n",
            "13/13 [==============================] - 0s 30ms/step - loss: 6.9689e-04 - val_loss: 1.1568e-04\n",
            "Epoch 84/100\n",
            "13/13 [==============================] - 0s 31ms/step - loss: 6.5325e-04 - val_loss: 1.1481e-04\n",
            "Epoch 85/100\n",
            "13/13 [==============================] - 0s 33ms/step - loss: 6.5144e-04 - val_loss: 1.0675e-04\n",
            "Epoch 86/100\n",
            "13/13 [==============================] - 0s 37ms/step - loss: 6.5471e-04 - val_loss: 1.1105e-04\n",
            "Epoch 87/100\n",
            "13/13 [==============================] - 0s 33ms/step - loss: 6.4678e-04 - val_loss: 1.1876e-04\n",
            "Epoch 88/100\n",
            "13/13 [==============================] - 0s 32ms/step - loss: 6.4678e-04 - val_loss: 1.0410e-04\n",
            "Epoch 89/100\n",
            "13/13 [==============================] - 0s 31ms/step - loss: 6.5392e-04 - val_loss: 1.1309e-04\n",
            "Epoch 90/100\n",
            "13/13 [==============================] - 0s 31ms/step - loss: 6.3919e-04 - val_loss: 1.0150e-04\n",
            "Epoch 91/100\n",
            "13/13 [==============================] - 0s 32ms/step - loss: 6.4637e-04 - val_loss: 1.1687e-04\n",
            "Epoch 92/100\n",
            "13/13 [==============================] - 0s 32ms/step - loss: 6.4420e-04 - val_loss: 1.0146e-04\n",
            "Epoch 93/100\n",
            "13/13 [==============================] - 0s 31ms/step - loss: 6.5148e-04 - val_loss: 1.0219e-04\n",
            "Epoch 94/100\n",
            "13/13 [==============================] - 0s 34ms/step - loss: 6.6568e-04 - val_loss: 1.1973e-04\n",
            "Epoch 95/100\n",
            "13/13 [==============================] - 0s 30ms/step - loss: 6.5643e-04 - val_loss: 1.0057e-04\n",
            "Epoch 96/100\n",
            "13/13 [==============================] - 0s 31ms/step - loss: 6.2427e-04 - val_loss: 1.0013e-04\n",
            "Epoch 97/100\n",
            "13/13 [==============================] - 0s 35ms/step - loss: 6.3581e-04 - val_loss: 1.0088e-04\n",
            "Epoch 98/100\n",
            "13/13 [==============================] - 0s 32ms/step - loss: 6.2829e-04 - val_loss: 1.0079e-04\n",
            "Epoch 99/100\n",
            "13/13 [==============================] - 0s 32ms/step - loss: 6.1732e-04 - val_loss: 1.0138e-04\n",
            "Epoch 100/100\n",
            "13/13 [==============================] - 0s 30ms/step - loss: 6.2978e-04 - val_loss: 1.0080e-04\n"
          ]
        },
        {
          "data": {
            "text/plain": [
              "<keras.callbacks.History at 0x1b9ddb18690>"
            ]
          },
          "execution_count": 22,
          "metadata": {},
          "output_type": "execute_result"
        }
      ],
      "source": [
        "# 9. Fit mô hình với dữ liệu train\n",
        "model.fit(X_train,y_train,validation_data=(X_test,ytest),epochs=100,batch_size=64,verbose=1)"
      ]
    },
    {
      "cell_type": "code",
      "execution_count": 23,
      "metadata": {
        "colab": {
          "base_uri": "https://localhost:8080/"
        },
        "id": "Rxx_KQSkQpBG",
        "outputId": "cf0fb697-d4e6-4c79-9af8-47462ffe5053"
      },
      "outputs": [
        {
          "name": "stdout",
          "output_type": "stream",
          "text": [
            "25/25 [==============================] - 1s 9ms/step\n",
            "5/5 [==============================] - 0s 8ms/step\n",
            "1/1 [==============================] - 0s 28ms/step\n"
          ]
        }
      ],
      "source": [
        "# 10. Dự báo dữ liệu test, val\n",
        "train_predict=model.predict(X_train)\n",
        "y_pred=model.predict(X_test)\n",
        "y_pred_val=model.predict(X_val)"
      ]
    },
    {
      "cell_type": "code",
      "execution_count": 24,
      "metadata": {
        "id": "5rwTN10LQ7rj"
      },
      "outputs": [],
      "source": [
        "# 11. Chuẩn hóa dữ liệu y_pred, y_pred_val\n",
        "train_predict=scaler.inverse_transform(train_predict)\n",
        "y_pred=scaler.inverse_transform(y_pred)\n",
        "y_pred_val=scaler.inverse_transform(y_pred_val)"
      ]
    },
    {
      "cell_type": "code",
      "execution_count": 25,
      "metadata": {
        "colab": {
          "base_uri": "https://localhost:8080/"
        },
        "id": "wu_9j94kRonD",
        "outputId": "e9f66eac-ad48-4734-d3f4-76ceb4ad436e"
      },
      "outputs": [
        {
          "name": "stdout",
          "output_type": "stream",
          "text": [
            "Validation RMSE: 10826.021847019489\n",
            "Testing RMSE: 9925.060360374115\n"
          ]
        }
      ],
      "source": [
        "# 12. Đánh giá độ chính xác thuật toán bằng RMSE\n",
        "valid_rmse = np.sqrt(np.mean((y_pred_val - yval)**2))\n",
        "test_rmse = np.sqrt(np.mean((y_pred - ytest)**2))\n",
        "print('Validation RMSE:', valid_rmse)\n",
        "print('Testing RMSE:', test_rmse)"
      ]
    },
    {
      "cell_type": "code",
      "execution_count": 27,
      "metadata": {
        "colab": {
          "base_uri": "https://localhost:8080/"
        },
        "id": "izQZ1iQyYl6N",
        "outputId": "d8643a60-72e4-4ce0-a746-5337af266a98"
      },
      "outputs": [
        {
          "name": "stdout",
          "output_type": "stream",
          "text": [
            "[0.10823198]\n",
            "68\n",
            "[0.10823198]\n",
            "69\n",
            "[0.10823198]\n",
            "70\n",
            "[0.10823198]\n",
            "71\n",
            "[0.10823198]\n",
            "72\n",
            "[0.10823198]\n",
            "73\n",
            "[0.10823198]\n",
            "74\n",
            "[0.10823198]\n",
            "75\n",
            "[0.10823198]\n",
            "76\n",
            "[0.10823198]\n",
            "77\n",
            "[0.10823198]\n",
            "78\n",
            "[0.10823198]\n",
            "79\n",
            "[0.10823198]\n",
            "80\n",
            "[0.10823198]\n",
            "81\n",
            "[0.10823198]\n",
            "82\n",
            "[0.10823198]\n",
            "83\n",
            "[0.10823198]\n",
            "84\n",
            "[0.10823198]\n",
            "85\n",
            "[0.10823198]\n",
            "86\n",
            "[0.10823198]\n",
            "87\n",
            "[0.10823198]\n",
            "88\n",
            "[0.10823198]\n",
            "89\n",
            "[0.10823198]\n",
            "90\n",
            "[0.10823198]\n",
            "91\n",
            "[0.10823198]\n",
            "92\n",
            "[0.10823198]\n",
            "93\n",
            "[0.10823198]\n",
            "94\n",
            "[0.10823198]\n",
            "95\n",
            "[0.10823198]\n",
            "96\n",
            "[0.10823198]\n",
            "97\n"
          ]
        }
      ],
      "source": [
        "# 13. Dự báo 30 ngày tiếp theo\n",
        "x_input=val_data[60:].reshape(1,-1)\n",
        "x_input.shape\n",
        "\n",
        "temp_input=list(x_input)\n",
        "temp_input=temp_input[0].tolist()\n",
        "\n",
        "from numpy import array\n",
        "\n",
        "lst_output=[]\n",
        "n_steps=67\n",
        "i=0\n",
        "while(i<30):\n",
        "    \n",
        "    if(len(temp_input)>100):\n",
        "        #print(temp_input)\n",
        "        x_input=np.array(temp_input[1:])\n",
        "        print(\"{} day input {}\".format(i,x_input))\n",
        "        x_input=x_input.reshape(1,-1)\n",
        "        x_input = x_input.reshape((1, n_steps, 1))\n",
        "        #print(x_input)\n",
        "        yhat = model.predict(x_input, verbose=0)\n",
        "        print(\"{} day output {}\".format(i,yhat))\n",
        "        temp_input.extend(yhat[0].tolist())\n",
        "        temp_input=temp_input[1:]\n",
        "        #print(temp_input)\n",
        "        lst_output.extend(yhat.tolist())\n",
        "        i=i+1\n",
        "    else:\n",
        "        x_input = x_input.reshape((1, n_steps,1))\n",
        "        yhat = model.predict(x_input, verbose=0)\n",
        "        print(yhat[0])\n",
        "        temp_input.extend(yhat[0].tolist())\n",
        "        print(len(temp_input))\n",
        "        lst_output.extend(yhat.tolist())\n",
        "        i=i+1\n"
      ]
    },
    {
      "cell_type": "code",
      "execution_count": 28,
      "metadata": {
        "colab": {
          "base_uri": "https://localhost:8080/",
          "height": 430
        },
        "id": "KSa_mX51a654",
        "outputId": "a17abc33-966c-4a6a-c645-f142e7e9ffb3"
      },
      "outputs": [
        {
          "data": {
            "image/png": "[encoded data removed]",
            "text/plain": [
              "<Figure size 640x480 with 1 Axes>"
            ]
          },
          "metadata": {},
          "output_type": "display_data"
        }
      ],
      "source": [
        "# 14.Vẽ hình\n",
        "\n",
        "train_data_index = pd.RangeIndex(start=0, stop=train_size, step=1)\n",
        "plt.plot(scaler.inverse_transform(train_data))\n",
        "test_data_index = pd.RangeIndex(start=train_size, stop=train_size+test_size, step=1)\n",
        "plt.plot(test_data_index,scaler.inverse_transform(test_data))\n",
        "test_data_index = pd.RangeIndex(start=train_size+101, stop=train_size+test_size, step=1)\n",
        "plt.plot(test_data_index,(y_pred))\n",
        "val_data_index = pd.RangeIndex(start=train_size+test_size, stop=train_size+test_size+val_size, step=1)\n",
        "plt.plot(val_data_index,scaler.inverse_transform(val_data))\n",
        "val_data_index = pd.RangeIndex(start=train_size+test_size+101, stop=train_size+test_size+val_size, step=1)\n",
        "plt.plot(val_data_index,y_pred_val)\n",
        "prediect_data_index = pd.RangeIndex(start=len(df1)-1, stop=len(df1)+29, step=1)\n",
        "plt.plot(prediect_data_index,scaler.inverse_transform(lst_output))\n",
        "plt.legend(['Train','Test','Predict','Validate','ValidatePred','Predict30days'])\n",
        "plt.show()"
      ]
    }
  ],
  "metadata": {
    "colab": {
      "provenance": []
    },
    "kernelspec": {
      "display_name": "Python 3",
      "name": "python3"
    },
    "language_info": {
      "codemirror_mode": {
        "name": "ipython",
        "version": 3
      },
      "file_extension": ".py",
      "mimetype": "text/x-python",
      "name": "python",
      "nbconvert_exporter": "python",
      "pygments_lexer": "ipython3",
      "version": "3.11.3"
    }
  },
  "nbformat": 4,
  "nbformat_minor": 0
}
