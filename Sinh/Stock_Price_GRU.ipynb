{
  "cells": [
    {
      "cell_type": "code",
      "execution_count": 80,
      "metadata": {
        "colab": {
          "base_uri": "https://localhost:8080/"
        },
        "id": "FMDKda-XIUAK",
        "outputId": "83f83310-8d4b-4925-a7d3-764d810f45e1"
      },
      "outputs": [],
      "source": [
        "# 1. Import thư viện cần thiết\n",
        "import numpy as np\n",
        "import pandas as pd\n",
        "import matplotlib.pyplot as plt\n",
        "from sklearn.preprocessing import MinMaxScaler\n",
        "from keras.models import Sequential\n",
        "from keras.layers import Dense, GRU"
      ]
    },
    {
      "cell_type": "code",
      "execution_count": 81,
      "metadata": {
        "id": "aRm9GQ8KJJ5N"
      },
      "outputs": [],
      "source": [
        "# 2. Đọc file csv và gắng index với giá Close\n",
        "df = pd.read_csv('Data_GVR.csv')\n",
        "new_column_names = {'Ngày': 'Date', 'Lần cuối': 'Close', 'Mở': 'Open', 'Cao': 'High', 'Thấp': 'Low', '% Thay đổi': 'Volume'}\n",
        "df.rename(columns=new_column_names, inplace=True)\n",
        "\n",
        "from datetime import datetime, date \n",
        "\n",
        "df['Date'] = pd.to_datetime(df.Date, format = '%d/%m/%Y')\n",
        "df['Close'] = df['Close'].astype(str).apply(lambda x: float(x.replace(',', '')))\n",
        "df['Open'] = df['Open'].astype(str).apply(lambda x: float(x.replace(',', '')))\n",
        "df['High'] = df['High'].astype(str).apply(lambda x: float(x.replace(',', '')))\n",
        "df['Low'] = df['Low'].astype(str).apply(lambda x: float(x.replace(',', '')))\n",
        "def convert_to_number(x):\n",
        "      if 'M' in x:\n",
        "          return float(x.replace('M', '')) * 1000000\n",
        "      elif 'K' in x:\n",
        "          return float(x.replace('K', '')) * 1000\n",
        "      else:\n",
        "          return float(x)\n",
        "\n",
        "df.head().style.set_properties(subset=['Date'], **{'background-color': 'dodgerblue'})\n",
        "\n",
        "df1=df.reset_index()['Close']"
      ]
    },
    {
      "cell_type": "code",
      "execution_count": 82,
      "metadata": {
        "id": "RdVpDho2JgL5"
      },
      "outputs": [],
      "source": [
        "# 3. Scaler data\n",
        "scaler=MinMaxScaler(feature_range=(0,1))\n",
        "df1=scaler.fit_transform(np.array(df1).reshape(-1,1))"
      ]
    },
    {
      "cell_type": "code",
      "execution_count": 83,
      "metadata": {
        "id": "B5JXpenzJoR3"
      },
      "outputs": [],
      "source": [
        "# 4. Chia train test\n",
        "train_size = int(0.7 * len(df1))\n",
        "test_size = int(0.2 * len(df1))\n",
        "val_size = len(df1) - train_size - test_size\n",
        "\n",
        "train_data = df1[:train_size]\n",
        "test_data = df1[train_size:train_size+test_size]\n",
        "val_data = df1[train_size+test_size:]"
      ]
    },
    {
      "cell_type": "code",
      "execution_count": 84,
      "metadata": {
        "id": "yJfmuBORLSfC"
      },
      "outputs": [],
      "source": [
        "# 5. Hàm Create Dataset\n",
        "import numpy\n",
        "# convert an array of values into a dataset matrix\n",
        "def create_dataset(dataset, time_step=1):\n",
        "\tdataX, dataY = [], []\n",
        "\tfor i in range(len(dataset)-time_step-1):\n",
        "\t\ta = dataset[i:(i+time_step), 0]   ###i=0, X=0,1,2,3-----99   Y=100 \n",
        "\t\tdataX.append(a)\n",
        "\t\tdataY.append(dataset[i + time_step, 0])\n",
        "\treturn numpy.array(dataX), numpy.array(dataY)"
      ]
    },
    {
      "cell_type": "code",
      "execution_count": 85,
      "metadata": {
        "id": "e81cKq03LXFB"
      },
      "outputs": [],
      "source": [
        "#6. Reshape into X=t,t+1,t+2..t+99 and Y=t+100\n",
        "\n",
        "time_step = 100\n",
        "X_train, y_train = create_dataset(train_data, time_step)\n",
        "X_val, yval = create_dataset(val_data, time_step)\n",
        "X_test, ytest = create_dataset(test_data, time_step)"
      ]
    },
    {
      "cell_type": "code",
      "execution_count": 86,
      "metadata": {
        "id": "RdBVfku7O2qb"
      },
      "outputs": [],
      "source": [
        "# 7. Reshape input to be [samples, time steps, features] which is required for LSTM\n",
        "X_train =X_train.reshape(X_train.shape[0],X_train.shape[1] , 1)\n",
        "X_test = X_test.reshape(X_test.shape[0],X_test.shape[1] , 1)\n",
        "X_val = X_val.reshape(X_val.shape[0],X_val.shape[1] , 1)"
      ]
    },
    {
      "cell_type": "code",
      "execution_count": 87,
      "metadata": {
        "id": "sSfxrE7BO9vX"
      },
      "outputs": [],
      "source": [
        "# 8. Define GRU Model\n",
        "\n",
        "model = Sequential()\n",
        "model.add(GRU(64, input_shape=(time_step, 1)))\n",
        "model.add(Dense(1))\n",
        "model.compile(optimizer='adam', loss='mean_squared_error')"
      ]
    },
    {
      "cell_type": "code",
      "execution_count": 88,
      "metadata": {
        "colab": {
          "base_uri": "https://localhost:8080/"
        },
        "id": "zgfeujZSPEKr",
        "outputId": "5479b5c5-22d1-4e02-8803-d6637b0f9e03"
      },
      "outputs": [
        {
          "name": "stdout",
          "output_type": "stream",
          "text": [
            "Epoch 1/100\n",
            "13/13 [==============================] - 2s 61ms/step - loss: 0.1055 - val_loss: 0.0307\n",
            "Epoch 2/100\n",
            "13/13 [==============================] - 0s 33ms/step - loss: 0.0178 - val_loss: 0.0253\n",
            "Epoch 3/100\n",
            "13/13 [==============================] - 0s 30ms/step - loss: 0.0079 - val_loss: 0.0078\n",
            "Epoch 4/100\n",
            "13/13 [==============================] - 0s 31ms/step - loss: 0.0049 - val_loss: 0.0077\n",
            "Epoch 5/100\n",
            "13/13 [==============================] - 0s 34ms/step - loss: 0.0027 - val_loss: 0.0018\n",
            "Epoch 6/100\n",
            "13/13 [==============================] - 0s 30ms/step - loss: 0.0015 - val_loss: 5.6720e-04\n",
            "Epoch 7/100\n",
            "13/13 [==============================] - 0s 31ms/step - loss: 0.0011 - val_loss: 1.3915e-04\n",
            "Epoch 8/100\n",
            "13/13 [==============================] - 0s 31ms/step - loss: 0.0011 - val_loss: 1.6042e-04\n",
            "Epoch 9/100\n",
            "13/13 [==============================] - 0s 32ms/step - loss: 0.0010 - val_loss: 1.3513e-04\n",
            "Epoch 10/100\n",
            "13/13 [==============================] - 0s 31ms/step - loss: 0.0010 - val_loss: 1.9882e-04\n",
            "Epoch 11/100\n",
            "13/13 [==============================] - 0s 31ms/step - loss: 9.9848e-04 - val_loss: 1.7772e-04\n",
            "Epoch 12/100\n",
            "13/13 [==============================] - 0s 31ms/step - loss: 9.7967e-04 - val_loss: 1.5817e-04\n",
            "Epoch 13/100\n",
            "13/13 [==============================] - 0s 31ms/step - loss: 9.5836e-04 - val_loss: 1.8815e-04\n",
            "Epoch 14/100\n",
            "13/13 [==============================] - 0s 31ms/step - loss: 9.4516e-04 - val_loss: 1.6429e-04\n",
            "Epoch 15/100\n",
            "13/13 [==============================] - 0s 30ms/step - loss: 9.4483e-04 - val_loss: 1.4102e-04\n",
            "Epoch 16/100\n",
            "13/13 [==============================] - 0s 31ms/step - loss: 9.5570e-04 - val_loss: 2.0245e-04\n",
            "Epoch 17/100\n",
            "13/13 [==============================] - 0s 32ms/step - loss: 9.1220e-04 - val_loss: 1.7610e-04\n",
            "Epoch 18/100\n",
            "13/13 [==============================] - 0s 35ms/step - loss: 8.8279e-04 - val_loss: 1.5669e-04\n",
            "Epoch 19/100\n",
            "13/13 [==============================] - 0s 35ms/step - loss: 8.6833e-04 - val_loss: 1.8576e-04\n",
            "Epoch 20/100\n",
            "13/13 [==============================] - 0s 32ms/step - loss: 8.7950e-04 - val_loss: 1.3451e-04\n",
            "Epoch 21/100\n",
            "13/13 [==============================] - 0s 32ms/step - loss: 8.5567e-04 - val_loss: 1.2667e-04\n",
            "Epoch 22/100\n",
            "13/13 [==============================] - 0s 31ms/step - loss: 8.2295e-04 - val_loss: 1.6557e-04\n",
            "Epoch 23/100\n",
            "13/13 [==============================] - 0s 31ms/step - loss: 8.5692e-04 - val_loss: 1.3056e-04\n",
            "Epoch 24/100\n",
            "13/13 [==============================] - 0s 31ms/step - loss: 8.3005e-04 - val_loss: 1.3434e-04\n",
            "Epoch 25/100\n",
            "13/13 [==============================] - 0s 32ms/step - loss: 8.1970e-04 - val_loss: 1.2680e-04\n",
            "Epoch 26/100\n",
            "13/13 [==============================] - 0s 32ms/step - loss: 7.9071e-04 - val_loss: 1.4768e-04\n",
            "Epoch 27/100\n",
            "13/13 [==============================] - 0s 35ms/step - loss: 7.9271e-04 - val_loss: 1.5842e-04\n",
            "Epoch 28/100\n",
            "13/13 [==============================] - 0s 32ms/step - loss: 7.7675e-04 - val_loss: 1.2650e-04\n",
            "Epoch 29/100\n",
            "13/13 [==============================] - 0s 32ms/step - loss: 7.7516e-04 - val_loss: 1.1781e-04\n",
            "Epoch 30/100\n",
            "13/13 [==============================] - 0s 32ms/step - loss: 7.6383e-04 - val_loss: 1.6491e-04\n",
            "Epoch 31/100\n",
            "13/13 [==============================] - 0s 32ms/step - loss: 7.8251e-04 - val_loss: 1.1354e-04\n",
            "Epoch 32/100\n",
            "13/13 [==============================] - 0s 32ms/step - loss: 7.4963e-04 - val_loss: 1.1094e-04\n",
            "Epoch 33/100\n",
            "13/13 [==============================] - 0s 32ms/step - loss: 7.6047e-04 - val_loss: 1.6699e-04\n",
            "Epoch 34/100\n",
            "13/13 [==============================] - 0s 34ms/step - loss: 7.4049e-04 - val_loss: 1.5733e-04\n",
            "Epoch 35/100\n",
            "13/13 [==============================] - 0s 32ms/step - loss: 7.2297e-04 - val_loss: 1.1754e-04\n",
            "Epoch 36/100\n",
            "13/13 [==============================] - 0s 32ms/step - loss: 7.4937e-04 - val_loss: 1.1901e-04\n",
            "Epoch 37/100\n",
            "13/13 [==============================] - 0s 32ms/step - loss: 7.1262e-04 - val_loss: 1.2534e-04\n",
            "Epoch 38/100\n",
            "13/13 [==============================] - 0s 32ms/step - loss: 7.1555e-04 - val_loss: 1.1257e-04\n",
            "Epoch 39/100\n",
            "13/13 [==============================] - 0s 32ms/step - loss: 7.0643e-04 - val_loss: 1.1716e-04\n",
            "Epoch 40/100\n",
            "13/13 [==============================] - 0s 33ms/step - loss: 6.9416e-04 - val_loss: 1.0801e-04\n",
            "Epoch 41/100\n",
            "13/13 [==============================] - 0s 32ms/step - loss: 7.0513e-04 - val_loss: 1.1504e-04\n",
            "Epoch 42/100\n",
            "13/13 [==============================] - 0s 35ms/step - loss: 6.9654e-04 - val_loss: 1.1248e-04\n",
            "Epoch 43/100\n",
            "13/13 [==============================] - 0s 33ms/step - loss: 6.8244e-04 - val_loss: 1.0638e-04\n",
            "Epoch 44/100\n",
            "13/13 [==============================] - 0s 33ms/step - loss: 6.8182e-04 - val_loss: 1.1601e-04\n",
            "Epoch 45/100\n",
            "13/13 [==============================] - 0s 34ms/step - loss: 6.9315e-04 - val_loss: 1.0527e-04\n",
            "Epoch 46/100\n",
            "13/13 [==============================] - 0s 35ms/step - loss: 7.0187e-04 - val_loss: 1.3830e-04\n",
            "Epoch 47/100\n",
            "13/13 [==============================] - 0s 35ms/step - loss: 6.6494e-04 - val_loss: 1.2371e-04\n",
            "Epoch 48/100\n",
            "13/13 [==============================] - 0s 34ms/step - loss: 6.6966e-04 - val_loss: 1.2372e-04\n",
            "Epoch 49/100\n",
            "13/13 [==============================] - 0s 37ms/step - loss: 6.6731e-04 - val_loss: 1.0132e-04\n",
            "Epoch 50/100\n",
            "13/13 [==============================] - 0s 33ms/step - loss: 6.6022e-04 - val_loss: 1.0874e-04\n",
            "Epoch 51/100\n",
            "13/13 [==============================] - 0s 37ms/step - loss: 6.6086e-04 - val_loss: 1.0452e-04\n",
            "Epoch 52/100\n",
            "13/13 [==============================] - 0s 35ms/step - loss: 6.6294e-04 - val_loss: 1.0242e-04\n",
            "Epoch 53/100\n",
            "13/13 [==============================] - 0s 35ms/step - loss: 6.7183e-04 - val_loss: 1.0079e-04\n",
            "Epoch 54/100\n",
            "13/13 [==============================] - 0s 32ms/step - loss: 6.5265e-04 - val_loss: 1.3153e-04\n",
            "Epoch 55/100\n",
            "13/13 [==============================] - 0s 34ms/step - loss: 6.3279e-04 - val_loss: 1.0056e-04\n",
            "Epoch 56/100\n",
            "13/13 [==============================] - 0s 37ms/step - loss: 6.5874e-04 - val_loss: 9.9228e-05\n",
            "Epoch 57/100\n",
            "13/13 [==============================] - 0s 32ms/step - loss: 6.4604e-04 - val_loss: 9.9641e-05\n",
            "Epoch 58/100\n",
            "13/13 [==============================] - 0s 32ms/step - loss: 6.3509e-04 - val_loss: 1.3662e-04\n",
            "Epoch 59/100\n",
            "13/13 [==============================] - 0s 33ms/step - loss: 6.3333e-04 - val_loss: 1.5530e-04\n",
            "Epoch 60/100\n",
            "13/13 [==============================] - 0s 32ms/step - loss: 6.6189e-04 - val_loss: 1.0696e-04\n",
            "Epoch 61/100\n",
            "13/13 [==============================] - 0s 32ms/step - loss: 6.4392e-04 - val_loss: 1.1859e-04\n",
            "Epoch 62/100\n",
            "13/13 [==============================] - 0s 33ms/step - loss: 6.2157e-04 - val_loss: 1.2094e-04\n",
            "Epoch 63/100\n",
            "13/13 [==============================] - 0s 35ms/step - loss: 6.2758e-04 - val_loss: 1.1826e-04\n",
            "Epoch 64/100\n",
            "13/13 [==============================] - 0s 34ms/step - loss: 6.1120e-04 - val_loss: 1.0544e-04\n",
            "Epoch 65/100\n",
            "13/13 [==============================] - 0s 32ms/step - loss: 6.2750e-04 - val_loss: 1.0054e-04\n",
            "Epoch 66/100\n",
            "13/13 [==============================] - 0s 33ms/step - loss: 6.2438e-04 - val_loss: 1.0339e-04\n",
            "Epoch 67/100\n",
            "13/13 [==============================] - 0s 31ms/step - loss: 6.1187e-04 - val_loss: 9.6213e-05\n",
            "Epoch 68/100\n",
            "13/13 [==============================] - 0s 32ms/step - loss: 6.0642e-04 - val_loss: 1.0422e-04\n",
            "Epoch 69/100\n",
            "13/13 [==============================] - 0s 32ms/step - loss: 7.4335e-04 - val_loss: 1.0164e-04\n",
            "Epoch 70/100\n",
            "13/13 [==============================] - 0s 36ms/step - loss: 7.0836e-04 - val_loss: 1.1396e-04\n",
            "Epoch 71/100\n",
            "13/13 [==============================] - 0s 32ms/step - loss: 5.9910e-04 - val_loss: 1.2235e-04\n",
            "Epoch 72/100\n",
            "13/13 [==============================] - 0s 32ms/step - loss: 6.1706e-04 - val_loss: 1.2069e-04\n",
            "Epoch 73/100\n",
            "13/13 [==============================] - 0s 32ms/step - loss: 6.3285e-04 - val_loss: 1.0992e-04\n",
            "Epoch 74/100\n",
            "13/13 [==============================] - 0s 33ms/step - loss: 6.0325e-04 - val_loss: 1.3734e-04\n",
            "Epoch 75/100\n",
            "13/13 [==============================] - 0s 33ms/step - loss: 6.0830e-04 - val_loss: 1.0758e-04\n",
            "Epoch 76/100\n",
            "13/13 [==============================] - 0s 32ms/step - loss: 5.9025e-04 - val_loss: 9.8833e-05\n",
            "Epoch 77/100\n",
            "13/13 [==============================] - 0s 32ms/step - loss: 5.8090e-04 - val_loss: 1.0275e-04\n",
            "Epoch 78/100\n",
            "13/13 [==============================] - 0s 32ms/step - loss: 5.8318e-04 - val_loss: 1.0769e-04\n",
            "Epoch 79/100\n",
            "13/13 [==============================] - 0s 32ms/step - loss: 5.8435e-04 - val_loss: 1.0121e-04\n",
            "Epoch 80/100\n",
            "13/13 [==============================] - 0s 32ms/step - loss: 6.0693e-04 - val_loss: 9.3948e-05\n",
            "Epoch 81/100\n",
            "13/13 [==============================] - 0s 32ms/step - loss: 5.8867e-04 - val_loss: 9.9079e-05\n",
            "Epoch 82/100\n",
            "13/13 [==============================] - 0s 32ms/step - loss: 5.9715e-04 - val_loss: 9.4908e-05\n",
            "Epoch 83/100\n",
            "13/13 [==============================] - 0s 32ms/step - loss: 5.7169e-04 - val_loss: 9.6678e-05\n",
            "Epoch 84/100\n",
            "13/13 [==============================] - 0s 35ms/step - loss: 5.7474e-04 - val_loss: 1.3271e-04\n",
            "Epoch 85/100\n",
            "13/13 [==============================] - 0s 33ms/step - loss: 6.1903e-04 - val_loss: 1.3153e-04\n",
            "Epoch 86/100\n",
            "13/13 [==============================] - 0s 32ms/step - loss: 6.0075e-04 - val_loss: 9.6021e-05\n",
            "Epoch 87/100\n",
            "13/13 [==============================] - 0s 32ms/step - loss: 5.6897e-04 - val_loss: 9.3527e-05\n",
            "Epoch 88/100\n",
            "13/13 [==============================] - 0s 33ms/step - loss: 5.8273e-04 - val_loss: 9.9030e-05\n",
            "Epoch 89/100\n",
            "13/13 [==============================] - 0s 32ms/step - loss: 5.7566e-04 - val_loss: 1.2399e-04\n",
            "Epoch 90/100\n",
            "13/13 [==============================] - 0s 32ms/step - loss: 6.2419e-04 - val_loss: 1.2102e-04\n",
            "Epoch 91/100\n",
            "13/13 [==============================] - 0s 36ms/step - loss: 5.9615e-04 - val_loss: 9.3878e-05\n",
            "Epoch 92/100\n",
            "13/13 [==============================] - 0s 32ms/step - loss: 5.6537e-04 - val_loss: 9.9131e-05\n",
            "Epoch 93/100\n",
            "13/13 [==============================] - 0s 32ms/step - loss: 5.5875e-04 - val_loss: 9.2807e-05\n",
            "Epoch 94/100\n",
            "13/13 [==============================] - 0s 32ms/step - loss: 5.6085e-04 - val_loss: 9.3640e-05\n",
            "Epoch 95/100\n",
            "13/13 [==============================] - 0s 33ms/step - loss: 5.5961e-04 - val_loss: 1.1681e-04\n",
            "Epoch 96/100\n",
            "13/13 [==============================] - 0s 32ms/step - loss: 5.8489e-04 - val_loss: 9.2281e-05\n",
            "Epoch 97/100\n",
            "13/13 [==============================] - 0s 33ms/step - loss: 6.0777e-04 - val_loss: 9.1459e-05\n",
            "Epoch 98/100\n",
            "13/13 [==============================] - 0s 33ms/step - loss: 5.9745e-04 - val_loss: 9.2424e-05\n",
            "Epoch 99/100\n",
            "13/13 [==============================] - 0s 32ms/step - loss: 5.6032e-04 - val_loss: 9.1601e-05\n",
            "Epoch 100/100\n",
            "13/13 [==============================] - 0s 32ms/step - loss: 5.8099e-04 - val_loss: 9.3507e-05\n"
          ]
        },
        {
          "data": {
            "text/plain": [
              "<keras.callbacks.History at 0x21c1b9f2e50>"
            ]
          },
          "execution_count": 88,
          "metadata": {},
          "output_type": "execute_result"
        }
      ],
      "source": [
        "# 9. Fit mô hình với dữ liệu train\n",
        "model.fit(X_train,y_train,validation_data=(X_test,ytest),epochs=100,batch_size=64,verbose=1)"
      ]
    },
    {
      "cell_type": "code",
      "execution_count": 89,
      "metadata": {
        "colab": {
          "base_uri": "https://localhost:8080/"
        },
        "id": "Rxx_KQSkQpBG",
        "outputId": "cf0fb697-d4e6-4c79-9af8-47462ffe5053"
      },
      "outputs": [
        {
          "name": "stdout",
          "output_type": "stream",
          "text": [
            "25/25 [==============================] - 1s 7ms/step\n",
            "5/5 [==============================] - 0s 7ms/step\n",
            "1/1 [==============================] - 0s 23ms/step\n"
          ]
        }
      ],
      "source": [
        "# 10. Dự báo dữ liệu test, val\n",
        "train_predict=model.predict(X_train)\n",
        "y_pred=model.predict(X_test)\n",
        "y_pred_val=model.predict(X_val)"
      ]
    },
    {
      "cell_type": "code",
      "execution_count": 90,
      "metadata": {
        "id": "5rwTN10LQ7rj"
      },
      "outputs": [],
      "source": [
        "# 11. Chuẩn hóa dữ liệu y_pred, y_pred_val\n",
        "train_predict=scaler.inverse_transform(train_predict)\n",
        "y_pred=scaler.inverse_transform(y_pred)\n",
        "y_pred_val=scaler.inverse_transform(y_pred_val)"
      ]
    },
    {
      "cell_type": "code",
      "execution_count": 91,
      "metadata": {
        "colab": {
          "base_uri": "https://localhost:8080/"
        },
        "id": "wu_9j94kRonD",
        "outputId": "e9f66eac-ad48-4734-d3f4-76ceb4ad436e"
      },
      "outputs": [
        {
          "name": "stdout",
          "output_type": "stream",
          "text": [
            "Validation RMSE: 10802.94039631875\n",
            "Testing RMSE: 9782.34053145773\n"
          ]
        }
      ],
      "source": [
        "# 12. Đánh giá độ chính xác thuật toán bằng RMSE\n",
        "valid_rmse = np.sqrt(np.mean((y_pred_val - yval)**2))\n",
        "test_rmse = np.sqrt(np.mean((y_pred - ytest)**2))\n",
        "print('Validation RMSE:', valid_rmse)\n",
        "print('Testing RMSE:', test_rmse)"
      ]
    },
    {
      "cell_type": "code",
      "execution_count": 95,
      "metadata": {
        "colab": {
          "base_uri": "https://localhost:8080/"
        },
        "id": "izQZ1iQyYl6N",
        "outputId": "d8643a60-72e4-4ce0-a746-5337af266a98"
      },
      "outputs": [
        {
          "name": "stdout",
          "output_type": "stream",
          "text": [
            "[0.10616055]\n",
            "66\n",
            "[0.10616055]\n",
            "67\n",
            "[0.10616055]\n",
            "68\n",
            "[0.10616055]\n",
            "69\n",
            "[0.10616055]\n",
            "70\n",
            "[0.10616055]\n",
            "71\n",
            "[0.10616055]\n",
            "72\n",
            "[0.10616055]\n",
            "73\n",
            "[0.10616055]\n",
            "74\n",
            "[0.10616055]\n",
            "75\n",
            "[0.10616055]\n",
            "76\n",
            "[0.10616055]\n",
            "77\n",
            "[0.10616055]\n",
            "78\n",
            "[0.10616055]\n",
            "79\n",
            "[0.10616055]\n",
            "80\n",
            "[0.10616055]\n",
            "81\n",
            "[0.10616055]\n",
            "82\n",
            "[0.10616055]\n",
            "83\n",
            "[0.10616055]\n",
            "84\n",
            "[0.10616055]\n",
            "85\n",
            "[0.10616055]\n",
            "86\n",
            "[0.10616055]\n",
            "87\n",
            "[0.10616055]\n",
            "88\n",
            "[0.10616055]\n",
            "89\n",
            "[0.10616055]\n",
            "90\n",
            "[0.10616055]\n",
            "91\n",
            "[0.10616055]\n",
            "92\n",
            "[0.10616055]\n",
            "93\n",
            "[0.10616055]\n",
            "94\n",
            "[0.10616055]\n",
            "95\n"
          ]
        }
      ],
      "source": [
        "# 13. Dự báo 30 ngày tiếp theo\n",
        "x_input=val_data[60:].reshape(1,-1)\n",
        "x_input.shape\n",
        "\n",
        "temp_input=list(x_input)\n",
        "temp_input=temp_input[0].tolist()\n",
        "\n",
        "from numpy import array\n",
        "\n",
        "lst_output=[]\n",
        "n_steps=65\n",
        "i=0\n",
        "while(i<30):\n",
        "    \n",
        "    if(len(temp_input)>100):\n",
        "        #print(temp_input)\n",
        "        x_input=np.array(temp_input[1:])\n",
        "        print(\"{} day input {}\".format(i,x_input))\n",
        "        x_input=x_input.reshape(1,-1)\n",
        "        x_input = x_input.reshape((1, n_steps, 1))\n",
        "        #print(x_input)\n",
        "        yhat = model.predict(x_input, verbose=0)\n",
        "        print(\"{} day output {}\".format(i,yhat))\n",
        "        temp_input.extend(yhat[0].tolist())\n",
        "        temp_input=temp_input[1:]\n",
        "        #print(temp_input)\n",
        "        lst_output.extend(yhat.tolist())\n",
        "        i=i+1\n",
        "    else:\n",
        "        x_input = x_input.reshape((1, n_steps,1))\n",
        "        yhat = model.predict(x_input, verbose=0)\n",
        "        print(yhat[0])\n",
        "        temp_input.extend(yhat[0].tolist())\n",
        "        print(len(temp_input))\n",
        "        lst_output.extend(yhat.tolist())\n",
        "        i=i+1\n"
      ]
    },
    {
      "cell_type": "code",
      "execution_count": 96,
      "metadata": {
        "colab": {
          "base_uri": "https://localhost:8080/",
          "height": 430
        },
        "id": "KSa_mX51a654",
        "outputId": "a17abc33-966c-4a6a-c645-f142e7e9ffb3"
      },
      "outputs": [
        {
          "data": {
            "image/png": "[encoded data removed]",
            "text/plain": [
              "<Figure size 640x480 with 1 Axes>"
            ]
          },
          "metadata": {},
          "output_type": "display_data"
        }
      ],
      "source": [
        "# 14.Vẽ hình\n",
        "\n",
        "train_data_index = pd.RangeIndex(start=0, stop=train_size, step=1)\n",
        "plt.plot(scaler.inverse_transform(train_data))\n",
        "test_data_index = pd.RangeIndex(start=train_size, stop=train_size+test_size, step=1)\n",
        "plt.plot(test_data_index,scaler.inverse_transform(test_data))\n",
        "test_data_index = pd.RangeIndex(start=train_size+101, stop=train_size+test_size, step=1)\n",
        "plt.plot(test_data_index,(y_pred))\n",
        "val_data_index = pd.RangeIndex(start=train_size+test_size, stop=train_size+test_size+val_size, step=1)\n",
        "plt.plot(val_data_index,scaler.inverse_transform(val_data))\n",
        "val_data_index = pd.RangeIndex(start=train_size+test_size+101, stop=train_size+test_size+val_size, step=1)\n",
        "plt.plot(val_data_index,y_pred_val)\n",
        "prediect_data_index = pd.RangeIndex(start=len(df1)-1, stop=len(df1)+29, step=1)\n",
        "plt.plot(prediect_data_index,scaler.inverse_transform(lst_output))\n",
        "plt.legend(['Train','Test','Predict','Validate','ValidatePred','Predict30days'])\n",
        "plt.show()"
      ]
    }
  ],
  "metadata": {
    "colab": {
      "provenance": []
    },
    "kernelspec": {
      "display_name": "Python 3",
      "name": "python3"
    },
    "language_info": {
      "codemirror_mode": {
        "name": "ipython",
        "version": 3
      },
      "file_extension": ".py",
      "mimetype": "text/x-python",
      "name": "python",
      "nbconvert_exporter": "python",
      "pygments_lexer": "ipython3",
      "version": "3.11.3"
    }
  },
  "nbformat": 4,
  "nbformat_minor": 0
}
