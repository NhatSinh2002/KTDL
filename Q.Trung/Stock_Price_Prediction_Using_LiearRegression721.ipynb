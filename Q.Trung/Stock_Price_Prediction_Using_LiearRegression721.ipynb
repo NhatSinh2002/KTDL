{
  "cells": [
    {
      "cell_type": "code",
      "execution_count": 81,
      "metadata": {
        "id": "MY7mRqJgs1Y0"
      },
      "outputs": [],
      "source": [
        "# 1. Các thư viện cần thiết\n",
        "import numpy as np\n",
        "import pandas as pd\n",
        "import matplotlib.pyplot as plt\n",
        "from sklearn.preprocessing import MinMaxScaler\n",
        "from sklearn.linear_model import LinearRegression"
      ]
    },
    {
      "cell_type": "code",
      "execution_count": 82,
      "metadata": {
        "id": "dHoKnuwCkozi"
      },
      "outputs": [],
      "source": [
        "df=pd.read_csv('../Dataset/HSG Historical Data.csv')"
      ]
    },
    {
      "cell_type": "code",
      "execution_count": 83,
      "metadata": {
        "colab": {
          "base_uri": "https://localhost:8080/"
        },
        "id": "7lVQZVdq2WL9",
        "outputId": "aca73011-018c-41ee-9367-137c26680498"
      },
      "outputs": [
        {
          "data": {
            "text/plain": [
              "Date        0\n",
              "Price       0\n",
              "Open        0\n",
              "High        0\n",
              "Low         0\n",
              "Vol.        0\n",
              "Change %    0\n",
              "dtype: int64"
            ]
          },
          "execution_count": 83,
          "metadata": {},
          "output_type": "execute_result"
        }
      ],
      "source": [
        "# Checking null value\n",
        "df.isnull().sum()"
      ]
    },
    {
      "cell_type": "code",
      "execution_count": 84,
      "metadata": {
        "colab": {
          "base_uri": "https://localhost:8080/"
        },
        "id": "ZcNm13Tl2tOW",
        "outputId": "1c95b017-e1ac-40c7-d23e-4f1e05a1bc70"
      },
      "outputs": [
        {
          "data": {
            "text/plain": [
              "Date        object\n",
              "Price       object\n",
              "Open        object\n",
              "High        object\n",
              "Low         object\n",
              "Vol.        object\n",
              "Change %    object\n",
              "dtype: object"
            ]
          },
          "execution_count": 84,
          "metadata": {},
          "output_type": "execute_result"
        }
      ],
      "source": [
        "df.dtypes"
      ]
    },
    {
      "cell_type": "code",
      "execution_count": 85,
      "metadata": {
        "id": "LmdQ3Ba02zVy"
      },
      "outputs": [],
      "source": [
        "# convert date field from string to Date format and make it index\n",
        "def tranformData(df: pd.DataFrame):\n",
        "  df['Date'] = pd.to_datetime(df.Date, format='%m/%d/%Y')\n",
        "  df['Price'] = df['Price'].astype(str).apply(lambda x: float(x.replace(',', '')))\n",
        "  df['Open'] = df['Open'].astype(str).apply(lambda x: float(x.replace(',', '')))\n",
        "  df['High'] = df['High'].astype(str).apply(lambda x: float(x.replace(',', '')))\n",
        "  df['Low'] = df['Low'].astype(str).apply(lambda x: float(x.replace(',', '')))\n",
        "  def convert_to_number(x):\n",
        "      if 'M' in x:\n",
        "          return float(x.replace('M', '')) * 1000000\n",
        "      elif 'K' in x:\n",
        "          return float(x.replace('K', '')) * 1000\n",
        "      else:\n",
        "          return float(x)\n",
        "  df['Vol.'] = df['Vol.'].apply(convert_to_number)\n",
        "  df['Change %'] = df['Change %'].apply(lambda x: float(x.strip('%'))/100)"
      ]
    },
    {
      "cell_type": "code",
      "execution_count": 86,
      "metadata": {
        "colab": {
          "base_uri": "https://localhost:8080/",
          "height": 423
        },
        "id": "hPyyIWyw3Brf",
        "outputId": "0ff6d7bf-37b8-4987-bcdc-a77292edc1a6"
      },
      "outputs": [
        {
          "data": {
            "text/html": [
              "<div>\n",
              "<style scoped>\n",
              "    .dataframe tbody tr th:only-of-type {\n",
              "        vertical-align: middle;\n",
              "    }\n",
              "\n",
              "    .dataframe tbody tr th {\n",
              "        vertical-align: top;\n",
              "    }\n",
              "\n",
              "    .dataframe thead th {\n",
              "        text-align: right;\n",
              "    }\n",
              "</style>\n",
              "<table border=\"1\" class=\"dataframe\">\n",
              "  <thead>\n",
              "    <tr style=\"text-align: right;\">\n",
              "      <th></th>\n",
              "      <th>Date</th>\n",
              "      <th>Price</th>\n",
              "      <th>Open</th>\n",
              "      <th>High</th>\n",
              "      <th>Low</th>\n",
              "      <th>Vol.</th>\n",
              "      <th>Change %</th>\n",
              "    </tr>\n",
              "  </thead>\n",
              "  <tbody>\n",
              "    <tr>\n",
              "      <th>0</th>\n",
              "      <td>2023-06-02</td>\n",
              "      <td>15500.0</td>\n",
              "      <td>15250.0</td>\n",
              "      <td>15700.0</td>\n",
              "      <td>15250.0</td>\n",
              "      <td>15490000.0</td>\n",
              "      <td>0.0197</td>\n",
              "    </tr>\n",
              "    <tr>\n",
              "      <th>1</th>\n",
              "      <td>2023-06-01</td>\n",
              "      <td>15200.0</td>\n",
              "      <td>15300.0</td>\n",
              "      <td>15350.0</td>\n",
              "      <td>14950.0</td>\n",
              "      <td>15030000.0</td>\n",
              "      <td>-0.0130</td>\n",
              "    </tr>\n",
              "    <tr>\n",
              "      <th>2</th>\n",
              "      <td>2023-05-31</td>\n",
              "      <td>15400.0</td>\n",
              "      <td>15800.0</td>\n",
              "      <td>15850.0</td>\n",
              "      <td>15200.0</td>\n",
              "      <td>36230000.0</td>\n",
              "      <td>-0.0284</td>\n",
              "    </tr>\n",
              "    <tr>\n",
              "      <th>3</th>\n",
              "      <td>2023-05-30</td>\n",
              "      <td>15850.0</td>\n",
              "      <td>15800.0</td>\n",
              "      <td>16000.0</td>\n",
              "      <td>15600.0</td>\n",
              "      <td>13350000.0</td>\n",
              "      <td>0.0096</td>\n",
              "    </tr>\n",
              "    <tr>\n",
              "      <th>4</th>\n",
              "      <td>2023-05-29</td>\n",
              "      <td>15700.0</td>\n",
              "      <td>15500.0</td>\n",
              "      <td>15700.0</td>\n",
              "      <td>15350.0</td>\n",
              "      <td>9600000.0</td>\n",
              "      <td>0.0228</td>\n",
              "    </tr>\n",
              "    <tr>\n",
              "      <th>...</th>\n",
              "      <td>...</td>\n",
              "      <td>...</td>\n",
              "      <td>...</td>\n",
              "      <td>...</td>\n",
              "      <td>...</td>\n",
              "      <td>...</td>\n",
              "      <td>...</td>\n",
              "    </tr>\n",
              "    <tr>\n",
              "      <th>1366</th>\n",
              "      <td>2017-12-07</td>\n",
              "      <td>14666.1</td>\n",
              "      <td>15098.3</td>\n",
              "      <td>15184.8</td>\n",
              "      <td>14550.9</td>\n",
              "      <td>5520000.0</td>\n",
              "      <td>-0.0155</td>\n",
              "    </tr>\n",
              "    <tr>\n",
              "      <th>1367</th>\n",
              "      <td>2017-12-06</td>\n",
              "      <td>14896.6</td>\n",
              "      <td>14464.4</td>\n",
              "      <td>15069.5</td>\n",
              "      <td>14320.4</td>\n",
              "      <td>9470000.0</td>\n",
              "      <td>0.0258</td>\n",
              "    </tr>\n",
              "    <tr>\n",
              "      <th>1368</th>\n",
              "      <td>2017-12-05</td>\n",
              "      <td>14522.1</td>\n",
              "      <td>15040.7</td>\n",
              "      <td>15242.4</td>\n",
              "      <td>14522.1</td>\n",
              "      <td>12280000.0</td>\n",
              "      <td>-0.0175</td>\n",
              "    </tr>\n",
              "    <tr>\n",
              "      <th>1369</th>\n",
              "      <td>2017-12-04</td>\n",
              "      <td>14781.4</td>\n",
              "      <td>14061.0</td>\n",
              "      <td>14781.4</td>\n",
              "      <td>13830.5</td>\n",
              "      <td>13710000.0</td>\n",
              "      <td>0.0688</td>\n",
              "    </tr>\n",
              "    <tr>\n",
              "      <th>1370</th>\n",
              "      <td>2017-12-01</td>\n",
              "      <td>13830.5</td>\n",
              "      <td>13772.9</td>\n",
              "      <td>13917.0</td>\n",
              "      <td>13657.6</td>\n",
              "      <td>4410000.0</td>\n",
              "      <td>0.0084</td>\n",
              "    </tr>\n",
              "  </tbody>\n",
              "</table>\n",
              "<p>1371 rows × 7 columns</p>\n",
              "</div>"
            ],
            "text/plain": [
              "           Date    Price     Open     High      Low        Vol.  Change %\n",
              "0    2023-06-02  15500.0  15250.0  15700.0  15250.0  15490000.0    0.0197\n",
              "1    2023-06-01  15200.0  15300.0  15350.0  14950.0  15030000.0   -0.0130\n",
              "2    2023-05-31  15400.0  15800.0  15850.0  15200.0  36230000.0   -0.0284\n",
              "3    2023-05-30  15850.0  15800.0  16000.0  15600.0  13350000.0    0.0096\n",
              "4    2023-05-29  15700.0  15500.0  15700.0  15350.0   9600000.0    0.0228\n",
              "...         ...      ...      ...      ...      ...         ...       ...\n",
              "1366 2017-12-07  14666.1  15098.3  15184.8  14550.9   5520000.0   -0.0155\n",
              "1367 2017-12-06  14896.6  14464.4  15069.5  14320.4   9470000.0    0.0258\n",
              "1368 2017-12-05  14522.1  15040.7  15242.4  14522.1  12280000.0   -0.0175\n",
              "1369 2017-12-04  14781.4  14061.0  14781.4  13830.5  13710000.0    0.0688\n",
              "1370 2017-12-01  13830.5  13772.9  13917.0  13657.6   4410000.0    0.0084\n",
              "\n",
              "[1371 rows x 7 columns]"
            ]
          },
          "execution_count": 86,
          "metadata": {},
          "output_type": "execute_result"
        }
      ],
      "source": [
        "tranformData(df)\n",
        "df"
      ]
    },
    {
      "cell_type": "code",
      "execution_count": 87,
      "metadata": {
        "colab": {
          "base_uri": "https://localhost:8080/",
          "height": 455
        },
        "id": "xR7wFqXV2-G4",
        "outputId": "fae815ae-b543-4b92-e59e-2c42f152da28"
      },
      "outputs": [
        {
          "data": {
            "text/html": [
              "<div>\n",
              "<style scoped>\n",
              "    .dataframe tbody tr th:only-of-type {\n",
              "        vertical-align: middle;\n",
              "    }\n",
              "\n",
              "    .dataframe tbody tr th {\n",
              "        vertical-align: top;\n",
              "    }\n",
              "\n",
              "    .dataframe thead th {\n",
              "        text-align: right;\n",
              "    }\n",
              "</style>\n",
              "<table border=\"1\" class=\"dataframe\">\n",
              "  <thead>\n",
              "    <tr style=\"text-align: right;\">\n",
              "      <th></th>\n",
              "      <th>Price</th>\n",
              "      <th>Open</th>\n",
              "      <th>High</th>\n",
              "      <th>Low</th>\n",
              "      <th>Vol.</th>\n",
              "      <th>Change %</th>\n",
              "    </tr>\n",
              "    <tr>\n",
              "      <th>Date</th>\n",
              "      <th></th>\n",
              "      <th></th>\n",
              "      <th></th>\n",
              "      <th></th>\n",
              "      <th></th>\n",
              "      <th></th>\n",
              "    </tr>\n",
              "  </thead>\n",
              "  <tbody>\n",
              "    <tr>\n",
              "      <th>2017-12-01</th>\n",
              "      <td>13830.5</td>\n",
              "      <td>13772.9</td>\n",
              "      <td>13917.0</td>\n",
              "      <td>13657.6</td>\n",
              "      <td>4410000.0</td>\n",
              "      <td>0.0084</td>\n",
              "    </tr>\n",
              "    <tr>\n",
              "      <th>2017-12-04</th>\n",
              "      <td>14781.4</td>\n",
              "      <td>14061.0</td>\n",
              "      <td>14781.4</td>\n",
              "      <td>13830.5</td>\n",
              "      <td>13710000.0</td>\n",
              "      <td>0.0688</td>\n",
              "    </tr>\n",
              "    <tr>\n",
              "      <th>2017-12-05</th>\n",
              "      <td>14522.1</td>\n",
              "      <td>15040.7</td>\n",
              "      <td>15242.4</td>\n",
              "      <td>14522.1</td>\n",
              "      <td>12280000.0</td>\n",
              "      <td>-0.0175</td>\n",
              "    </tr>\n",
              "    <tr>\n",
              "      <th>2017-12-06</th>\n",
              "      <td>14896.6</td>\n",
              "      <td>14464.4</td>\n",
              "      <td>15069.5</td>\n",
              "      <td>14320.4</td>\n",
              "      <td>9470000.0</td>\n",
              "      <td>0.0258</td>\n",
              "    </tr>\n",
              "    <tr>\n",
              "      <th>2017-12-07</th>\n",
              "      <td>14666.1</td>\n",
              "      <td>15098.3</td>\n",
              "      <td>15184.8</td>\n",
              "      <td>14550.9</td>\n",
              "      <td>5520000.0</td>\n",
              "      <td>-0.0155</td>\n",
              "    </tr>\n",
              "    <tr>\n",
              "      <th>...</th>\n",
              "      <td>...</td>\n",
              "      <td>...</td>\n",
              "      <td>...</td>\n",
              "      <td>...</td>\n",
              "      <td>...</td>\n",
              "      <td>...</td>\n",
              "    </tr>\n",
              "    <tr>\n",
              "      <th>2023-05-29</th>\n",
              "      <td>15700.0</td>\n",
              "      <td>15500.0</td>\n",
              "      <td>15700.0</td>\n",
              "      <td>15350.0</td>\n",
              "      <td>9600000.0</td>\n",
              "      <td>0.0228</td>\n",
              "    </tr>\n",
              "    <tr>\n",
              "      <th>2023-05-30</th>\n",
              "      <td>15850.0</td>\n",
              "      <td>15800.0</td>\n",
              "      <td>16000.0</td>\n",
              "      <td>15600.0</td>\n",
              "      <td>13350000.0</td>\n",
              "      <td>0.0096</td>\n",
              "    </tr>\n",
              "    <tr>\n",
              "      <th>2023-05-31</th>\n",
              "      <td>15400.0</td>\n",
              "      <td>15800.0</td>\n",
              "      <td>15850.0</td>\n",
              "      <td>15200.0</td>\n",
              "      <td>36230000.0</td>\n",
              "      <td>-0.0284</td>\n",
              "    </tr>\n",
              "    <tr>\n",
              "      <th>2023-06-01</th>\n",
              "      <td>15200.0</td>\n",
              "      <td>15300.0</td>\n",
              "      <td>15350.0</td>\n",
              "      <td>14950.0</td>\n",
              "      <td>15030000.0</td>\n",
              "      <td>-0.0130</td>\n",
              "    </tr>\n",
              "    <tr>\n",
              "      <th>2023-06-02</th>\n",
              "      <td>15500.0</td>\n",
              "      <td>15250.0</td>\n",
              "      <td>15700.0</td>\n",
              "      <td>15250.0</td>\n",
              "      <td>15490000.0</td>\n",
              "      <td>0.0197</td>\n",
              "    </tr>\n",
              "  </tbody>\n",
              "</table>\n",
              "<p>1371 rows × 6 columns</p>\n",
              "</div>"
            ],
            "text/plain": [
              "              Price     Open     High      Low        Vol.  Change %\n",
              "Date                                                                \n",
              "2017-12-01  13830.5  13772.9  13917.0  13657.6   4410000.0    0.0084\n",
              "2017-12-04  14781.4  14061.0  14781.4  13830.5  13710000.0    0.0688\n",
              "2017-12-05  14522.1  15040.7  15242.4  14522.1  12280000.0   -0.0175\n",
              "2017-12-06  14896.6  14464.4  15069.5  14320.4   9470000.0    0.0258\n",
              "2017-12-07  14666.1  15098.3  15184.8  14550.9   5520000.0   -0.0155\n",
              "...             ...      ...      ...      ...         ...       ...\n",
              "2023-05-29  15700.0  15500.0  15700.0  15350.0   9600000.0    0.0228\n",
              "2023-05-30  15850.0  15800.0  16000.0  15600.0  13350000.0    0.0096\n",
              "2023-05-31  15400.0  15800.0  15850.0  15200.0  36230000.0   -0.0284\n",
              "2023-06-01  15200.0  15300.0  15350.0  14950.0  15030000.0   -0.0130\n",
              "2023-06-02  15500.0  15250.0  15700.0  15250.0  15490000.0    0.0197\n",
              "\n",
              "[1371 rows x 6 columns]"
            ]
          },
          "execution_count": 87,
          "metadata": {},
          "output_type": "execute_result"
        }
      ],
      "source": [
        "df=df.set_index('Date')\n",
        "df = df.sort_index()\n",
        "df"
      ]
    },
    {
      "cell_type": "code",
      "execution_count": 88,
      "metadata": {
        "id": "95_g2Nef58d2"
      },
      "outputs": [],
      "source": [
        "df = df[['Price']]\n",
        "df = df.dropna() # Drop missing values\n",
        "df = df.reset_index(drop=True) # Reset the index\n",
        "\n",
        "# Split the data into training, testing, and validation sets\n",
        "train_size = int(0.6 * len(df))\n",
        "test_size = int(0.2 * len(df))\n",
        "val_size = len(df) - train_size - test_size\n",
        "\n",
        "train_data = df[:train_size]\n",
        "test_data = df[train_size:train_size+test_size]\n",
        "val_data = df[train_size+test_size:]"
      ]
    },
    {
      "cell_type": "code",
      "execution_count": 89,
      "metadata": {
        "colab": {
          "base_uri": "https://localhost:8080/",
          "height": 74
        },
        "id": "pW6pD-uztwy9",
        "outputId": "8685928a-01a0-48a1-8060-263b85623190"
      },
      "outputs": [
        {
          "data": {
            "text/html": [
              "<style>#sk-container-id-7 {color: black;background-color: white;}#sk-container-id-7 pre{padding: 0;}#sk-container-id-7 div.sk-toggleable {background-color: white;}#sk-container-id-7 label.sk-toggleable__label {cursor: pointer;display: block;width: 100%;margin-bottom: 0;padding: 0.3em;box-sizing: border-box;text-align: center;}#sk-container-id-7 label.sk-toggleable__label-arrow:before {content: \"▸\";float: left;margin-right: 0.25em;color: #696969;}#sk-container-id-7 label.sk-toggleable__label-arrow:hover:before {color: black;}#sk-container-id-7 div.sk-estimator:hover label.sk-toggleable__label-arrow:before {color: black;}#sk-container-id-7 div.sk-toggleable__content {max-height: 0;max-width: 0;overflow: hidden;text-align: left;background-color: #f0f8ff;}#sk-container-id-7 div.sk-toggleable__content pre {margin: 0.2em;color: black;border-radius: 0.25em;background-color: #f0f8ff;}#sk-container-id-7 input.sk-toggleable__control:checked~div.sk-toggleable__content {max-height: 200px;max-width: 100%;overflow: auto;}#sk-container-id-7 input.sk-toggleable__control:checked~label.sk-toggleable__label-arrow:before {content: \"▾\";}#sk-container-id-7 div.sk-estimator input.sk-toggleable__control:checked~label.sk-toggleable__label {background-color: #d4ebff;}#sk-container-id-7 div.sk-label input.sk-toggleable__control:checked~label.sk-toggleable__label {background-color: #d4ebff;}#sk-container-id-7 input.sk-hidden--visually {border: 0;clip: rect(1px 1px 1px 1px);clip: rect(1px, 1px, 1px, 1px);height: 1px;margin: -1px;overflow: hidden;padding: 0;position: absolute;width: 1px;}#sk-container-id-7 div.sk-estimator {font-family: monospace;background-color: #f0f8ff;border: 1px dotted black;border-radius: 0.25em;box-sizing: border-box;margin-bottom: 0.5em;}#sk-container-id-7 div.sk-estimator:hover {background-color: #d4ebff;}#sk-container-id-7 div.sk-parallel-item::after {content: \"\";width: 100%;border-bottom: 1px solid gray;flex-grow: 1;}#sk-container-id-7 div.sk-label:hover label.sk-toggleable__label {background-color: #d4ebff;}#sk-container-id-7 div.sk-serial::before {content: \"\";position: absolute;border-left: 1px solid gray;box-sizing: border-box;top: 0;bottom: 0;left: 50%;z-index: 0;}#sk-container-id-7 div.sk-serial {display: flex;flex-direction: column;align-items: center;background-color: white;padding-right: 0.2em;padding-left: 0.2em;position: relative;}#sk-container-id-7 div.sk-item {position: relative;z-index: 1;}#sk-container-id-7 div.sk-parallel {display: flex;align-items: stretch;justify-content: center;background-color: white;position: relative;}#sk-container-id-7 div.sk-item::before, #sk-container-id-7 div.sk-parallel-item::before {content: \"\";position: absolute;border-left: 1px solid gray;box-sizing: border-box;top: 0;bottom: 0;left: 50%;z-index: -1;}#sk-container-id-7 div.sk-parallel-item {display: flex;flex-direction: column;z-index: 1;position: relative;background-color: white;}#sk-container-id-7 div.sk-parallel-item:first-child::after {align-self: flex-end;width: 50%;}#sk-container-id-7 div.sk-parallel-item:last-child::after {align-self: flex-start;width: 50%;}#sk-container-id-7 div.sk-parallel-item:only-child::after {width: 0;}#sk-container-id-7 div.sk-dashed-wrapped {border: 1px dashed gray;margin: 0 0.4em 0.5em 0.4em;box-sizing: border-box;padding-bottom: 0.4em;background-color: white;}#sk-container-id-7 div.sk-label label {font-family: monospace;font-weight: bold;display: inline-block;line-height: 1.2em;}#sk-container-id-7 div.sk-label-container {text-align: center;}#sk-container-id-7 div.sk-container {/* jupyter's `normalize.less` sets `[hidden] { display: none; }` but bootstrap.min.css set `[hidden] { display: none !important; }` so we also need the `!important` here to be able to override the default hidden behavior on the sphinx rendered scikit-learn.org. See: https://github.com/scikit-learn/scikit-learn/issues/21755 */display: inline-block !important;position: relative;}#sk-container-id-7 div.sk-text-repr-fallback {display: none;}</style><div id=\"sk-container-id-7\" class=\"sk-top-container\"><div class=\"sk-text-repr-fallback\"><pre>LinearRegression()</pre><b>In a Jupyter environment, please rerun this cell to show the HTML representation or trust the notebook. <br />On GitHub, the HTML representation is unable to render, please try loading this page with nbviewer.org.</b></div><div class=\"sk-container\" hidden><div class=\"sk-item\"><div class=\"sk-estimator sk-toggleable\"><input class=\"sk-toggleable__control sk-hidden--visually\" id=\"sk-estimator-id-7\" type=\"checkbox\" checked><label for=\"sk-estimator-id-7\" class=\"sk-toggleable__label sk-toggleable__label-arrow\">LinearRegression</label><div class=\"sk-toggleable__content\"><pre>LinearRegression()</pre></div></div></div></div></div>"
            ],
            "text/plain": [
              "LinearRegression()"
            ]
          },
          "execution_count": 89,
          "metadata": {},
          "output_type": "execute_result"
        }
      ],
      "source": [
        "# 3. Quá trình Training\n",
        "x_train = np.array(train_data.index).reshape(-1, 1)\n",
        "y_train = np.array(train_data['Price'])\n",
        "\n",
        "# Train the linear regression model\n",
        "model = LinearRegression()\n",
        "model.fit(x_train, y_train)\n"
      ]
    },
    {
      "cell_type": "code",
      "execution_count": 90,
      "metadata": {
        "id": "zBLl7xQH1Pzr"
      },
      "outputs": [],
      "source": [
        "# 4. Quá trình testing \n",
        "x_test = np.array(test_data.index).reshape(-1, 1)\n",
        "y_test = np.array(test_data['Price'])\n",
        "y_pred = model.predict(x_test)\n",
        "\n",
        "# 5. Quá trình Validate\n",
        "x_val= np.array(val_data.index).reshape(-1, 1)\n",
        "y_val = np.array(val_data['Price'])\n",
        "y_pred_val =  model.predict(x_val)"
      ]
    },
    {
      "cell_type": "code",
      "execution_count": 91,
      "metadata": {
        "colab": {
          "base_uri": "https://localhost:8080/"
        },
        "id": "cRO5SM6-5hno",
        "outputId": "446e37d8-dd84-4ccb-8b84-eb87ee8552df"
      },
      "outputs": [
        {
          "name": "stdout",
          "output_type": "stream",
          "text": [
            "Predicted closing prices for the next 30 days:\n",
            "[12296.375324   12300.22949466 12304.08366532 12307.93783599\n",
            " 12311.79200665 12315.64617731 12319.50034797 12323.35451863\n",
            " 12327.20868929 12331.06285995 12334.91703061 12338.77120128\n",
            " 12342.62537194 12346.4795426  12350.33371326 12354.18788392\n",
            " 12358.04205458 12361.89622524 12365.7503959  12369.60456657\n",
            " 12373.45873723 12377.31290789 12381.16707855 12385.02124921\n",
            " 12388.87541987 12392.72959053 12396.58376119 12400.43793186\n",
            " 12404.29210252 12408.14627318]\n"
          ]
        }
      ],
      "source": [
        "# 6. Quá trình tạo index predict 30 ngày tiếp theo\n",
        "last_index =  df.index[-1]\n",
        "last_data = pd.RangeIndex(start=last_index, stop=last_index+30, step=1)\n",
        "\n",
        "# Create an array of 30 consecutive integers starting from last_index\n",
        "x_next_30_days = np.array(range(last_index+1, last_index+31)).reshape(-1, 1)\n",
        "\n",
        "# Predict the closing prices for the next 30 days\n",
        "y_next_30_days = model.predict(x_next_30_days)\n",
        "\n",
        "# Print the predicted closing prices for the next 30 days\n",
        "print('Predicted closing prices for the next 30 days:')\n",
        "print(y_next_30_days)"
      ]
    },
    {
      "cell_type": "code",
      "execution_count": 92,
      "metadata": {
        "colab": {
          "base_uri": "https://localhost:8080/"
        },
        "id": "CV3Jipv273MV",
        "outputId": "06dd6861-8ee3-4e79-fc6c-2e8e16aabb15"
      },
      "outputs": [
        {
          "name": "stdout",
          "output_type": "stream",
          "text": [
            "Validation RMSE: 4250.150295000698\n",
            "Testing RMSE: 21215.44069708637\n",
            "Validation MAPE: 0.22685286493749038\n",
            "Testing MAPE: 0.6501053954765321\n"
          ]
        }
      ],
      "source": [
        "# 7. Đánh giá độ chính xác validate, test\n",
        "# 7. Đánh giá độ chính xác validate, test\n",
        "from sklearn.metrics import mean_absolute_percentage_error\n",
        "vail_mape = mean_absolute_percentage_error(y_val, y_pred_val)\n",
        "test_mape = mean_absolute_percentage_error(y_test, y_pred)\n",
        "valid_rmse = np.sqrt(np.mean((y_pred_val - y_val)**2))\n",
        "test_rmse = np.sqrt(np.mean((y_pred - y_test)**2))\n",
        "print('Validation RMSE:', valid_rmse)\n",
        "print('Testing RMSE:', test_rmse)\n",
        "print('Validation MAPE:', vail_mape)\n",
        "print('Testing MAPE:', test_mape)"
      ]
    },
    {
      "cell_type": "code",
      "execution_count": 93,
      "metadata": {
        "colab": {
          "base_uri": "https://localhost:8080/",
          "height": 465
        },
        "id": "np2DKBS_GZhj",
        "outputId": "92503a3f-3b09-4487-8b2d-01f398c4c192"
      },
      "outputs": [
        {
          "name": "stdout",
          "output_type": "stream",
          "text": [
            "Validation RMSE: 4250.150295000698\n",
            "Testing RMSE: 21215.44069708637\n"
          ]
        },
        {
          "data": {
            "image/png": "[encoded data removed]",
            "text/plain": [
              "<Figure size 640x480 with 1 Axes>"
            ]
          },
          "metadata": {},
          "output_type": "display_data"
        }
      ],
      "source": [
        "# 8. Tính RMSE\n",
        "valid_rmse = np.sqrt(np.mean((y_pred_val - y_val)**2))\n",
        "test_rmse = np.sqrt(np.mean((y_pred - y_test)**2))\n",
        "print('Validation RMSE:', valid_rmse)\n",
        "print('Testing RMSE:', test_rmse)\n",
        "\n",
        "# 9.Vẽ hình\n",
        "plt.plot(train_data.index, train_data['Price'])\n",
        "plt.plot(test_data.index, test_data['Price'])\n",
        "plt.plot(test_data.index, y_pred)\n",
        "plt.plot(val_data.index, y_pred_val)\n",
        "plt.plot(last_data,y_next_30_days)\n",
        "plt.legend(['Train', 'Test', 'Predictions','Validate','Next30Day'])\n",
        "plt.show()"
      ]
    }
  ],
  "metadata": {
    "accelerator": "GPU",
    "colab": {
      "gpuType": "T4",
      "provenance": []
    },
    "gpuClass": "standard",
    "kernelspec": {
      "display_name": "Python 3",
      "name": "python3"
    },
    "language_info": {
      "codemirror_mode": {
        "name": "ipython",
        "version": 3
      },
      "file_extension": ".py",
      "mimetype": "text/x-python",
      "name": "python",
      "nbconvert_exporter": "python",
      "pygments_lexer": "ipython3",
      "version": "3.11.2"
    }
  },
  "nbformat": 4,
  "nbformat_minor": 0
}
